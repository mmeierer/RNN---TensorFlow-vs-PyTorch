{
  "nbformat": 4,
  "nbformat_minor": 0,
  "metadata": {
    "colab": {
      "name": "rnn_pytorch.ipynb",
      "provenance": [],
      "collapsed_sections": [],
      "machine_shape": "hm",
      "include_colab_link": true
    },
    "kernelspec": {
      "name": "python3",
      "display_name": "Python 3"
    },
    "accelerator": "GPU"
  },
  "cells": [
    {
      "cell_type": "markdown",
      "metadata": {
        "id": "view-in-github",
        "colab_type": "text"
      },
      "source": [
        "<a href=\"https://colab.research.google.com/github/mmeierer/RNN---TensorFlow-vs-PyTorch/blob/main/rnn_pytorch.ipynb\" target=\"_parent\"><img src=\"https://colab.research.google.com/assets/colab-badge.svg\" alt=\"Open In Colab\"/></a>"
      ]
    },
    {
      "cell_type": "markdown",
      "metadata": {
        "id": "MJ31gTXJ9FAo"
      },
      "source": [
        "# Time series prediction using an RNN with PyTorch"
      ]
    },
    {
      "cell_type": "markdown",
      "metadata": {
        "id": "em3qmb5J9NBY"
      },
      "source": [
        "## 1. Import & Preprocessing"
      ]
    },
    {
      "cell_type": "markdown",
      "metadata": {
        "id": "RcLVulXD9Sq0"
      },
      "source": [
        "### a) Importing modules"
      ]
    },
    {
      "cell_type": "code",
      "metadata": {
        "id": "GgwSrLIa_FW0"
      },
      "source": [
        "# Load required packages - data handling & plotting\n",
        "import pandas as pd\n",
        "import tensorflow as tf\n",
        "import numpy as np\n",
        "import matplotlib.pyplot as plt\n",
        "import seaborn as sns\n",
        "from sklearn.preprocessing import MinMaxScaler\n",
        "\n",
        "# Load required packages - deep learning \n",
        "import torch\n",
        "import torch.nn as nn\n",
        "import torch.optim as optim"
      ],
      "execution_count": 1,
      "outputs": []
    },
    {
      "cell_type": "markdown",
      "metadata": {
        "id": "xf27__wO9b1g"
      },
      "source": [
        "### b) Importing data"
      ]
    },
    {
      "cell_type": "code",
      "metadata": {
        "id": "U2N6tCAU-0kf",
        "colab": {
          "base_uri": "https://localhost:8080/",
          "height": 195
        },
        "outputId": "d86b1c62-ca23-4614-ed98-b0f63d963878"
      },
      "source": [
        "flight_data = sns.load_dataset(\"flights\")\n",
        "flight_data.head()"
      ],
      "execution_count": 2,
      "outputs": [
        {
          "output_type": "execute_result",
          "data": {
            "text/html": [
              "<div>\n",
              "<style scoped>\n",
              "    .dataframe tbody tr th:only-of-type {\n",
              "        vertical-align: middle;\n",
              "    }\n",
              "\n",
              "    .dataframe tbody tr th {\n",
              "        vertical-align: top;\n",
              "    }\n",
              "\n",
              "    .dataframe thead th {\n",
              "        text-align: right;\n",
              "    }\n",
              "</style>\n",
              "<table border=\"1\" class=\"dataframe\">\n",
              "  <thead>\n",
              "    <tr style=\"text-align: right;\">\n",
              "      <th></th>\n",
              "      <th>year</th>\n",
              "      <th>month</th>\n",
              "      <th>passengers</th>\n",
              "    </tr>\n",
              "  </thead>\n",
              "  <tbody>\n",
              "    <tr>\n",
              "      <th>0</th>\n",
              "      <td>1949</td>\n",
              "      <td>Jan</td>\n",
              "      <td>112</td>\n",
              "    </tr>\n",
              "    <tr>\n",
              "      <th>1</th>\n",
              "      <td>1949</td>\n",
              "      <td>Feb</td>\n",
              "      <td>118</td>\n",
              "    </tr>\n",
              "    <tr>\n",
              "      <th>2</th>\n",
              "      <td>1949</td>\n",
              "      <td>Mar</td>\n",
              "      <td>132</td>\n",
              "    </tr>\n",
              "    <tr>\n",
              "      <th>3</th>\n",
              "      <td>1949</td>\n",
              "      <td>Apr</td>\n",
              "      <td>129</td>\n",
              "    </tr>\n",
              "    <tr>\n",
              "      <th>4</th>\n",
              "      <td>1949</td>\n",
              "      <td>May</td>\n",
              "      <td>121</td>\n",
              "    </tr>\n",
              "  </tbody>\n",
              "</table>\n",
              "</div>"
            ],
            "text/plain": [
              "   year month  passengers\n",
              "0  1949   Jan         112\n",
              "1  1949   Feb         118\n",
              "2  1949   Mar         132\n",
              "3  1949   Apr         129\n",
              "4  1949   May         121"
            ]
          },
          "metadata": {
            "tags": []
          },
          "execution_count": 2
        }
      ]
    },
    {
      "cell_type": "code",
      "metadata": {
        "id": "JjftvVzf8XH8",
        "colab": {
          "base_uri": "https://localhost:8080/"
        },
        "outputId": "46878d79-14c6-4959-ef29-eb43d86762b5"
      },
      "source": [
        "flight_data.shape"
      ],
      "execution_count": 3,
      "outputs": [
        {
          "output_type": "execute_result",
          "data": {
            "text/plain": [
              "(144, 3)"
            ]
          },
          "metadata": {
            "tags": []
          },
          "execution_count": 3
        }
      ]
    },
    {
      "cell_type": "code",
      "metadata": {
        "id": "Gnde1SASbl6B",
        "colab": {
          "base_uri": "https://localhost:8080/",
          "height": 367
        },
        "outputId": "de87dacb-6950-4796-df08-980043ed2fa1"
      },
      "source": [
        "fig_size = plt.rcParams[\"figure.figsize\"]\n",
        "fig_size[0] = 15\n",
        "fig_size[1] = 5\n",
        "plt.rcParams[\"figure.figsize\"] = fig_size\n",
        "plt.title('Month vs Passenger')\n",
        "plt.ylabel('Total Passengers')\n",
        "plt.xlabel('Months')\n",
        "plt.grid(True)\n",
        "plt.autoscale(axis='x',tight=True)\n",
        "plt.plot(flight_data['passengers'])"
      ],
      "execution_count": 4,
      "outputs": [
        {
          "output_type": "execute_result",
          "data": {
            "text/plain": [
              "[<matplotlib.lines.Line2D at 0x7fdcc7e80e10>]"
            ]
          },
          "metadata": {
            "tags": []
          },
          "execution_count": 4
        },
        {
          "output_type": "display_data",
          "data": {
            "image/png": "[encoded data removed]",
            "text/plain": [
              "<Figure size 1080x360 with 1 Axes>"
            ]
          },
          "metadata": {
            "tags": [],
            "needs_background": "light"
          }
        }
      ]
    },
    {
      "cell_type": "markdown",
      "metadata": {
        "id": "NU4YV9PX9j-n"
      },
      "source": [
        "### c) Data preparation"
      ]
    },
    {
      "cell_type": "code",
      "metadata": {
        "id": "RR37OzOYb1fH"
      },
      "source": [
        "data = flight_data['passengers']"
      ],
      "execution_count": 5,
      "outputs": []
    },
    {
      "cell_type": "code",
      "metadata": {
        "id": "k_3cTogub8Xf"
      },
      "source": [
        "test_size = 12\n",
        "\n",
        "x_train = data[:-test_size].values.astype(float)\n",
        "x_test = data[-test_size:].values.astype(float)"
      ],
      "execution_count": 6,
      "outputs": []
    },
    {
      "cell_type": "code",
      "metadata": {
        "id": "qyJuoFW0dNt1",
        "colab": {
          "base_uri": "https://localhost:8080/"
        },
        "outputId": "d2033a4f-cdc5-4a40-d492-7f0a89dc21e4"
      },
      "source": [
        "x_train.shape"
      ],
      "execution_count": 7,
      "outputs": [
        {
          "output_type": "execute_result",
          "data": {
            "text/plain": [
              "(132,)"
            ]
          },
          "metadata": {
            "tags": []
          },
          "execution_count": 7
        }
      ]
    },
    {
      "cell_type": "code",
      "metadata": {
        "id": "XTb-oZx4dPc2",
        "colab": {
          "base_uri": "https://localhost:8080/"
        },
        "outputId": "9323d668-ba9d-46e1-a4c1-3dfac33023ee"
      },
      "source": [
        "x_test.shape"
      ],
      "execution_count": 8,
      "outputs": [
        {
          "output_type": "execute_result",
          "data": {
            "text/plain": [
              "(12,)"
            ]
          },
          "metadata": {
            "tags": []
          },
          "execution_count": 8
        }
      ]
    },
    {
      "cell_type": "code",
      "metadata": {
        "id": "KM48DMDz_fpc"
      },
      "source": [
        "scaler = MinMaxScaler(feature_range=(-1, 1))\n",
        "x_train = scaler.fit_transform(x_train.reshape(-1, 1))"
      ],
      "execution_count": 9,
      "outputs": []
    },
    {
      "cell_type": "code",
      "metadata": {
        "id": "I9mUZBxHc6Ii",
        "colab": {
          "base_uri": "https://localhost:8080/"
        },
        "outputId": "c9d58612-1283-466f-a11f-57d6dd7286f4"
      },
      "source": [
        "x_train.shape"
      ],
      "execution_count": 10,
      "outputs": [
        {
          "output_type": "execute_result",
          "data": {
            "text/plain": [
              "(132, 1)"
            ]
          },
          "metadata": {
            "tags": []
          },
          "execution_count": 10
        }
      ]
    },
    {
      "cell_type": "markdown",
      "metadata": {
        "id": "cpyhiurU-NCF"
      },
      "source": [
        "## 2. Model specific data preparation"
      ]
    },
    {
      "cell_type": "markdown",
      "metadata": {
        "id": "Y4EsssDG-Thm"
      },
      "source": [
        "### a) Load the data"
      ]
    },
    {
      "cell_type": "code",
      "metadata": {
        "id": "4zqyZltIdyoI"
      },
      "source": [
        "x_train_pt = torch.FloatTensor(x_train).squeeze()"
      ],
      "execution_count": 11,
      "outputs": []
    },
    {
      "cell_type": "code",
      "metadata": {
        "id": "iIi1r5a0G4af",
        "colab": {
          "base_uri": "https://localhost:8080/"
        },
        "outputId": "638009b5-8b17-4114-f7f7-d87e64b6e840"
      },
      "source": [
        "x_train_pt.shape"
      ],
      "execution_count": 12,
      "outputs": [
        {
          "output_type": "execute_result",
          "data": {
            "text/plain": [
              "torch.Size([132])"
            ]
          },
          "metadata": {
            "tags": []
          },
          "execution_count": 12
        }
      ]
    },
    {
      "cell_type": "code",
      "metadata": {
        "id": "3MuUTDY1dsU0"
      },
      "source": [
        "def create_sequences(input_data, window=12):\n",
        "    seq = []\n",
        "    L = len(input_data)\n",
        "    for i in range(L-window):\n",
        "        train_seq = input_data[i:i+window]\n",
        "        train_label = input_data[i+window:i+window+1]\n",
        "        seq.append((train_seq ,train_label))\n",
        "    return seq"
      ],
      "execution_count": 13,
      "outputs": []
    },
    {
      "cell_type": "code",
      "metadata": {
        "id": "6NihxXiPdr47"
      },
      "source": [
        "train_seq_pt = create_sequences(x_train_pt)"
      ],
      "execution_count": 14,
      "outputs": []
    },
    {
      "cell_type": "code",
      "metadata": {
        "id": "cR3uXrUWjErs",
        "colab": {
          "base_uri": "https://localhost:8080/"
        },
        "outputId": "9abdc264-1af0-4181-ee42-027ee6b9b377"
      },
      "source": [
        "len(train_seq_pt)"
      ],
      "execution_count": 15,
      "outputs": [
        {
          "output_type": "execute_result",
          "data": {
            "text/plain": [
              "120"
            ]
          },
          "metadata": {
            "tags": []
          },
          "execution_count": 15
        }
      ]
    },
    {
      "cell_type": "markdown",
      "metadata": {
        "id": "F8owQyL7-dqH"
      },
      "source": [
        "### b) Tensor view of the data"
      ]
    },
    {
      "cell_type": "code",
      "metadata": {
        "id": "TdAooKHJdYT1",
        "colab": {
          "base_uri": "https://localhost:8080/"
        },
        "outputId": "1fd089cb-0153-493e-fd57-baa12d47748a"
      },
      "source": [
        "train_seq_pt[0]"
      ],
      "execution_count": 16,
      "outputs": [
        {
          "output_type": "execute_result",
          "data": {
            "text/plain": [
              "(tensor([-0.9648, -0.9385, -0.8769, -0.8901, -0.9253, -0.8637, -0.8066, -0.8066,\n",
              "         -0.8593, -0.9341, -1.0000, -0.9385]), tensor([-0.9516]))"
            ]
          },
          "metadata": {
            "tags": []
          },
          "execution_count": 16
        }
      ]
    },
    {
      "cell_type": "markdown",
      "metadata": {
        "id": "m9YOzlYG-ck5"
      },
      "source": [
        "## 3. Model definition"
      ]
    },
    {
      "cell_type": "markdown",
      "metadata": {
        "id": "ytn83jHz-nP8"
      },
      "source": [
        "### a) Build the model"
      ]
    },
    {
      "cell_type": "code",
      "metadata": {
        "id": "3_sfQE_NwnxE"
      },
      "source": [
        "def init_weights(self):\n",
        "        for m in self.modules():\n",
        "            if type(m) in [nn.Linear, nn.LSTM]:\n",
        "                for name, param in m.named_parameters():\n",
        "                    if 'weight_ih' in name or name == 'weight':\n",
        "                        torch.nn.init.uniform_(param.data, -1,1)\n",
        "                    elif 'weight_hh' in name:\n",
        "                        torch.nn.init.orthogonal_(param.data)\n",
        "                    elif 'bias' in name:\n",
        "                        param.data.fill_(0)"
      ],
      "execution_count": 17,
      "outputs": []
    },
    {
      "cell_type": "code",
      "metadata": {
        "id": "y3g29sbf4pOc"
      },
      "source": [
        "class LSTM_PT(nn.Module):\n",
        "    def __init__(self, input_size=1, hidden_layer_size=100, output_size=1):\n",
        "        super().__init__()\n",
        "        self.hidden_layer_size = hidden_layer_size\n",
        "        self.lstm = nn.LSTM(input_size, hidden_layer_size)\n",
        "        self.linear = nn.Linear(hidden_layer_size, output_size)\n",
        "\n",
        "    def forward(self, inputs):\n",
        "        h0, c0 = self.init_hidden(inputs)\n",
        "        lstm_out, (hn, cn) = self.lstm(inputs.view(len(inputs) ,-1, 1))\n",
        "        predictions = self.linear(lstm_out.view(len(inputs), -1))\n",
        "        return predictions[-1]\n",
        "\n",
        "    def init_hidden(self, x):\n",
        "        h0 = torch.zeros(1,1,self.hidden_layer_size)\n",
        "        c0 = torch.zeros(1,1,self.hidden_layer_size)\n",
        "        return [t for t in (h0, c0)]\n",
        "\n",
        "model_pt = LSTM_PT()"
      ],
      "execution_count": 18,
      "outputs": []
    },
    {
      "cell_type": "code",
      "metadata": {
        "id": "qJ06U-KLQkKL",
        "colab": {
          "base_uri": "https://localhost:8080/"
        },
        "outputId": "86877c7e-5317-4f24-afec-d3a1c1641665"
      },
      "source": [
        "model_pt.apply(init_weights)"
      ],
      "execution_count": 19,
      "outputs": [
        {
          "output_type": "execute_result",
          "data": {
            "text/plain": [
              "LSTM_PT(\n",
              "  (lstm): LSTM(1, 100)\n",
              "  (linear): Linear(in_features=100, out_features=1, bias=True)\n",
              ")"
            ]
          },
          "metadata": {
            "tags": []
          },
          "execution_count": 19
        }
      ]
    },
    {
      "cell_type": "markdown",
      "metadata": {
        "id": "RBSeEscN-tXC"
      },
      "source": [
        "### b) Inspect the model"
      ]
    },
    {
      "cell_type": "code",
      "metadata": {
        "id": "ZK_kE88xKdJk",
        "colab": {
          "base_uri": "https://localhost:8080/"
        },
        "outputId": "fbe58ad7-894b-49de-bb65-068ce6c6159d"
      },
      "source": [
        "params_pt = model_pt.named_parameters()\n",
        "for name, param in params_pt:\n",
        "  print(name)"
      ],
      "execution_count": 20,
      "outputs": [
        {
          "output_type": "stream",
          "text": [
            "lstm.weight_ih_l0\n",
            "lstm.weight_hh_l0\n",
            "lstm.bias_ih_l0\n",
            "lstm.bias_hh_l0\n",
            "linear.weight\n",
            "linear.bias\n"
          ],
          "name": "stdout"
        }
      ]
    },
    {
      "cell_type": "markdown",
      "metadata": {
        "id": "KnHCVUvw-0XR"
      },
      "source": [
        "### c) Inspect the first hidden layer"
      ]
    },
    {
      "cell_type": "code",
      "metadata": {
        "id": "7kEWL_RDLevS",
        "colab": {
          "base_uri": "https://localhost:8080/"
        },
        "outputId": "9d222b19-710e-482a-a122-1767dfb922da"
      },
      "source": [
        "model_pt.lstm._parameters['weight_ih_l0']"
      ],
      "execution_count": 21,
      "outputs": [
        {
          "output_type": "execute_result",
          "data": {
            "text/plain": [
              "Parameter containing:\n",
              "tensor([[-0.5166],\n",
              "        [ 0.6708],\n",
              "        [ 0.4491],\n",
              "        [-0.3411],\n",
              "        [ 0.2410],\n",
              "        [-0.0507],\n",
              "        [ 0.9830],\n",
              "        [ 0.2330],\n",
              "        [-0.8370],\n",
              "        [ 0.6381],\n",
              "        [-0.5378],\n",
              "        [ 0.1410],\n",
              "        [ 0.9453],\n",
              "        [ 0.9464],\n",
              "        [-0.7492],\n",
              "        [ 0.5484],\n",
              "        [-0.4564],\n",
              "        [-0.0374],\n",
              "        [-0.2377],\n",
              "        [-0.2031],\n",
              "        [ 0.2918],\n",
              "        [-0.3824],\n",
              "        [-0.6939],\n",
              "        [ 0.6686],\n",
              "        [ 0.0075],\n",
              "        [ 0.6120],\n",
              "        [-0.4711],\n",
              "        [-0.2174],\n",
              "        [ 0.3275],\n",
              "        [-0.0676],\n",
              "        [-0.7249],\n",
              "        [-0.3762],\n",
              "        [-0.2630],\n",
              "        [ 0.2026],\n",
              "        [ 0.4343],\n",
              "        [ 0.5647],\n",
              "        [ 0.2159],\n",
              "        [-0.7060],\n",
              "        [-0.2601],\n",
              "        [ 0.6705],\n",
              "        [ 0.9981],\n",
              "        [ 0.1990],\n",
              "        [ 0.0689],\n",
              "        [-0.9328],\n",
              "        [ 0.6019],\n",
              "        [ 0.9590],\n",
              "        [ 0.9705],\n",
              "        [-0.9622],\n",
              "        [-0.8823],\n",
              "        [ 0.0045],\n",
              "        [-0.5794],\n",
              "        [ 0.1279],\n",
              "        [ 0.7680],\n",
              "        [-0.9562],\n",
              "        [-0.6815],\n",
              "        [-0.5164],\n",
              "        [-0.9360],\n",
              "        [-0.2836],\n",
              "        [-0.6127],\n",
              "        [-0.1275],\n",
              "        [ 0.1770],\n",
              "        [ 0.8431],\n",
              "        [ 0.4600],\n",
              "        [-0.6640],\n",
              "        [ 0.1200],\n",
              "        [-0.8702],\n",
              "        [-0.8508],\n",
              "        [ 0.5365],\n",
              "        [-0.9719],\n",
              "        [-0.6083],\n",
              "        [ 0.0935],\n",
              "        [ 0.9354],\n",
              "        [-0.8010],\n",
              "        [-0.5991],\n",
              "        [ 0.6119],\n",
              "        [-0.8158],\n",
              "        [-0.7029],\n",
              "        [ 0.2999],\n",
              "        [ 0.7184],\n",
              "        [ 0.8162],\n",
              "        [-0.3502],\n",
              "        [-0.2833],\n",
              "        [-0.1632],\n",
              "        [-0.7791],\n",
              "        [-0.5895],\n",
              "        [ 0.9803],\n",
              "        [ 0.5828],\n",
              "        [-0.0958],\n",
              "        [-0.2246],\n",
              "        [ 0.8929],\n",
              "        [-0.6260],\n",
              "        [ 0.2773],\n",
              "        [ 0.6382],\n",
              "        [ 0.1283],\n",
              "        [-0.7049],\n",
              "        [ 0.8956],\n",
              "        [ 0.8594],\n",
              "        [-0.1619],\n",
              "        [-0.1748],\n",
              "        [ 0.6601],\n",
              "        [ 0.6674],\n",
              "        [ 0.0711],\n",
              "        [ 0.7141],\n",
              "        [ 0.7918],\n",
              "        [-0.6849],\n",
              "        [-0.6681],\n",
              "        [-0.6549],\n",
              "        [-0.5561],\n",
              "        [-0.3739],\n",
              "        [ 0.1762],\n",
              "        [-0.1771],\n",
              "        [-0.6805],\n",
              "        [ 0.4674],\n",
              "        [ 0.9605],\n",
              "        [-0.1339],\n",
              "        [ 0.2424],\n",
              "        [-0.9058],\n",
              "        [-0.1442],\n",
              "        [-0.5042],\n",
              "        [-0.1557],\n",
              "        [-0.3601],\n",
              "        [-0.9839],\n",
              "        [-0.3800],\n",
              "        [ 0.9867],\n",
              "        [-0.3911],\n",
              "        [ 0.5595],\n",
              "        [-0.8484],\n",
              "        [-0.0729],\n",
              "        [-0.1273],\n",
              "        [-0.1027],\n",
              "        [-0.1896],\n",
              "        [-0.6546],\n",
              "        [ 0.2762],\n",
              "        [ 0.3579],\n",
              "        [ 0.0507],\n",
              "        [-0.0209],\n",
              "        [ 0.8063],\n",
              "        [ 0.1740],\n",
              "        [ 0.3122],\n",
              "        [-0.7786],\n",
              "        [ 0.0146],\n",
              "        [-0.4440],\n",
              "        [-0.5361],\n",
              "        [ 0.7378],\n",
              "        [-0.7043],\n",
              "        [ 0.9240],\n",
              "        [ 0.3690],\n",
              "        [-0.0655],\n",
              "        [ 0.2178],\n",
              "        [ 0.6811],\n",
              "        [ 0.6551],\n",
              "        [ 0.4897],\n",
              "        [ 0.4286],\n",
              "        [ 0.3210],\n",
              "        [-0.3291],\n",
              "        [ 0.0402],\n",
              "        [-0.3460],\n",
              "        [ 0.7048],\n",
              "        [-0.2705],\n",
              "        [ 0.0698],\n",
              "        [-0.2436],\n",
              "        [-0.8673],\n",
              "        [-0.4626],\n",
              "        [-0.0284],\n",
              "        [-0.4540],\n",
              "        [-0.3047],\n",
              "        [-0.7690],\n",
              "        [ 0.9347],\n",
              "        [ 0.7148],\n",
              "        [ 0.7697],\n",
              "        [ 0.2354],\n",
              "        [-0.8569],\n",
              "        [ 0.6212],\n",
              "        [ 0.6399],\n",
              "        [-0.6215],\n",
              "        [-0.3099],\n",
              "        [ 0.3924],\n",
              "        [-0.4288],\n",
              "        [-0.6112],\n",
              "        [ 0.3575],\n",
              "        [-0.7911],\n",
              "        [ 0.4444],\n",
              "        [ 0.5049],\n",
              "        [-0.0253],\n",
              "        [-0.8062],\n",
              "        [-0.3307],\n",
              "        [-0.6293],\n",
              "        [ 0.7098],\n",
              "        [ 0.6626],\n",
              "        [ 0.4285],\n",
              "        [ 0.2210],\n",
              "        [-0.9829],\n",
              "        [ 0.7774],\n",
              "        [-0.1658],\n",
              "        [-0.5700],\n",
              "        [ 0.2405],\n",
              "        [ 0.7355],\n",
              "        [ 0.0575],\n",
              "        [-0.2493],\n",
              "        [-0.2776],\n",
              "        [-0.2266],\n",
              "        [ 0.4649],\n",
              "        [ 0.0263],\n",
              "        [-0.4636],\n",
              "        [-0.4160],\n",
              "        [-0.0904],\n",
              "        [-0.1683],\n",
              "        [-0.7400],\n",
              "        [-0.8792],\n",
              "        [-0.3044],\n",
              "        [ 0.3319],\n",
              "        [-0.9579],\n",
              "        [-0.8566],\n",
              "        [ 0.5736],\n",
              "        [-0.6602],\n",
              "        [ 0.7900],\n",
              "        [-0.0603],\n",
              "        [-0.8577],\n",
              "        [-0.6535],\n",
              "        [ 0.3782],\n",
              "        [ 0.3785],\n",
              "        [ 0.3204],\n",
              "        [ 0.1291],\n",
              "        [-0.1535],\n",
              "        [-0.2105],\n",
              "        [-0.8987],\n",
              "        [-0.8876],\n",
              "        [-0.1897],\n",
              "        [-0.8658],\n",
              "        [-0.9213],\n",
              "        [-0.7082],\n",
              "        [-0.1044],\n",
              "        [ 0.1988],\n",
              "        [ 0.4563],\n",
              "        [ 0.0161],\n",
              "        [ 0.6750],\n",
              "        [ 0.7726],\n",
              "        [ 0.2369],\n",
              "        [-0.1709],\n",
              "        [ 0.4046],\n",
              "        [ 0.6652],\n",
              "        [ 0.9667],\n",
              "        [ 0.0289],\n",
              "        [-0.3308],\n",
              "        [ 0.3954],\n",
              "        [ 0.2942],\n",
              "        [-0.4210],\n",
              "        [ 0.7756],\n",
              "        [-0.1505],\n",
              "        [ 0.1272],\n",
              "        [ 0.3390],\n",
              "        [ 0.8812],\n",
              "        [ 0.0896],\n",
              "        [-0.0535],\n",
              "        [-0.9819],\n",
              "        [-0.0714],\n",
              "        [-0.6438],\n",
              "        [ 0.1660],\n",
              "        [-0.9051],\n",
              "        [ 0.7247],\n",
              "        [ 0.5453],\n",
              "        [ 0.0089],\n",
              "        [-0.2281],\n",
              "        [-0.8142],\n",
              "        [-0.9139],\n",
              "        [ 0.2665],\n",
              "        [-0.5007],\n",
              "        [-0.9082],\n",
              "        [ 0.5134],\n",
              "        [-0.5872],\n",
              "        [-0.7095],\n",
              "        [-0.8732],\n",
              "        [ 0.1432],\n",
              "        [ 0.9877],\n",
              "        [ 0.0912],\n",
              "        [-0.7404],\n",
              "        [-0.7589],\n",
              "        [ 0.0435],\n",
              "        [-0.8328],\n",
              "        [ 0.2364],\n",
              "        [-0.6909],\n",
              "        [-0.5720],\n",
              "        [-0.5483],\n",
              "        [-0.7446],\n",
              "        [-0.7944],\n",
              "        [-0.9587],\n",
              "        [-0.5316],\n",
              "        [-0.8310],\n",
              "        [-0.3623],\n",
              "        [-0.1547],\n",
              "        [ 0.9784],\n",
              "        [ 0.6300],\n",
              "        [ 0.4895],\n",
              "        [-0.1059],\n",
              "        [ 0.0803],\n",
              "        [ 0.0451],\n",
              "        [-0.6589],\n",
              "        [-0.3268],\n",
              "        [-0.7331],\n",
              "        [ 0.3209],\n",
              "        [ 0.3194],\n",
              "        [ 0.2515],\n",
              "        [-0.5448],\n",
              "        [-0.7669],\n",
              "        [ 0.1883],\n",
              "        [ 0.6243],\n",
              "        [-0.7798],\n",
              "        [-0.3664],\n",
              "        [-0.4070],\n",
              "        [ 0.3216],\n",
              "        [ 0.3586],\n",
              "        [ 0.2384],\n",
              "        [-0.7544],\n",
              "        [ 0.1611],\n",
              "        [-0.5269],\n",
              "        [ 0.1532],\n",
              "        [-0.0578],\n",
              "        [ 0.6997],\n",
              "        [-0.4168],\n",
              "        [ 0.8506],\n",
              "        [ 0.2986],\n",
              "        [-0.8346],\n",
              "        [ 0.0088],\n",
              "        [ 0.7641],\n",
              "        [ 0.3253],\n",
              "        [ 0.0099],\n",
              "        [-0.0794],\n",
              "        [-0.0661],\n",
              "        [-0.2136],\n",
              "        [-0.0273],\n",
              "        [-0.4396],\n",
              "        [ 0.1965],\n",
              "        [ 0.4375],\n",
              "        [-0.6777],\n",
              "        [-0.3833],\n",
              "        [ 0.0254],\n",
              "        [-0.5832],\n",
              "        [ 0.7853],\n",
              "        [ 0.9627],\n",
              "        [ 0.3520],\n",
              "        [ 0.2756],\n",
              "        [ 0.0889],\n",
              "        [ 0.6026],\n",
              "        [-0.3879],\n",
              "        [ 0.5200],\n",
              "        [-0.2143],\n",
              "        [-0.3042],\n",
              "        [ 0.0254],\n",
              "        [-0.6235],\n",
              "        [-0.4906],\n",
              "        [-0.3099],\n",
              "        [ 0.5693],\n",
              "        [ 0.8280],\n",
              "        [ 0.8949],\n",
              "        [-0.1810],\n",
              "        [ 0.1571],\n",
              "        [-0.1008],\n",
              "        [-0.8624],\n",
              "        [ 0.2862],\n",
              "        [-0.1745],\n",
              "        [ 0.0868],\n",
              "        [-0.8276],\n",
              "        [ 0.2856],\n",
              "        [ 0.3819],\n",
              "        [-0.8002],\n",
              "        [-0.8527],\n",
              "        [ 0.8792],\n",
              "        [-0.0587],\n",
              "        [-0.7331],\n",
              "        [-0.6599],\n",
              "        [ 0.0549],\n",
              "        [ 0.7074],\n",
              "        [ 0.1900],\n",
              "        [ 0.1495],\n",
              "        [ 0.3755],\n",
              "        [-0.8839],\n",
              "        [-0.9949],\n",
              "        [-0.3185],\n",
              "        [-0.9757],\n",
              "        [-0.7436],\n",
              "        [ 0.4788],\n",
              "        [ 0.1584],\n",
              "        [-0.3141],\n",
              "        [-0.8773],\n",
              "        [ 0.2780],\n",
              "        [ 0.2694],\n",
              "        [-0.9339],\n",
              "        [ 0.6527],\n",
              "        [ 0.7531],\n",
              "        [ 0.3675],\n",
              "        [-0.1858],\n",
              "        [-0.3950],\n",
              "        [-0.5152],\n",
              "        [ 0.5270],\n",
              "        [-0.6098],\n",
              "        [ 0.9367],\n",
              "        [-0.5458],\n",
              "        [-0.9002],\n",
              "        [-0.2830],\n",
              "        [-0.8751]], requires_grad=True)"
            ]
          },
          "metadata": {
            "tags": []
          },
          "execution_count": 21
        }
      ]
    },
    {
      "cell_type": "code",
      "metadata": {
        "id": "IbPHZpylLek3",
        "colab": {
          "base_uri": "https://localhost:8080/"
        },
        "outputId": "6d9addc2-44c5-4e4b-a149-5e1adad8bf54"
      },
      "source": [
        "model_pt.lstm._parameters['weight_ih_l0'].shape"
      ],
      "execution_count": 22,
      "outputs": [
        {
          "output_type": "execute_result",
          "data": {
            "text/plain": [
              "torch.Size([400, 1])"
            ]
          },
          "metadata": {
            "tags": []
          },
          "execution_count": 22
        }
      ]
    },
    {
      "cell_type": "code",
      "metadata": {
        "id": "BllmY_pjgmtT",
        "colab": {
          "base_uri": "https://localhost:8080/"
        },
        "outputId": "9669d750-48a8-431e-faa0-d74a1b2591b9"
      },
      "source": [
        "model_pt.lstm._parameters['bias_ih_l0']"
      ],
      "execution_count": 23,
      "outputs": [
        {
          "output_type": "execute_result",
          "data": {
            "text/plain": [
              "Parameter containing:\n",
              "tensor([0., 0., 0., 0., 0., 0., 0., 0., 0., 0., 0., 0., 0., 0., 0., 0., 0., 0., 0., 0., 0., 0., 0., 0.,\n",
              "        0., 0., 0., 0., 0., 0., 0., 0., 0., 0., 0., 0., 0., 0., 0., 0., 0., 0., 0., 0., 0., 0., 0., 0.,\n",
              "        0., 0., 0., 0., 0., 0., 0., 0., 0., 0., 0., 0., 0., 0., 0., 0., 0., 0., 0., 0., 0., 0., 0., 0.,\n",
              "        0., 0., 0., 0., 0., 0., 0., 0., 0., 0., 0., 0., 0., 0., 0., 0., 0., 0., 0., 0., 0., 0., 0., 0.,\n",
              "        0., 0., 0., 0., 0., 0., 0., 0., 0., 0., 0., 0., 0., 0., 0., 0., 0., 0., 0., 0., 0., 0., 0., 0.,\n",
              "        0., 0., 0., 0., 0., 0., 0., 0., 0., 0., 0., 0., 0., 0., 0., 0., 0., 0., 0., 0., 0., 0., 0., 0.,\n",
              "        0., 0., 0., 0., 0., 0., 0., 0., 0., 0., 0., 0., 0., 0., 0., 0., 0., 0., 0., 0., 0., 0., 0., 0.,\n",
              "        0., 0., 0., 0., 0., 0., 0., 0., 0., 0., 0., 0., 0., 0., 0., 0., 0., 0., 0., 0., 0., 0., 0., 0.,\n",
              "        0., 0., 0., 0., 0., 0., 0., 0., 0., 0., 0., 0., 0., 0., 0., 0., 0., 0., 0., 0., 0., 0., 0., 0.,\n",
              "        0., 0., 0., 0., 0., 0., 0., 0., 0., 0., 0., 0., 0., 0., 0., 0., 0., 0., 0., 0., 0., 0., 0., 0.,\n",
              "        0., 0., 0., 0., 0., 0., 0., 0., 0., 0., 0., 0., 0., 0., 0., 0., 0., 0., 0., 0., 0., 0., 0., 0.,\n",
              "        0., 0., 0., 0., 0., 0., 0., 0., 0., 0., 0., 0., 0., 0., 0., 0., 0., 0., 0., 0., 0., 0., 0., 0.,\n",
              "        0., 0., 0., 0., 0., 0., 0., 0., 0., 0., 0., 0., 0., 0., 0., 0., 0., 0., 0., 0., 0., 0., 0., 0.,\n",
              "        0., 0., 0., 0., 0., 0., 0., 0., 0., 0., 0., 0., 0., 0., 0., 0., 0., 0., 0., 0., 0., 0., 0., 0.,\n",
              "        0., 0., 0., 0., 0., 0., 0., 0., 0., 0., 0., 0., 0., 0., 0., 0., 0., 0., 0., 0., 0., 0., 0., 0.,\n",
              "        0., 0., 0., 0., 0., 0., 0., 0., 0., 0., 0., 0., 0., 0., 0., 0., 0., 0., 0., 0., 0., 0., 0., 0.,\n",
              "        0., 0., 0., 0., 0., 0., 0., 0., 0., 0., 0., 0., 0., 0., 0., 0.],\n",
              "       requires_grad=True)"
            ]
          },
          "metadata": {
            "tags": []
          },
          "execution_count": 23
        }
      ]
    },
    {
      "cell_type": "code",
      "metadata": {
        "id": "U2waeNN7a9kc",
        "colab": {
          "base_uri": "https://localhost:8080/"
        },
        "outputId": "103d65c4-6607-4f3c-f411-3b2ea11ece6c"
      },
      "source": [
        "model_pt.lstm._parameters['bias_ih_l0'].shape"
      ],
      "execution_count": 24,
      "outputs": [
        {
          "output_type": "execute_result",
          "data": {
            "text/plain": [
              "torch.Size([400])"
            ]
          },
          "metadata": {
            "tags": []
          },
          "execution_count": 24
        }
      ]
    },
    {
      "cell_type": "markdown",
      "metadata": {
        "id": "Ow8SrWp5_GzL"
      },
      "source": [
        "## 4. Loss & Optimizer"
      ]
    },
    {
      "cell_type": "code",
      "metadata": {
        "id": "2XnclAKMDWwh"
      },
      "source": [
        "optimizer_pt = torch.optim.Adam(model_pt.parameters())\n",
        "loss_fn_pt = nn.MSELoss()"
      ],
      "execution_count": 25,
      "outputs": []
    },
    {
      "cell_type": "markdown",
      "metadata": {
        "id": "EDHau6DW_MPn"
      },
      "source": [
        "## 5. Training"
      ]
    },
    {
      "cell_type": "markdown",
      "metadata": {
        "id": "j9zWBPNR_RfS"
      },
      "source": [
        "### a) Training loop"
      ]
    },
    {
      "cell_type": "code",
      "metadata": {
        "id": "xgZ0GBXg46RT"
      },
      "source": [
        "def train_step_pt(model, optimizer, loss_fn, sequence):\n",
        "  total_loss = 0.0\n",
        "\n",
        "  for seq, label in sequence:\n",
        "    optimizer.zero_grad()\n",
        "    y_pred_pt = model(seq)\n",
        "          \n",
        "    loss = loss_fn(y_pred_pt,label)\n",
        "\n",
        "    loss.backward()\n",
        "    optimizer.step()\n",
        "    total_loss += np.sum(loss.data.numpy())\n",
        "  return total_loss/len(seq)"
      ],
      "execution_count": 26,
      "outputs": []
    },
    {
      "cell_type": "code",
      "metadata": {
        "id": "OEe_aBKZNn5e",
        "colab": {
          "base_uri": "https://localhost:8080/"
        },
        "outputId": "8b41ab25-143c-476a-f9a5-4815019def0c"
      },
      "source": [
        "train_loss_pt = []\n",
        "\n",
        "epochs = 25\n",
        "for epoch in range(epochs):\n",
        "  \n",
        "  loss = train_step_pt(model_pt, optimizer_pt, loss_fn_pt,train_seq_pt)\n",
        "  train_loss_pt.append(loss)\n",
        "\n",
        "  template = (\"Epoch {}, Loss: {}\")\n",
        "  print(template.format(epoch+1, loss))"
      ],
      "execution_count": 27,
      "outputs": [
        {
          "output_type": "stream",
          "text": [
            "Epoch 1, Loss: 1.0535830198017113\n",
            "Epoch 2, Loss: 0.7538906967331324\n",
            "Epoch 3, Loss: 0.2742559448341619\n",
            "Epoch 4, Loss: 0.26057618147483524\n",
            "Epoch 5, Loss: 0.20543052748948298\n",
            "Epoch 6, Loss: 0.17143489181292657\n",
            "Epoch 7, Loss: 0.20522546350814727\n",
            "Epoch 8, Loss: 0.20887174556097912\n",
            "Epoch 9, Loss: 0.3895878175802257\n",
            "Epoch 10, Loss: 0.4166945183926245\n",
            "Epoch 11, Loss: 0.6852843469143627\n",
            "Epoch 12, Loss: 0.1894623926583184\n",
            "Epoch 13, Loss: 0.16410702574416072\n",
            "Epoch 14, Loss: 0.16623097192689804\n",
            "Epoch 15, Loss: 0.16906848252127796\n",
            "Epoch 16, Loss: 0.16937884449345594\n",
            "Epoch 17, Loss: 0.16902050296736615\n",
            "Epoch 18, Loss: 0.16753286878259152\n",
            "Epoch 19, Loss: 0.16806228609065377\n",
            "Epoch 20, Loss: 0.17158322489790598\n",
            "Epoch 21, Loss: 0.26485223304242805\n",
            "Epoch 22, Loss: 0.3168134309137803\n",
            "Epoch 23, Loss: 0.3998474779197802\n",
            "Epoch 24, Loss: 0.569102542457396\n",
            "Epoch 25, Loss: 0.20766733582058805\n"
          ],
          "name": "stdout"
        }
      ]
    },
    {
      "cell_type": "markdown",
      "metadata": {
        "id": "Ps8QHc63_qfg"
      },
      "source": [
        "### b) Training progress"
      ]
    },
    {
      "cell_type": "code",
      "metadata": {
        "id": "OT_mQn9g7jjU",
        "colab": {
          "base_uri": "https://localhost:8080/",
          "height": 594
        },
        "outputId": "205fa5ef-281c-422e-c997-17a7101e3466"
      },
      "source": [
        "plt.figure(figsize=(16,10))\n",
        "plt.plot(train_loss_pt)\n",
        "#plt.plot(test_loss_tf)\n",
        "plt.title('model loss')\n",
        "plt.ylabel('loss')\n",
        "plt.xlabel('epoch')\n",
        "plt.legend(['train'], loc='upper right')\n",
        "plt.show()"
      ],
      "execution_count": 28,
      "outputs": [
        {
          "output_type": "display_data",
          "data": {
            "image/png": "[encoded data removed]",
            "text/plain": [
              "<Figure size 1152x720 with 1 Axes>"
            ]
          },
          "metadata": {
            "tags": [],
            "needs_background": "light"
          }
        }
      ]
    },
    {
      "cell_type": "markdown",
      "metadata": {
        "id": "fauTTV80_34y"
      },
      "source": [
        "### c) Inspect the first hidden layer after training"
      ]
    },
    {
      "cell_type": "code",
      "metadata": {
        "id": "JFGiGkhnGi_M",
        "colab": {
          "base_uri": "https://localhost:8080/"
        },
        "outputId": "9290c193-66ac-463c-938c-e3c9aeba3050"
      },
      "source": [
        "model_pt.lstm._parameters['weight_ih_l0']"
      ],
      "execution_count": 29,
      "outputs": [
        {
          "output_type": "execute_result",
          "data": {
            "text/plain": [
              "Parameter containing:\n",
              "tensor([[-0.4345],\n",
              "        [ 0.6729],\n",
              "        [ 0.5392],\n",
              "        [-0.3396],\n",
              "        [ 0.2616],\n",
              "        [-0.0089],\n",
              "        [ 1.0027],\n",
              "        [ 0.2527],\n",
              "        [-0.8176],\n",
              "        [ 0.6559],\n",
              "        [-0.5120],\n",
              "        [ 0.2000],\n",
              "        [ 0.9777],\n",
              "        [ 0.9728],\n",
              "        [-0.7365],\n",
              "        [ 0.6514],\n",
              "        [-0.3754],\n",
              "        [-0.0622],\n",
              "        [-0.2051],\n",
              "        [-0.1562],\n",
              "        [ 0.3416],\n",
              "        [-0.3713],\n",
              "        [-0.6498],\n",
              "        [ 0.7353],\n",
              "        [ 0.0642],\n",
              "        [ 0.6388],\n",
              "        [-0.4580],\n",
              "        [-0.1126],\n",
              "        [ 0.3382],\n",
              "        [-0.0509],\n",
              "        [-0.7030],\n",
              "        [-0.3561],\n",
              "        [-0.1817],\n",
              "        [ 0.2408],\n",
              "        [ 0.5315],\n",
              "        [ 0.6511],\n",
              "        [ 0.2423],\n",
              "        [-0.6788],\n",
              "        [-0.2819],\n",
              "        [ 0.6947],\n",
              "        [ 0.9979],\n",
              "        [ 0.2084],\n",
              "        [ 0.1193],\n",
              "        [-0.8993],\n",
              "        [ 0.6153],\n",
              "        [ 1.0453],\n",
              "        [ 0.9856],\n",
              "        [-0.9357],\n",
              "        [-0.8123],\n",
              "        [ 0.0970],\n",
              "        [-0.5467],\n",
              "        [ 0.1244],\n",
              "        [ 0.8002],\n",
              "        [-0.9190],\n",
              "        [-0.7051],\n",
              "        [-0.4852],\n",
              "        [-0.9557],\n",
              "        [-0.2143],\n",
              "        [-0.5556],\n",
              "        [-0.1147],\n",
              "        [ 0.3128],\n",
              "        [ 0.9504],\n",
              "        [ 0.4555],\n",
              "        [-0.6500],\n",
              "        [ 0.1188],\n",
              "        [-0.8500],\n",
              "        [-0.8882],\n",
              "        [ 0.5701],\n",
              "        [-0.9256],\n",
              "        [-0.5696],\n",
              "        [ 0.1119],\n",
              "        [ 0.9614],\n",
              "        [-0.7696],\n",
              "        [-0.5879],\n",
              "        [ 0.7177],\n",
              "        [-0.8037],\n",
              "        [-0.6875],\n",
              "        [ 0.3226],\n",
              "        [ 0.7573],\n",
              "        [ 0.8819],\n",
              "        [-0.3744],\n",
              "        [-0.2408],\n",
              "        [-0.1389],\n",
              "        [-0.7410],\n",
              "        [-0.6412],\n",
              "        [ 1.0140],\n",
              "        [ 0.6217],\n",
              "        [-0.0906],\n",
              "        [-0.2113],\n",
              "        [ 1.0293],\n",
              "        [-0.6311],\n",
              "        [ 0.3308],\n",
              "        [ 0.6648],\n",
              "        [ 0.1817],\n",
              "        [-0.6974],\n",
              "        [ 0.9431],\n",
              "        [ 0.8807],\n",
              "        [-0.1313],\n",
              "        [-0.1404],\n",
              "        [ 0.6942],\n",
              "        [ 0.7229],\n",
              "        [ 0.1110],\n",
              "        [ 0.7626],\n",
              "        [ 0.7981],\n",
              "        [-0.6726],\n",
              "        [-0.5962],\n",
              "        [-0.6391],\n",
              "        [-0.5376],\n",
              "        [-0.3478],\n",
              "        [ 0.2033],\n",
              "        [-0.1338],\n",
              "        [-0.6551],\n",
              "        [ 0.5083],\n",
              "        [ 0.9357],\n",
              "        [-0.1206],\n",
              "        [ 0.2875],\n",
              "        [-0.8561],\n",
              "        [-0.0792],\n",
              "        [-0.4562],\n",
              "        [-0.1438],\n",
              "        [-0.3394],\n",
              "        [-0.9702],\n",
              "        [-0.3382],\n",
              "        [ 1.0063],\n",
              "        [-0.3182],\n",
              "        [ 0.5742],\n",
              "        [-0.8345],\n",
              "        [ 0.0423],\n",
              "        [-0.0848],\n",
              "        [-0.0844],\n",
              "        [-0.1715],\n",
              "        [-0.6306],\n",
              "        [ 0.3708],\n",
              "        [ 0.4048],\n",
              "        [ 0.1078],\n",
              "        [ 0.0601],\n",
              "        [ 0.8470],\n",
              "        [ 0.1976],\n",
              "        [ 0.4006],\n",
              "        [-0.7403],\n",
              "        [ 0.0503],\n",
              "        [-0.4174],\n",
              "        [-0.4938],\n",
              "        [ 0.7668],\n",
              "        [-0.6766],\n",
              "        [ 0.9425],\n",
              "        [ 0.3649],\n",
              "        [-0.0439],\n",
              "        [ 0.2759],\n",
              "        [ 0.7513],\n",
              "        [ 0.6974],\n",
              "        [ 0.5301],\n",
              "        [ 0.4616],\n",
              "        [ 0.3693],\n",
              "        [-0.3042],\n",
              "        [ 0.0620],\n",
              "        [-0.3288],\n",
              "        [ 0.7548],\n",
              "        [-0.2106],\n",
              "        [ 0.0815],\n",
              "        [-0.1675],\n",
              "        [-0.7620],\n",
              "        [-0.4346],\n",
              "        [ 0.0072],\n",
              "        [-0.4453],\n",
              "        [-0.2829],\n",
              "        [-0.7628],\n",
              "        [ 0.9653],\n",
              "        [ 0.7473],\n",
              "        [ 0.8138],\n",
              "        [ 0.2439],\n",
              "        [-0.8443],\n",
              "        [ 0.6387],\n",
              "        [ 0.6825],\n",
              "        [-0.5533],\n",
              "        [-0.2918],\n",
              "        [ 0.4236],\n",
              "        [-0.4058],\n",
              "        [-0.5665],\n",
              "        [ 0.4058],\n",
              "        [-0.7868],\n",
              "        [ 0.5626],\n",
              "        [ 0.5426],\n",
              "        [ 0.0266],\n",
              "        [-0.8274],\n",
              "        [-0.3212],\n",
              "        [-0.5873],\n",
              "        [ 0.7522],\n",
              "        [ 0.6563],\n",
              "        [ 0.4997],\n",
              "        [ 0.2431],\n",
              "        [-0.9168],\n",
              "        [ 0.8315],\n",
              "        [-0.0719],\n",
              "        [-0.5516],\n",
              "        [ 0.2955],\n",
              "        [ 0.7308],\n",
              "        [ 0.0924],\n",
              "        [-0.2004],\n",
              "        [-0.2482],\n",
              "        [-0.2704],\n",
              "        [ 0.3491],\n",
              "        [ 0.0826],\n",
              "        [-0.4687],\n",
              "        [-0.4179],\n",
              "        [-0.0064],\n",
              "        [-0.1784],\n",
              "        [-0.7461],\n",
              "        [-0.9041],\n",
              "        [-0.2353],\n",
              "        [ 0.2667],\n",
              "        [-0.9080],\n",
              "        [-0.7238],\n",
              "        [ 0.5610],\n",
              "        [-0.6762],\n",
              "        [ 0.8060],\n",
              "        [-0.0989],\n",
              "        [-0.6768],\n",
              "        [-0.6035],\n",
              "        [ 0.3957],\n",
              "        [ 0.3720],\n",
              "        [ 0.3425],\n",
              "        [ 0.0809],\n",
              "        [-0.2132],\n",
              "        [-0.1641],\n",
              "        [-0.9084],\n",
              "        [-0.9479],\n",
              "        [-0.2475],\n",
              "        [-0.7035],\n",
              "        [-0.9382],\n",
              "        [-0.7044],\n",
              "        [-0.1242],\n",
              "        [ 0.2350],\n",
              "        [ 0.3580],\n",
              "        [ 0.0400],\n",
              "        [ 0.6209],\n",
              "        [ 0.6855],\n",
              "        [ 0.2485],\n",
              "        [-0.1273],\n",
              "        [ 0.3324],\n",
              "        [ 0.5585],\n",
              "        [ 0.9242],\n",
              "        [-0.0187],\n",
              "        [-0.3129],\n",
              "        [ 0.3357],\n",
              "        [ 0.3435],\n",
              "        [-0.4049],\n",
              "        [ 0.7747],\n",
              "        [-0.1101],\n",
              "        [ 0.0297],\n",
              "        [ 0.2733],\n",
              "        [ 0.7620],\n",
              "        [ 0.0965],\n",
              "        [-0.0144],\n",
              "        [-0.8787],\n",
              "        [-0.0882],\n",
              "        [-0.6106],\n",
              "        [ 0.1771],\n",
              "        [-0.8467],\n",
              "        [ 0.7279],\n",
              "        [ 0.6076],\n",
              "        [ 0.0292],\n",
              "        [-0.1678],\n",
              "        [-0.7549],\n",
              "        [-0.9328],\n",
              "        [ 0.2615],\n",
              "        [-0.4220],\n",
              "        [-0.8157],\n",
              "        [ 0.5131],\n",
              "        [-0.5194],\n",
              "        [-0.7109],\n",
              "        [-0.8894],\n",
              "        [ 0.1340],\n",
              "        [ 0.8774],\n",
              "        [ 0.1470],\n",
              "        [-0.7466],\n",
              "        [-0.7345],\n",
              "        [-0.0029],\n",
              "        [-0.7732],\n",
              "        [ 0.1925],\n",
              "        [-0.6339],\n",
              "        [-0.4893],\n",
              "        [-0.4746],\n",
              "        [-0.7013],\n",
              "        [-0.7528],\n",
              "        [-0.9716],\n",
              "        [-0.4744],\n",
              "        [-0.7563],\n",
              "        [-0.3754],\n",
              "        [-0.2319],\n",
              "        [ 0.9078],\n",
              "        [ 0.5240],\n",
              "        [ 0.4119],\n",
              "        [-0.1234],\n",
              "        [ 0.0548],\n",
              "        [-0.0370],\n",
              "        [-0.6406],\n",
              "        [-0.2526],\n",
              "        [-0.6776],\n",
              "        [ 0.3336],\n",
              "        [ 0.4823],\n",
              "        [ 0.2532],\n",
              "        [-0.4771],\n",
              "        [-0.7573],\n",
              "        [ 0.2035],\n",
              "        [ 0.6833],\n",
              "        [-0.7690],\n",
              "        [-0.3380],\n",
              "        [-0.3917],\n",
              "        [ 0.3346],\n",
              "        [ 0.4019],\n",
              "        [ 0.2745],\n",
              "        [-0.7608],\n",
              "        [ 0.1846],\n",
              "        [-0.5135],\n",
              "        [ 0.2587],\n",
              "        [-0.0016],\n",
              "        [ 0.7163],\n",
              "        [-0.3722],\n",
              "        [ 0.8924],\n",
              "        [ 0.3549],\n",
              "        [-0.8224],\n",
              "        [ 0.0544],\n",
              "        [ 0.8744],\n",
              "        [ 0.3840],\n",
              "        [ 0.0147],\n",
              "        [-0.0796],\n",
              "        [ 0.0517],\n",
              "        [-0.2171],\n",
              "        [-0.0109],\n",
              "        [-0.4162],\n",
              "        [ 0.2150],\n",
              "        [ 0.6258],\n",
              "        [-0.6529],\n",
              "        [-0.3097],\n",
              "        [ 0.1244],\n",
              "        [-0.5760],\n",
              "        [ 0.8111],\n",
              "        [ 0.9914],\n",
              "        [ 0.3806],\n",
              "        [ 0.2551],\n",
              "        [ 0.1064],\n",
              "        [ 0.6602],\n",
              "        [-0.3503],\n",
              "        [ 0.5472],\n",
              "        [-0.1254],\n",
              "        [-0.2833],\n",
              "        [ 0.0438],\n",
              "        [-0.5561],\n",
              "        [-0.4040],\n",
              "        [-0.2758],\n",
              "        [ 0.5930],\n",
              "        [ 0.8731],\n",
              "        [ 0.9605],\n",
              "        [-0.1162],\n",
              "        [ 0.1889],\n",
              "        [-0.0579],\n",
              "        [-0.7802],\n",
              "        [ 0.3509],\n",
              "        [-0.1586],\n",
              "        [ 0.2447],\n",
              "        [-0.7596],\n",
              "        [ 0.2716],\n",
              "        [ 0.4200],\n",
              "        [-0.7856],\n",
              "        [-0.8323],\n",
              "        [ 0.9324],\n",
              "        [-0.0453],\n",
              "        [-0.6764],\n",
              "        [-0.6225],\n",
              "        [ 0.0714],\n",
              "        [ 0.7294],\n",
              "        [ 0.2267],\n",
              "        [ 0.1780],\n",
              "        [ 0.5225],\n",
              "        [-0.8656],\n",
              "        [-0.9731],\n",
              "        [-0.3031],\n",
              "        [-0.9830],\n",
              "        [-0.7048],\n",
              "        [ 0.5205],\n",
              "        [ 0.2567],\n",
              "        [-0.2830],\n",
              "        [-0.8304],\n",
              "        [ 0.3164],\n",
              "        [ 0.3011],\n",
              "        [-0.9159],\n",
              "        [ 0.6698],\n",
              "        [ 0.7752],\n",
              "        [ 0.5462],\n",
              "        [-0.1517],\n",
              "        [-0.3344],\n",
              "        [-0.5107],\n",
              "        [ 0.6742],\n",
              "        [-0.6225],\n",
              "        [ 1.0441],\n",
              "        [-0.5349],\n",
              "        [-0.8812],\n",
              "        [-0.2520],\n",
              "        [-0.8523]], requires_grad=True)"
            ]
          },
          "metadata": {
            "tags": []
          },
          "execution_count": 29
        }
      ]
    },
    {
      "cell_type": "code",
      "metadata": {
        "id": "CQzHFz85G40Q",
        "colab": {
          "base_uri": "https://localhost:8080/"
        },
        "outputId": "69ed343a-b91d-4a9f-d66e-b518feaa6519"
      },
      "source": [
        "model_pt.lstm._parameters['bias_ih_l0']"
      ],
      "execution_count": 30,
      "outputs": [
        {
          "output_type": "execute_result",
          "data": {
            "text/plain": [
              "Parameter containing:\n",
              "tensor([-2.7101e-02, -1.3127e-01, -1.0881e-01, -1.3218e-02, -1.4142e-02,\n",
              "        -1.7062e-01, -3.4224e-02, -1.6700e-02,  8.6864e-03, -1.3284e-01,\n",
              "        -9.1837e-02, -1.0405e-02, -9.7734e-02, -1.7850e-02,  2.2924e-03,\n",
              "        -1.2776e-02, -6.0172e-02, -2.5733e-01, -9.2851e-02,  1.4093e-02,\n",
              "        -1.1294e-02, -9.5085e-03, -7.9985e-02, -4.1716e-02, -1.3764e-01,\n",
              "        -9.2165e-03,  3.5346e-02, -6.4492e-02, -1.8033e-01, -2.3832e-03,\n",
              "        -3.4927e-03, -4.8082e-02,  2.4408e-03, -1.1169e-01, -1.5221e-01,\n",
              "        -1.3655e-01, -1.0698e-01, -1.8001e-02, -1.8006e-01, -8.0799e-02,\n",
              "        -1.5084e-01, -5.1033e-02, -1.4090e-01, -2.4558e-02, -2.8165e-02,\n",
              "        -1.1619e-02, -8.5486e-03, -3.5187e-03, -1.0784e-01, -1.8717e-01,\n",
              "        -1.1457e-01, -1.2999e-01, -1.0210e-01, -7.1516e-02, -1.1438e-01,\n",
              "        -4.3013e-02, -6.5938e-02, -4.4473e-02, -1.0757e-01, -5.6251e-03,\n",
              "        -2.4440e-02, -1.2696e-01, -1.3279e-01, -8.6134e-02,  8.7757e-03,\n",
              "        -2.7975e-02, -9.6612e-02, -1.6667e-01,  1.2511e-02, -9.3193e-02,\n",
              "        -8.8931e-03, -1.7487e-02,  6.3934e-03, -1.4140e-01, -8.5419e-02,\n",
              "         9.6534e-05, -5.3288e-02, -8.7892e-02, -7.4535e-02, -1.0855e-01,\n",
              "        -7.5394e-02, -1.4846e-01, -7.9702e-02, -9.4925e-02, -6.4334e-02,\n",
              "        -1.9773e-02, -6.2285e-02, -1.0987e-01, -1.7693e-03, -7.3065e-03,\n",
              "        -7.5771e-02, -1.1569e-01, -1.1691e-01, -1.5157e-01, -1.0934e-01,\n",
              "        -7.2257e-02, -2.6987e-02, -7.1100e-02, -1.0123e-01, -3.4996e-02,\n",
              "        -5.1564e-02, -4.2242e-02, -8.4965e-02, -5.9971e-02, -3.5700e-02,\n",
              "        -7.2608e-02, -3.6973e-02, -5.0089e-02, -3.6662e-02, -5.2998e-02,\n",
              "        -3.9242e-02, -6.0619e-02, -5.9485e-02, -7.0550e-02, -3.5161e-02,\n",
              "        -5.0909e-02, -7.2060e-02, -7.9588e-02, -4.6170e-02, -6.0705e-02,\n",
              "        -4.9964e-02, -2.6462e-02, -4.6156e-02, -1.4775e-02, -4.8593e-02,\n",
              "        -2.9394e-02,  1.1266e-02, -8.0613e-02, -5.1380e-02, -4.3614e-02,\n",
              "        -4.5506e-02, -5.1387e-02,  5.9242e-02, -4.5553e-02, -1.0331e-01,\n",
              "        -6.3173e-02, -4.5973e-02, -2.8215e-02, -2.4246e-03, -3.3355e-02,\n",
              "        -4.4303e-02, -2.1375e-02, -6.5090e-02, -5.0659e-02,  1.7215e-02,\n",
              "        -3.5720e-02, -4.5836e-02, -4.6295e-02, -4.8936e-02, -1.1380e-01,\n",
              "        -4.9355e-02, -1.9593e-02,  2.9635e-02, -4.5799e-02, -1.9763e-02,\n",
              "        -5.0429e-02, -2.4999e-02, -7.8083e-02, -4.1505e-02, -5.1721e-02,\n",
              "        -6.5354e-02, -1.0445e-01, -4.8371e-02, -3.6456e-02, -1.2076e-02,\n",
              "        -2.9606e-02, -1.2427e-02, -6.9953e-02, -4.7419e-02, -4.9034e-02,\n",
              "        -5.3492e-02, -3.4414e-02, -2.7879e-02, -4.7973e-02, -1.5668e-02,\n",
              "        -2.8206e-02, -3.0740e-02, -5.9325e-02, -4.5556e-02, -4.6863e-02,\n",
              "        -6.6847e-03,  7.3933e-02, -3.3817e-02, -4.7579e-02,  1.9368e-03,\n",
              "        -5.9019e-02, -4.0919e-02, -1.5209e-02, -5.0527e-02,  3.7863e-02,\n",
              "        -3.3466e-02, -3.1506e-02, -1.6141e-02,  2.6729e-04, -5.1479e-02,\n",
              "        -2.9755e-02, -6.0408e-02, -4.1604e-02, -4.8258e-02, -3.6324e-02,\n",
              "         1.1428e-02, -7.7185e-02,  6.3438e-03,  6.6460e-03,  5.5535e-03,\n",
              "         2.2876e-02,  4.3592e-03,  2.3833e-02,  2.7251e-02,  4.4504e-02,\n",
              "        -3.1308e-02,  4.2933e-02,  9.4293e-02, -2.6556e-02,  1.4959e-02,\n",
              "        -2.6822e-02,  1.2894e-02,  9.2393e-02,  1.3219e-02, -2.7973e-03,\n",
              "        -1.8731e-02, -1.3779e-02, -1.0257e-02, -1.5425e-02,  1.2864e-02,\n",
              "        -1.6537e-03,  4.2100e-02, -1.2570e-02,  5.9471e-02,  4.0309e-03,\n",
              "         7.7047e-03,  3.2508e-03, -8.2800e-03, -4.8524e-02,  6.7192e-03,\n",
              "        -4.3483e-02, -3.9637e-02,  1.1254e-02,  2.5273e-02, -4.0887e-02,\n",
              "        -5.7053e-02, -4.0862e-02, -1.1729e-02,  1.7062e-02, -3.9170e-02,\n",
              "         8.2648e-03,  3.1003e-02, -1.3966e-02, -2.2169e-02, -2.4399e-02,\n",
              "        -2.3029e-02, -1.2727e-01, -2.2887e-02, -3.0523e-03,  7.0037e-02,\n",
              "        -3.0568e-03,  2.3626e-02, -4.6405e-03,  2.8660e-02, -1.0259e-02,\n",
              "        -8.2078e-03, -6.7041e-04,  2.4619e-02,  3.6127e-02,  1.9361e-02,\n",
              "         1.4810e-03,  6.3383e-02,  7.3547e-02, -1.8021e-02,  2.0715e-02,\n",
              "         1.5055e-02,  3.0302e-02, -1.7948e-02, -7.8005e-02,  2.1634e-03,\n",
              "         1.2675e-02,  1.0636e-02, -1.0383e-03,  1.0970e-02, -7.9202e-03,\n",
              "         5.0150e-02,  5.4182e-02,  4.7514e-02,  9.1451e-04,  3.5730e-02,\n",
              "         2.5814e-02, -5.4428e-03,  8.5930e-02, -7.2457e-03,  1.8290e-03,\n",
              "        -4.5301e-02, -1.9648e-02, -5.0481e-02,  2.3636e-02,  1.1331e-02,\n",
              "        -6.0884e-02,  5.6091e-02,  1.6647e-02,  5.7073e-03,  3.4579e-03,\n",
              "        -6.5651e-02, -1.2805e-01, -9.0771e-02, -9.1665e-03, -1.5121e-02,\n",
              "        -1.5012e-01, -4.2668e-02, -1.7930e-02, -1.1530e-02, -1.3715e-01,\n",
              "        -8.7771e-02, -1.3111e-02, -1.2113e-01, -1.1990e-02, -7.2454e-03,\n",
              "         5.6390e-03, -5.8278e-02, -2.3578e-01, -9.9314e-02, -1.0131e-02,\n",
              "        -1.0775e-02, -1.7370e-02, -7.9508e-02, -6.5920e-02, -1.2723e-01,\n",
              "        -1.3499e-02, -3.6782e-03, -6.8183e-02, -1.6194e-01, -9.3320e-03,\n",
              "        -4.2950e-03, -4.6219e-02, -5.7625e-02, -1.1135e-01, -1.6910e-01,\n",
              "        -1.2949e-01, -1.1438e-01, -3.0730e-02, -1.7038e-01, -8.5978e-02,\n",
              "        -1.5475e-01, -6.3206e-02, -1.3382e-01, -2.8848e-02, -4.0883e-02,\n",
              "         2.7192e-02, -7.0408e-04, -2.0128e-02, -1.0301e-01, -1.9464e-01,\n",
              "        -1.1033e-01, -1.2216e-01, -1.1199e-01, -1.0804e-01, -1.0460e-01,\n",
              "        -4.1172e-02, -6.8483e-02, -1.4448e-02, -9.7315e-02, -6.9591e-03,\n",
              "        -2.7419e-02, -1.2349e-01, -1.3101e-01, -8.2246e-02, -6.5804e-03,\n",
              "        -3.0859e-02, -8.1986e-02, -1.6929e-01,  1.9838e-03, -9.5384e-02,\n",
              "        -1.2527e-02, -2.6378e-02, -9.6545e-03, -1.4231e-01, -7.4306e-02,\n",
              "        -1.4698e-02, -5.9857e-02, -9.9566e-02, -9.8117e-02, -9.6055e-02,\n",
              "        -7.8935e-02, -1.5946e-01, -7.6976e-02, -9.9194e-02, -6.6724e-02,\n",
              "        -1.7129e-02, -7.0360e-02, -1.0721e-01, -1.5373e-02,  2.4522e-03,\n",
              "        -6.7770e-02, -1.1776e-01, -1.1615e-01, -1.7136e-01, -1.1372e-01,\n",
              "        -1.0873e-01, -2.0408e-02, -7.8109e-02, -1.0600e-01, -2.8625e-02],\n",
              "       requires_grad=True)"
            ]
          },
          "metadata": {
            "tags": []
          },
          "execution_count": 30
        }
      ]
    },
    {
      "cell_type": "markdown",
      "metadata": {
        "id": "7zxy7PuBABMp"
      },
      "source": [
        "## 6. Evaluation"
      ]
    },
    {
      "cell_type": "markdown",
      "metadata": {
        "id": "kA63utBXdL0b"
      },
      "source": [
        "### a) Prediction comparing to the test set"
      ]
    },
    {
      "cell_type": "code",
      "metadata": {
        "id": "OrzdLvEY-b4P"
      },
      "source": [
        "test_inputs_overlap_pt = x_train[-12:].tolist()"
      ],
      "execution_count": 31,
      "outputs": []
    },
    {
      "cell_type": "code",
      "metadata": {
        "id": "uLkelFvY-bxg",
        "colab": {
          "base_uri": "https://localhost:8080/"
        },
        "outputId": "51434dc2-3c50-4695-cfd8-a2d82b42aaa7"
      },
      "source": [
        "test_inputs_overlap_pt"
      ],
      "execution_count": 32,
      "outputs": [
        {
          "output_type": "execute_result",
          "data": {
            "text/plain": [
              "[[0.12527472527472527],\n",
              " [0.04615384615384621],\n",
              " [0.32747252747252764],\n",
              " [0.2835164835164836],\n",
              " [0.3890109890109892],\n",
              " [0.6175824175824178],\n",
              " [0.9516483516483516],\n",
              " [1.0000000000000002],\n",
              " [0.578021978021978],\n",
              " [0.331868131868132],\n",
              " [0.13406593406593403],\n",
              " [0.32307692307692304]]"
            ]
          },
          "metadata": {
            "tags": []
          },
          "execution_count": 32
        }
      ]
    },
    {
      "cell_type": "code",
      "metadata": {
        "id": "HI9tgY4T-buR"
      },
      "source": [
        "for i in range(12):\n",
        "    seq = torch.FloatTensor(test_inputs_overlap_pt[-12:])\n",
        "    with torch.no_grad():\n",
        "        test_inputs_overlap_pt.append([model_pt(seq).item()])"
      ],
      "execution_count": 33,
      "outputs": []
    },
    {
      "cell_type": "code",
      "metadata": {
        "id": "0KqXwPvhfS4S",
        "colab": {
          "base_uri": "https://localhost:8080/"
        },
        "outputId": "4b48579a-dfcb-4811-8cb1-12f2a1caf2e4"
      },
      "source": [
        "test_inputs_overlap_pt[-12:]"
      ],
      "execution_count": 34,
      "outputs": [
        {
          "output_type": "execute_result",
          "data": {
            "text/plain": [
              "[[0.5052933096885681],\n",
              " [0.6298637986183167],\n",
              " [0.6748303771018982],\n",
              " [0.6445773243904114],\n",
              " [0.5720041394233704],\n",
              " [0.5025739669799805],\n",
              " [0.4704206883907318],\n",
              " [0.48266708850860596],\n",
              " [0.5217533111572266],\n",
              " [0.5625163912773132],\n",
              " [0.5870072841644287],\n",
              " [0.5893124938011169]]"
            ]
          },
          "metadata": {
            "tags": []
          },
          "execution_count": 34
        }
      ]
    },
    {
      "cell_type": "code",
      "metadata": {
        "id": "klM5MazXAaQ7",
        "colab": {
          "base_uri": "https://localhost:8080/"
        },
        "outputId": "0f7af53b-000a-4fc1-eafb-c087716ab24d"
      },
      "source": [
        "overlap_predictions_pt = scaler.inverse_transform(np.array(test_inputs_overlap_pt[-12:] ).reshape(-1, 1))\n",
        "print(overlap_predictions_pt)"
      ],
      "execution_count": 35,
      "outputs": [
        {
          "output_type": "stream",
          "text": [
            "[[446.45422795]\n",
            " [474.79401419]\n",
            " [485.02391079]\n",
            " [478.1413413 ]\n",
            " [461.63094172]\n",
            " [445.83557749]\n",
            " [438.52070661]\n",
            " [441.30676264]\n",
            " [450.19887829]\n",
            " [459.47247902]\n",
            " [465.04415715]\n",
            " [465.56859234]]\n"
          ],
          "name": "stdout"
        }
      ]
    },
    {
      "cell_type": "code",
      "metadata": {
        "id": "wXDjoAUt-bhn",
        "colab": {
          "base_uri": "https://localhost:8080/",
          "height": 336
        },
        "outputId": "436dfeaa-b5ed-46b4-c0e1-0ed9b8abed96"
      },
      "source": [
        "plt.title('Month vs Passenger')\n",
        "plt.ylabel('Total Passengers')\n",
        "plt.grid(True)\n",
        "plt.autoscale(axis='x', tight=True)\n",
        "plt.plot(flight_data['passengers'])\n",
        "plt.plot(np.arange(132, 144, 1),overlap_predictions_pt)\n",
        "plt.legend(['actual', 'predicted'], loc='upper left')\n",
        "plt.show()"
      ],
      "execution_count": 36,
      "outputs": [
        {
          "output_type": "display_data",
          "data": {
            "image/png": "[encoded data removed]",
            "text/plain": [
              "<Figure size 1080x360 with 1 Axes>"
            ]
          },
          "metadata": {
            "tags": [],
            "needs_background": "light"
          }
        }
      ]
    },
    {
      "cell_type": "code",
      "metadata": {
        "id": "_W1NQuHXfgAz",
        "colab": {
          "base_uri": "https://localhost:8080/",
          "height": 336
        },
        "outputId": "56de5025-d4bf-4afb-8586-d4d57ebe8fa5"
      },
      "source": [
        "plt.title('Month vs Passenger')\n",
        "plt.ylabel('Total Passengers')\n",
        "plt.grid(True)\n",
        "plt.autoscale(axis='x', tight=True)\n",
        "plt.plot(flight_data['passengers'][-12:])\n",
        "plt.plot(np.arange(132, 144, 1),overlap_predictions_pt)\n",
        "plt.legend(['actual', 'predicted'], loc='upper left')\n",
        "plt.show()"
      ],
      "execution_count": 37,
      "outputs": [
        {
          "output_type": "display_data",
          "data": {
            "image/png": "[encoded data removed]",
            "text/plain": [
              "<Figure size 1080x360 with 1 Axes>"
            ]
          },
          "metadata": {
            "tags": [],
            "needs_background": "light"
          }
        }
      ]
    },
    {
      "cell_type": "markdown",
      "metadata": {
        "id": "vYRBVwTEfskg"
      },
      "source": [
        "### b) Prediction into the future using the test set"
      ]
    },
    {
      "cell_type": "code",
      "metadata": {
        "id": "tvmFYU3zVo33"
      },
      "source": [
        "scaler = MinMaxScaler(feature_range=(-1, 1))\n",
        "x_test_pt = scaler.fit_transform(x_test.reshape(-1, 1))"
      ],
      "execution_count": 38,
      "outputs": []
    },
    {
      "cell_type": "code",
      "metadata": {
        "id": "Zj_9Ai8yE6--"
      },
      "source": [
        "test_inputs_pt = x_test_pt[-12:].tolist()"
      ],
      "execution_count": 39,
      "outputs": []
    },
    {
      "cell_type": "code",
      "metadata": {
        "id": "9z_6ehs7LP8L",
        "colab": {
          "base_uri": "https://localhost:8080/"
        },
        "outputId": "b5c8ed68-b371-4288-dd81-1e584d87e401"
      },
      "source": [
        "test_inputs_pt"
      ],
      "execution_count": 40,
      "outputs": [
        {
          "output_type": "execute_result",
          "data": {
            "text/plain": [
              "[[-0.7672413793103456],\n",
              " [-0.9913793103448283],\n",
              " [-0.7500000000000004],\n",
              " [-0.38793103448275934],\n",
              " [-0.293103448275863],\n",
              " [0.2499999999999991],\n",
              " [0.9999999999999991],\n",
              " [0.8620689655172411],\n",
              " [0.017241379310344307],\n",
              " [-0.38793103448275934],\n",
              " [-1.0000000000000004],\n",
              " [-0.6379310344827593]]"
            ]
          },
          "metadata": {
            "tags": []
          },
          "execution_count": 40
        }
      ]
    },
    {
      "cell_type": "code",
      "metadata": {
        "id": "-fqylGt0FBdV"
      },
      "source": [
        "for i in range(12):\n",
        "    seq = torch.FloatTensor(test_inputs_pt[-12:])\n",
        "    with torch.no_grad():\n",
        "        test_inputs_pt.append([model_pt(seq).item()])"
      ],
      "execution_count": 41,
      "outputs": []
    },
    {
      "cell_type": "code",
      "metadata": {
        "id": "csYje85eFNI2",
        "colab": {
          "base_uri": "https://localhost:8080/"
        },
        "outputId": "9c382b62-0dbe-4e41-df97-15294f3bacb0"
      },
      "source": [
        "test_inputs_pt[-12:]"
      ],
      "execution_count": 42,
      "outputs": [
        {
          "output_type": "execute_result",
          "data": {
            "text/plain": [
              "[[-0.3825359344482422],\n",
              " [-0.186520516872406],\n",
              " [-0.04562642425298691],\n",
              " [0.041437506675720215],\n",
              " [0.0878540575504303],\n",
              " [0.11370861530303955],\n",
              " [0.13673727214336395],\n",
              " [0.16716167330741882],\n",
              " [0.20699875056743622],\n",
              " [0.25538545846939087],\n",
              " [0.3102723956108093],\n",
              " [0.3696688413619995]]"
            ]
          },
          "metadata": {
            "tags": []
          },
          "execution_count": 42
        }
      ]
    },
    {
      "cell_type": "code",
      "metadata": {
        "id": "_q-x6Q8aMhOT",
        "colab": {
          "base_uri": "https://localhost:8080/"
        },
        "outputId": "cefdb46c-3199-459b-c5e0-38e832c51ffe"
      },
      "source": [
        "predictions_pt = scaler.inverse_transform(np.array(test_inputs_pt[-12:] ).reshape(-1, 1))\n",
        "print(predictions_pt)"
      ],
      "execution_count": 43,
      "outputs": [
        {
          "output_type": "stream",
          "text": [
            "[[461.6258316 ]\n",
            " [484.36362004]\n",
            " [500.70733479]\n",
            " [510.80675077]\n",
            " [516.19107068]\n",
            " [519.19019938]\n",
            " [521.86152357]\n",
            " [525.3907541 ]\n",
            " [530.01185507]\n",
            " [535.62471318]\n",
            " [541.99159789]\n",
            " [548.8815856 ]]\n"
          ],
          "name": "stdout"
        }
      ]
    },
    {
      "cell_type": "code",
      "metadata": {
        "id": "I4Pge_bkMu5j",
        "colab": {
          "base_uri": "https://localhost:8080/",
          "height": 336
        },
        "outputId": "98cf9b53-409b-493d-a645-0b8ac4391fbe"
      },
      "source": [
        "plt.title('Month vs Passenger')\n",
        "plt.ylabel('Total Passengers')\n",
        "plt.grid(True)\n",
        "plt.autoscale(axis='x', tight=True)\n",
        "plt.plot(flight_data['passengers'])\n",
        "plt.plot(np.arange(144, 156, 1),predictions_pt)\n",
        "plt.legend(['actual', 'predicted'], loc='upper left')\n",
        "plt.show()"
      ],
      "execution_count": 44,
      "outputs": [
        {
          "output_type": "display_data",
          "data": {
            "image/png": "[encoded data removed]",
            "text/plain": [
              "<Figure size 1080x360 with 1 Axes>"
            ]
          },
          "metadata": {
            "tags": [],
            "needs_background": "light"
          }
        }
      ]
    },
    {
      "cell_type": "code",
      "metadata": {
        "id": "TFKdbR4sMwpZ",
        "colab": {
          "base_uri": "https://localhost:8080/",
          "height": 336
        },
        "outputId": "a4ad58a5-2d3a-4356-b911-b63f5bb7e2a0"
      },
      "source": [
        "plt.title('Month vs Passenger')\n",
        "plt.ylabel('Total Passengers')\n",
        "plt.grid(True)\n",
        "plt.autoscale(axis='x', tight=True)\n",
        "plt.plot(flight_data['passengers'][-12:])\n",
        "plt.plot(np.arange(144, 156, 1),predictions_pt)\n",
        "plt.legend(['actual', 'predicted'], loc='upper left')\n",
        "plt.show()"
      ],
      "execution_count": 45,
      "outputs": [
        {
          "output_type": "display_data",
          "data": {
            "image/png": "[encoded data removed]",
            "text/plain": [
              "<Figure size 1080x360 with 1 Axes>"
            ]
          },
          "metadata": {
            "tags": [],
            "needs_background": "light"
          }
        }
      ]
    }
  ]
}