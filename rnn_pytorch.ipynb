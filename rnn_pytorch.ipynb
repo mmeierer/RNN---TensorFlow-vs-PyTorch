{
  "nbformat": 4,
  "nbformat_minor": 0,
  "metadata": {
    "colab": {
      "name": "rnn_pytorch.ipynb",
      "provenance": [],
      "collapsed_sections": [],
      "machine_shape": "hm"
    },
    "kernelspec": {
      "name": "python3",
      "display_name": "Python 3"
    },
    "accelerator": "GPU"
  },
  "cells": [
    {
      "cell_type": "markdown",
      "metadata": {
        "id": "MJ31gTXJ9FAo"
      },
      "source": [
        "# Time series prediction using an RNN with PyTorch"
      ]
    },
    {
      "cell_type": "markdown",
      "metadata": {
        "id": "em3qmb5J9NBY"
      },
      "source": [
        "## 1. Import & Preprocessing"
      ]
    },
    {
      "cell_type": "markdown",
      "metadata": {
        "id": "RcLVulXD9Sq0"
      },
      "source": [
        "### a) Importing modules"
      ]
    },
    {
      "cell_type": "code",
      "metadata": {
        "id": "GgwSrLIa_FW0"
      },
      "source": [
        "import pandas as pd\n",
        "import tensorflow as tf\n",
        "import numpy as np\n",
        "import matplotlib.pyplot as plt\n",
        "import seaborn as sns\n",
        "from sklearn.preprocessing import MinMaxScaler\n",
        "\n",
        "\n",
        "import torch\n",
        "import torch.nn as nn\n",
        "import torch.optim as optim"
      ],
      "execution_count": null,
      "outputs": []
    },
    {
      "cell_type": "markdown",
      "metadata": {
        "id": "xf27__wO9b1g"
      },
      "source": [
        "### b) Importing data"
      ]
    },
    {
      "cell_type": "code",
      "metadata": {
        "id": "U2N6tCAU-0kf",
        "outputId": "89fc2b05-83c4-4b53-b3e3-7ca9d77f8e2b",
        "colab": {
          "base_uri": "https://localhost:8080/",
          "height": 206
        }
      },
      "source": [
        "flight_data = sns.load_dataset(\"flights\")\n",
        "flight_data.head()"
      ],
      "execution_count": null,
      "outputs": [
        {
          "output_type": "execute_result",
          "data": {
            "text/html": [
              "<div>\n",
              "<style scoped>\n",
              "    .dataframe tbody tr th:only-of-type {\n",
              "        vertical-align: middle;\n",
              "    }\n",
              "\n",
              "    .dataframe tbody tr th {\n",
              "        vertical-align: top;\n",
              "    }\n",
              "\n",
              "    .dataframe thead th {\n",
              "        text-align: right;\n",
              "    }\n",
              "</style>\n",
              "<table border=\"1\" class=\"dataframe\">\n",
              "  <thead>\n",
              "    <tr style=\"text-align: right;\">\n",
              "      <th></th>\n",
              "      <th>year</th>\n",
              "      <th>month</th>\n",
              "      <th>passengers</th>\n",
              "    </tr>\n",
              "  </thead>\n",
              "  <tbody>\n",
              "    <tr>\n",
              "      <th>0</th>\n",
              "      <td>1949</td>\n",
              "      <td>Jan</td>\n",
              "      <td>112</td>\n",
              "    </tr>\n",
              "    <tr>\n",
              "      <th>1</th>\n",
              "      <td>1949</td>\n",
              "      <td>Feb</td>\n",
              "      <td>118</td>\n",
              "    </tr>\n",
              "    <tr>\n",
              "      <th>2</th>\n",
              "      <td>1949</td>\n",
              "      <td>Mar</td>\n",
              "      <td>132</td>\n",
              "    </tr>\n",
              "    <tr>\n",
              "      <th>3</th>\n",
              "      <td>1949</td>\n",
              "      <td>Apr</td>\n",
              "      <td>129</td>\n",
              "    </tr>\n",
              "    <tr>\n",
              "      <th>4</th>\n",
              "      <td>1949</td>\n",
              "      <td>May</td>\n",
              "      <td>121</td>\n",
              "    </tr>\n",
              "  </tbody>\n",
              "</table>\n",
              "</div>"
            ],
            "text/plain": [
              "   year month  passengers\n",
              "0  1949   Jan         112\n",
              "1  1949   Feb         118\n",
              "2  1949   Mar         132\n",
              "3  1949   Apr         129\n",
              "4  1949   May         121"
            ]
          },
          "metadata": {
            "tags": []
          },
          "execution_count": 2
        }
      ]
    },
    {
      "cell_type": "code",
      "metadata": {
        "id": "JjftvVzf8XH8",
        "outputId": "5b7a8ced-c20d-4ac3-8364-2bd6881e267f",
        "colab": {
          "base_uri": "https://localhost:8080/",
          "height": 34
        }
      },
      "source": [
        "flight_data.shape"
      ],
      "execution_count": null,
      "outputs": [
        {
          "output_type": "execute_result",
          "data": {
            "text/plain": [
              "(144, 3)"
            ]
          },
          "metadata": {
            "tags": []
          },
          "execution_count": 3
        }
      ]
    },
    {
      "cell_type": "code",
      "metadata": {
        "id": "Gnde1SASbl6B",
        "outputId": "5447a69d-392c-47d6-f842-b18c23530518",
        "colab": {
          "base_uri": "https://localhost:8080/",
          "height": 367
        }
      },
      "source": [
        "fig_size = plt.rcParams[\"figure.figsize\"]\n",
        "fig_size[0] = 15\n",
        "fig_size[1] = 5\n",
        "plt.rcParams[\"figure.figsize\"] = fig_size\n",
        "plt.title('Month vs Passenger')\n",
        "plt.ylabel('Total Passengers')\n",
        "plt.xlabel('Months')\n",
        "plt.grid(True)\n",
        "plt.autoscale(axis='x',tight=True)\n",
        "plt.plot(flight_data['passengers'])"
      ],
      "execution_count": null,
      "outputs": [
        {
          "output_type": "execute_result",
          "data": {
            "text/plain": [
              "[<matplotlib.lines.Line2D at 0x7efb7c3fd5f8>]"
            ]
          },
          "metadata": {
            "tags": []
          },
          "execution_count": 4
        },
        {
          "output_type": "display_data",
          "data": {
            "image/png": "[encoded data removed]",
            "text/plain": [
              "<Figure size 1080x360 with 1 Axes>"
            ]
          },
          "metadata": {
            "tags": [],
            "needs_background": "light"
          }
        }
      ]
    },
    {
      "cell_type": "markdown",
      "metadata": {
        "id": "NU4YV9PX9j-n"
      },
      "source": [
        "### c) Data preparation"
      ]
    },
    {
      "cell_type": "code",
      "metadata": {
        "id": "RR37OzOYb1fH"
      },
      "source": [
        "data = flight_data['passengers']"
      ],
      "execution_count": null,
      "outputs": []
    },
    {
      "cell_type": "code",
      "metadata": {
        "id": "k_3cTogub8Xf"
      },
      "source": [
        "test_size = 12\n",
        "\n",
        "x_train = data[:-test_size].values.astype(float)\n",
        "x_test = data[-test_size:].values.astype(float)"
      ],
      "execution_count": null,
      "outputs": []
    },
    {
      "cell_type": "code",
      "metadata": {
        "id": "qyJuoFW0dNt1",
        "outputId": "134b55f1-7e34-4d34-902d-886476add9d5",
        "colab": {
          "base_uri": "https://localhost:8080/",
          "height": 34
        }
      },
      "source": [
        "x_train.shape"
      ],
      "execution_count": null,
      "outputs": [
        {
          "output_type": "execute_result",
          "data": {
            "text/plain": [
              "(132,)"
            ]
          },
          "metadata": {
            "tags": []
          },
          "execution_count": 7
        }
      ]
    },
    {
      "cell_type": "code",
      "metadata": {
        "id": "XTb-oZx4dPc2",
        "outputId": "c8988db1-d401-40b3-d36a-7a99d9f059fc",
        "colab": {
          "base_uri": "https://localhost:8080/",
          "height": 34
        }
      },
      "source": [
        "x_test.shape"
      ],
      "execution_count": null,
      "outputs": [
        {
          "output_type": "execute_result",
          "data": {
            "text/plain": [
              "(12,)"
            ]
          },
          "metadata": {
            "tags": []
          },
          "execution_count": 8
        }
      ]
    },
    {
      "cell_type": "code",
      "metadata": {
        "id": "KM48DMDz_fpc"
      },
      "source": [
        "scaler = MinMaxScaler(feature_range=(-1, 1))\n",
        "x_train = scaler.fit_transform(x_train.reshape(-1, 1))"
      ],
      "execution_count": null,
      "outputs": []
    },
    {
      "cell_type": "code",
      "metadata": {
        "id": "I9mUZBxHc6Ii",
        "outputId": "15bfd0b7-3345-4cde-e82f-816a8f2c793b",
        "colab": {
          "base_uri": "https://localhost:8080/",
          "height": 34
        }
      },
      "source": [
        "x_train.shape"
      ],
      "execution_count": null,
      "outputs": [
        {
          "output_type": "execute_result",
          "data": {
            "text/plain": [
              "(132, 1)"
            ]
          },
          "metadata": {
            "tags": []
          },
          "execution_count": 10
        }
      ]
    },
    {
      "cell_type": "markdown",
      "metadata": {
        "id": "cpyhiurU-NCF"
      },
      "source": [
        "## 2. Model specific data preparation"
      ]
    },
    {
      "cell_type": "markdown",
      "metadata": {
        "id": "Y4EsssDG-Thm"
      },
      "source": [
        "### a) Load the data"
      ]
    },
    {
      "cell_type": "code",
      "metadata": {
        "id": "4zqyZltIdyoI"
      },
      "source": [
        "x_train_pt = torch.FloatTensor(x_train).squeeze()"
      ],
      "execution_count": null,
      "outputs": []
    },
    {
      "cell_type": "code",
      "metadata": {
        "id": "iIi1r5a0G4af",
        "outputId": "e73e0406-7582-40f2-c16e-4feba95debf8",
        "colab": {
          "base_uri": "https://localhost:8080/",
          "height": 34
        }
      },
      "source": [
        "x_train_pt.shape"
      ],
      "execution_count": null,
      "outputs": [
        {
          "output_type": "execute_result",
          "data": {
            "text/plain": [
              "torch.Size([132])"
            ]
          },
          "metadata": {
            "tags": []
          },
          "execution_count": 12
        }
      ]
    },
    {
      "cell_type": "code",
      "metadata": {
        "id": "3MuUTDY1dsU0"
      },
      "source": [
        "def create_sequences(input_data, window=12):\n",
        "    seq = []\n",
        "    L = len(input_data)\n",
        "    for i in range(L-window):\n",
        "        train_seq = input_data[i:i+window]\n",
        "        train_label = input_data[i+window:i+window+1]\n",
        "        seq.append((train_seq ,train_label))\n",
        "    return seq"
      ],
      "execution_count": null,
      "outputs": []
    },
    {
      "cell_type": "code",
      "metadata": {
        "id": "6NihxXiPdr47"
      },
      "source": [
        "train_seq_pt = create_sequences(x_train_pt)"
      ],
      "execution_count": null,
      "outputs": []
    },
    {
      "cell_type": "code",
      "metadata": {
        "id": "cR3uXrUWjErs",
        "outputId": "9e6d0f0d-f501-49b3-cb39-4d205f6bcde8",
        "colab": {
          "base_uri": "https://localhost:8080/",
          "height": 34
        }
      },
      "source": [
        "len(train_seq_pt)"
      ],
      "execution_count": null,
      "outputs": [
        {
          "output_type": "execute_result",
          "data": {
            "text/plain": [
              "120"
            ]
          },
          "metadata": {
            "tags": []
          },
          "execution_count": 15
        }
      ]
    },
    {
      "cell_type": "markdown",
      "metadata": {
        "id": "F8owQyL7-dqH"
      },
      "source": [
        "### b) Tensor view of the data"
      ]
    },
    {
      "cell_type": "code",
      "metadata": {
        "id": "TdAooKHJdYT1",
        "outputId": "6b43c002-c261-432f-f1e8-4c416feb343f",
        "colab": {
          "base_uri": "https://localhost:8080/",
          "height": 52
        }
      },
      "source": [
        "train_seq_pt[0]"
      ],
      "execution_count": null,
      "outputs": [
        {
          "output_type": "execute_result",
          "data": {
            "text/plain": [
              "(tensor([-0.9648, -0.9385, -0.8769, -0.8901, -0.9253, -0.8637, -0.8066, -0.8066,\n",
              "         -0.8593, -0.9341, -1.0000, -0.9385]), tensor([-0.9516]))"
            ]
          },
          "metadata": {
            "tags": []
          },
          "execution_count": 16
        }
      ]
    },
    {
      "cell_type": "markdown",
      "metadata": {
        "id": "m9YOzlYG-ck5"
      },
      "source": [
        "## 3. Model definition"
      ]
    },
    {
      "cell_type": "markdown",
      "metadata": {
        "id": "ytn83jHz-nP8"
      },
      "source": [
        "### a) Build the model"
      ]
    },
    {
      "cell_type": "code",
      "metadata": {
        "id": "3_sfQE_NwnxE"
      },
      "source": [
        "def init_weights(self):\n",
        "        for m in self.modules():\n",
        "            if type(m) in [nn.Linear, nn.LSTM]:\n",
        "                for name, param in m.named_parameters():\n",
        "                    if 'weight_ih' in name or name == 'weight':\n",
        "                        torch.nn.init.uniform_(param.data, -1,1)\n",
        "                    elif 'weight_hh' in name:\n",
        "                        torch.nn.init.orthogonal_(param.data)\n",
        "                    elif 'bias' in name:\n",
        "                        param.data.fill_(0)"
      ],
      "execution_count": null,
      "outputs": []
    },
    {
      "cell_type": "code",
      "metadata": {
        "id": "y3g29sbf4pOc"
      },
      "source": [
        "class LSTM_PT(nn.Module):\n",
        "    def __init__(self, input_size=1, hidden_layer_size=100, output_size=1):\n",
        "        super().__init__()\n",
        "        self.hidden_layer_size = hidden_layer_size\n",
        "        self.lstm = nn.LSTM(input_size, hidden_layer_size)\n",
        "        self.linear = nn.Linear(hidden_layer_size, output_size)\n",
        "\n",
        "    def forward(self, inputs):\n",
        "        h0, c0 = self.init_hidden(inputs)\n",
        "        lstm_out, (hn, cn) = self.lstm(inputs.view(len(inputs) ,-1, 1))\n",
        "        predictions = self.linear(lstm_out.view(len(inputs), -1))\n",
        "        return predictions[-1]\n",
        "\n",
        "    def init_hidden(self, x):\n",
        "        h0 = torch.zeros(1,1,self.hidden_layer_size)\n",
        "        c0 = torch.zeros(1,1,self.hidden_layer_size)\n",
        "        return [t for t in (h0, c0)]\n",
        "\n",
        "model_pt = LSTM_PT()"
      ],
      "execution_count": null,
      "outputs": []
    },
    {
      "cell_type": "code",
      "metadata": {
        "id": "qJ06U-KLQkKL",
        "outputId": "bbd98494-23c2-42c4-e025-243d782d5471",
        "colab": {
          "base_uri": "https://localhost:8080/",
          "height": 86
        }
      },
      "source": [
        "model_pt.apply(init_weights)"
      ],
      "execution_count": null,
      "outputs": [
        {
          "output_type": "execute_result",
          "data": {
            "text/plain": [
              "LSTM_PT(\n",
              "  (lstm): LSTM(1, 100)\n",
              "  (linear): Linear(in_features=100, out_features=1, bias=True)\n",
              ")"
            ]
          },
          "metadata": {
            "tags": []
          },
          "execution_count": 19
        }
      ]
    },
    {
      "cell_type": "markdown",
      "metadata": {
        "id": "RBSeEscN-tXC"
      },
      "source": [
        "### b) Inspect the model"
      ]
    },
    {
      "cell_type": "code",
      "metadata": {
        "id": "ZK_kE88xKdJk",
        "outputId": "5886f9df-e61f-49af-81eb-98485bf7bea6",
        "colab": {
          "base_uri": "https://localhost:8080/",
          "height": 121
        }
      },
      "source": [
        "params_pt = model_pt.named_parameters()\n",
        "for name, param in params_pt:\n",
        "  print(name)"
      ],
      "execution_count": null,
      "outputs": [
        {
          "output_type": "stream",
          "text": [
            "lstm.weight_ih_l0\n",
            "lstm.weight_hh_l0\n",
            "lstm.bias_ih_l0\n",
            "lstm.bias_hh_l0\n",
            "linear.weight\n",
            "linear.bias\n"
          ],
          "name": "stdout"
        }
      ]
    },
    {
      "cell_type": "markdown",
      "metadata": {
        "id": "KnHCVUvw-0XR"
      },
      "source": [
        "### c) Inspect the first hidden layer"
      ]
    },
    {
      "cell_type": "code",
      "metadata": {
        "id": "7kEWL_RDLevS",
        "outputId": "32cbb497-dbc5-430d-c36e-798e522d695e",
        "colab": {
          "base_uri": "https://localhost:8080/",
          "height": 1000
        }
      },
      "source": [
        "model_pt.lstm._parameters['weight_ih_l0']"
      ],
      "execution_count": null,
      "outputs": [
        {
          "output_type": "execute_result",
          "data": {
            "text/plain": [
              "Parameter containing:\n",
              "tensor([[ 7.5436e-03],\n",
              "        [-9.0757e-01],\n",
              "        [ 4.9474e-01],\n",
              "        [-1.9748e-02],\n",
              "        [-4.1581e-01],\n",
              "        [-8.1391e-01],\n",
              "        [ 2.4360e-01],\n",
              "        [-5.3848e-01],\n",
              "        [ 9.9178e-01],\n",
              "        [ 5.2769e-02],\n",
              "        [-6.8712e-01],\n",
              "        [-6.2675e-01],\n",
              "        [-2.6106e-01],\n",
              "        [ 5.2523e-01],\n",
              "        [ 5.0070e-01],\n",
              "        [-7.4434e-01],\n",
              "        [ 8.4302e-01],\n",
              "        [-7.1562e-01],\n",
              "        [-8.1817e-01],\n",
              "        [ 4.6565e-01],\n",
              "        [ 6.8202e-01],\n",
              "        [ 6.3464e-01],\n",
              "        [-2.8164e-01],\n",
              "        [ 7.0539e-01],\n",
              "        [-3.4682e-01],\n",
              "        [ 1.5032e-01],\n",
              "        [ 5.5950e-01],\n",
              "        [-4.6837e-01],\n",
              "        [-4.3061e-01],\n",
              "        [ 9.7801e-01],\n",
              "        [ 1.4264e-01],\n",
              "        [ 3.3180e-01],\n",
              "        [-9.2078e-02],\n",
              "        [-9.7589e-01],\n",
              "        [ 3.6548e-01],\n",
              "        [-1.8703e-01],\n",
              "        [-8.5933e-01],\n",
              "        [ 8.4420e-01],\n",
              "        [-7.2446e-01],\n",
              "        [ 3.4702e-01],\n",
              "        [-9.3834e-02],\n",
              "        [-1.2796e-01],\n",
              "        [ 9.6917e-01],\n",
              "        [-5.6915e-01],\n",
              "        [ 6.9912e-01],\n",
              "        [-7.7507e-01],\n",
              "        [ 9.8570e-01],\n",
              "        [-6.9713e-01],\n",
              "        [ 6.6064e-01],\n",
              "        [-3.5426e-01],\n",
              "        [-2.9071e-01],\n",
              "        [ 5.9861e-01],\n",
              "        [-5.6280e-01],\n",
              "        [ 3.6079e-01],\n",
              "        [-7.7202e-01],\n",
              "        [-9.2328e-01],\n",
              "        [ 6.2420e-01],\n",
              "        [ 7.4058e-01],\n",
              "        [-9.2946e-01],\n",
              "        [-1.9480e-01],\n",
              "        [ 7.5886e-01],\n",
              "        [-8.9570e-01],\n",
              "        [-1.5911e-01],\n",
              "        [ 5.0459e-01],\n",
              "        [-8.8746e-01],\n",
              "        [-4.9958e-01],\n",
              "        [ 1.5329e-01],\n",
              "        [ 2.7145e-02],\n",
              "        [-2.7263e-01],\n",
              "        [-8.9629e-02],\n",
              "        [-9.7664e-02],\n",
              "        [-2.8027e-01],\n",
              "        [-8.1032e-01],\n",
              "        [ 1.6930e-01],\n",
              "        [ 1.8991e-01],\n",
              "        [ 2.0400e-01],\n",
              "        [-3.1137e-01],\n",
              "        [ 8.7534e-01],\n",
              "        [ 2.6443e-01],\n",
              "        [-6.7326e-02],\n",
              "        [ 8.9961e-01],\n",
              "        [-9.0122e-01],\n",
              "        [ 8.1918e-02],\n",
              "        [ 9.9711e-01],\n",
              "        [-3.6703e-01],\n",
              "        [ 3.9271e-01],\n",
              "        [-6.2260e-01],\n",
              "        [-5.0998e-01],\n",
              "        [ 9.2168e-01],\n",
              "        [ 7.0672e-02],\n",
              "        [-8.1686e-01],\n",
              "        [ 6.3340e-01],\n",
              "        [ 7.4012e-01],\n",
              "        [-3.7912e-01],\n",
              "        [ 5.1292e-01],\n",
              "        [-4.4006e-01],\n",
              "        [-7.7819e-03],\n",
              "        [ 9.3568e-01],\n",
              "        [ 9.7108e-01],\n",
              "        [ 2.6822e-01],\n",
              "        [ 6.4420e-01],\n",
              "        [ 8.5415e-01],\n",
              "        [-3.9781e-01],\n",
              "        [-3.2012e-01],\n",
              "        [-8.4638e-01],\n",
              "        [-2.0797e-01],\n",
              "        [-5.4389e-01],\n",
              "        [-3.0757e-01],\n",
              "        [-6.2881e-01],\n",
              "        [-2.5285e-01],\n",
              "        [ 6.3408e-01],\n",
              "        [-1.6466e-01],\n",
              "        [ 9.6376e-01],\n",
              "        [ 9.5739e-01],\n",
              "        [ 8.7329e-01],\n",
              "        [ 9.3514e-01],\n",
              "        [ 2.2139e-01],\n",
              "        [ 9.1311e-01],\n",
              "        [ 2.2114e-01],\n",
              "        [ 6.2935e-01],\n",
              "        [-9.5297e-01],\n",
              "        [ 8.6347e-01],\n",
              "        [ 3.0146e-01],\n",
              "        [-9.7275e-01],\n",
              "        [-8.2705e-01],\n",
              "        [ 9.5816e-01],\n",
              "        [-7.3924e-01],\n",
              "        [ 6.8378e-01],\n",
              "        [ 5.4488e-01],\n",
              "        [ 5.4041e-01],\n",
              "        [ 6.9883e-01],\n",
              "        [ 8.1225e-01],\n",
              "        [-2.3043e-01],\n",
              "        [-3.5480e-01],\n",
              "        [ 7.7549e-01],\n",
              "        [-7.8428e-02],\n",
              "        [-2.9887e-01],\n",
              "        [-6.6277e-01],\n",
              "        [-7.6568e-01],\n",
              "        [ 7.0105e-01],\n",
              "        [ 7.4114e-01],\n",
              "        [ 3.8602e-02],\n",
              "        [-9.0848e-01],\n",
              "        [-9.7496e-01],\n",
              "        [-2.4314e-01],\n",
              "        [-8.0926e-02],\n",
              "        [ 1.8403e-01],\n",
              "        [ 8.0678e-01],\n",
              "        [-7.6182e-01],\n",
              "        [-6.0658e-01],\n",
              "        [-7.2834e-01],\n",
              "        [-3.7607e-03],\n",
              "        [-1.8443e-02],\n",
              "        [-4.4725e-01],\n",
              "        [-7.7409e-02],\n",
              "        [ 1.5797e-01],\n",
              "        [ 3.1115e-01],\n",
              "        [-1.7870e-01],\n",
              "        [ 3.2399e-01],\n",
              "        [ 8.3789e-01],\n",
              "        [-9.6000e-01],\n",
              "        [-7.8105e-01],\n",
              "        [ 9.9020e-01],\n",
              "        [ 2.7015e-01],\n",
              "        [ 6.6780e-01],\n",
              "        [-2.7791e-01],\n",
              "        [-9.1580e-01],\n",
              "        [ 7.9489e-01],\n",
              "        [-7.4512e-01],\n",
              "        [ 3.7162e-01],\n",
              "        [-2.8483e-01],\n",
              "        [-6.8226e-01],\n",
              "        [-2.3118e-01],\n",
              "        [ 5.7009e-01],\n",
              "        [-8.6010e-01],\n",
              "        [-2.6640e-02],\n",
              "        [-4.6350e-01],\n",
              "        [ 4.7643e-01],\n",
              "        [ 4.8803e-01],\n",
              "        [-2.0486e-01],\n",
              "        [ 3.4722e-01],\n",
              "        [-7.3643e-01],\n",
              "        [-6.6226e-01],\n",
              "        [ 4.0770e-01],\n",
              "        [ 3.8796e-01],\n",
              "        [-2.1310e-01],\n",
              "        [-4.4909e-01],\n",
              "        [-3.2994e-01],\n",
              "        [-1.4202e-01],\n",
              "        [-1.7546e-01],\n",
              "        [ 8.2778e-01],\n",
              "        [-6.7541e-01],\n",
              "        [-7.7432e-01],\n",
              "        [ 7.6587e-01],\n",
              "        [-6.4789e-01],\n",
              "        [ 4.8977e-01],\n",
              "        [-1.5150e-01],\n",
              "        [-9.4536e-01],\n",
              "        [-8.4813e-01],\n",
              "        [ 4.5014e-01],\n",
              "        [-2.3063e-01],\n",
              "        [-6.9189e-01],\n",
              "        [ 4.1457e-01],\n",
              "        [ 4.9209e-01],\n",
              "        [ 7.5291e-01],\n",
              "        [ 4.6301e-01],\n",
              "        [ 3.9353e-01],\n",
              "        [ 2.2973e-01],\n",
              "        [ 2.7449e-01],\n",
              "        [ 3.2938e-01],\n",
              "        [-8.0903e-02],\n",
              "        [ 4.6295e-02],\n",
              "        [ 8.3332e-01],\n",
              "        [ 6.2030e-01],\n",
              "        [ 2.9362e-01],\n",
              "        [-9.7462e-01],\n",
              "        [ 7.8603e-01],\n",
              "        [-6.6821e-01],\n",
              "        [-3.6452e-01],\n",
              "        [ 4.8818e-01],\n",
              "        [-2.5033e-01],\n",
              "        [-5.6390e-01],\n",
              "        [ 4.0854e-01],\n",
              "        [ 5.8863e-02],\n",
              "        [ 7.0112e-01],\n",
              "        [-2.5938e-02],\n",
              "        [ 3.0964e-01],\n",
              "        [-3.0547e-01],\n",
              "        [ 6.8104e-01],\n",
              "        [ 9.2695e-01],\n",
              "        [-8.1172e-01],\n",
              "        [ 2.4495e-01],\n",
              "        [-5.9851e-01],\n",
              "        [ 4.4877e-01],\n",
              "        [ 9.7335e-01],\n",
              "        [-4.9160e-01],\n",
              "        [-8.4939e-01],\n",
              "        [-1.8913e-01],\n",
              "        [-1.8082e-02],\n",
              "        [-7.9007e-01],\n",
              "        [-6.3504e-01],\n",
              "        [ 7.7055e-01],\n",
              "        [-7.4322e-01],\n",
              "        [-5.6775e-01],\n",
              "        [-9.9097e-01],\n",
              "        [-7.8780e-01],\n",
              "        [ 7.3438e-01],\n",
              "        [ 6.9177e-01],\n",
              "        [-3.2908e-01],\n",
              "        [-8.2013e-01],\n",
              "        [-1.0203e-01],\n",
              "        [ 5.0149e-01],\n",
              "        [ 6.6490e-01],\n",
              "        [ 3.5327e-01],\n",
              "        [ 3.0023e-01],\n",
              "        [-1.7659e-01],\n",
              "        [-4.6166e-01],\n",
              "        [-1.3571e-01],\n",
              "        [ 2.8157e-01],\n",
              "        [ 7.4198e-01],\n",
              "        [ 2.7589e-01],\n",
              "        [-8.6300e-01],\n",
              "        [ 9.2168e-01],\n",
              "        [ 5.9957e-01],\n",
              "        [ 8.9459e-01],\n",
              "        [-4.2722e-01],\n",
              "        [ 5.3829e-01],\n",
              "        [-1.4457e-02],\n",
              "        [-4.4085e-01],\n",
              "        [-2.0180e-01],\n",
              "        [-7.9454e-01],\n",
              "        [ 8.7994e-01],\n",
              "        [ 6.5004e-01],\n",
              "        [-1.8328e-01],\n",
              "        [ 8.0831e-02],\n",
              "        [-7.8693e-01],\n",
              "        [ 8.3978e-01],\n",
              "        [ 1.0194e-01],\n",
              "        [-6.5246e-01],\n",
              "        [ 5.1991e-01],\n",
              "        [ 5.2641e-01],\n",
              "        [ 7.8692e-01],\n",
              "        [ 2.5130e-01],\n",
              "        [ 4.8574e-01],\n",
              "        [ 7.6851e-01],\n",
              "        [-1.0903e-01],\n",
              "        [-8.3802e-01],\n",
              "        [ 6.1428e-01],\n",
              "        [-1.0294e-01],\n",
              "        [ 1.6124e-01],\n",
              "        [-7.8492e-01],\n",
              "        [ 4.7878e-01],\n",
              "        [-4.4819e-01],\n",
              "        [ 8.0752e-04],\n",
              "        [-5.0631e-01],\n",
              "        [ 3.0342e-01],\n",
              "        [-9.5041e-01],\n",
              "        [ 1.1851e-01],\n",
              "        [-5.7101e-01],\n",
              "        [ 9.2903e-01],\n",
              "        [ 7.2532e-01],\n",
              "        [-6.2618e-01],\n",
              "        [-1.7520e-01],\n",
              "        [ 6.6114e-02],\n",
              "        [ 1.7414e-01],\n",
              "        [ 2.8969e-01],\n",
              "        [ 7.5529e-01],\n",
              "        [-6.0446e-01],\n",
              "        [-7.0747e-02],\n",
              "        [-8.8349e-01],\n",
              "        [ 9.9847e-01],\n",
              "        [-7.2248e-01],\n",
              "        [-7.6244e-01],\n",
              "        [ 5.7108e-01],\n",
              "        [ 5.6193e-01],\n",
              "        [-9.3202e-01],\n",
              "        [ 5.4897e-01],\n",
              "        [-9.3681e-01],\n",
              "        [ 2.5276e-01],\n",
              "        [ 3.6757e-01],\n",
              "        [-7.6390e-01],\n",
              "        [ 9.4977e-01],\n",
              "        [-4.6532e-01],\n",
              "        [ 1.8821e-01],\n",
              "        [-6.1121e-01],\n",
              "        [-5.3726e-01],\n",
              "        [-2.2218e-01],\n",
              "        [ 3.8548e-01],\n",
              "        [ 9.6446e-01],\n",
              "        [-1.8374e-01],\n",
              "        [ 5.0939e-01],\n",
              "        [ 8.1786e-01],\n",
              "        [ 5.6137e-01],\n",
              "        [ 3.6407e-01],\n",
              "        [-6.6231e-01],\n",
              "        [-6.7681e-01],\n",
              "        [-8.1199e-01],\n",
              "        [ 7.6952e-01],\n",
              "        [-6.7351e-01],\n",
              "        [-8.3391e-02],\n",
              "        [ 8.8470e-01],\n",
              "        [-9.7932e-01],\n",
              "        [-8.6131e-01],\n",
              "        [-1.2873e-01],\n",
              "        [ 3.5001e-01],\n",
              "        [ 1.7518e-02],\n",
              "        [ 1.9460e-03],\n",
              "        [-3.5036e-01],\n",
              "        [-6.8890e-01],\n",
              "        [ 3.3175e-01],\n",
              "        [-2.5639e-02],\n",
              "        [ 2.3980e-02],\n",
              "        [ 8.8569e-01],\n",
              "        [ 4.2135e-01],\n",
              "        [-5.0889e-01],\n",
              "        [-5.7004e-01],\n",
              "        [-8.8797e-01],\n",
              "        [-4.8570e-01],\n",
              "        [-8.4880e-01],\n",
              "        [-8.5303e-01],\n",
              "        [ 7.6731e-02],\n",
              "        [ 3.3497e-01],\n",
              "        [-2.8398e-01],\n",
              "        [-4.7621e-01],\n",
              "        [ 9.7816e-01],\n",
              "        [ 1.9928e-01],\n",
              "        [-6.8629e-01],\n",
              "        [-2.5308e-01],\n",
              "        [-5.4226e-01],\n",
              "        [-7.2512e-01],\n",
              "        [-5.7550e-01],\n",
              "        [-9.9638e-01],\n",
              "        [ 5.4380e-01],\n",
              "        [-5.8485e-01],\n",
              "        [ 6.5758e-01],\n",
              "        [ 7.9283e-01],\n",
              "        [ 4.3052e-02],\n",
              "        [-4.3738e-01],\n",
              "        [ 2.0982e-01],\n",
              "        [-4.9989e-01],\n",
              "        [-1.9442e-01],\n",
              "        [-1.2681e-01],\n",
              "        [ 3.0065e-01],\n",
              "        [-1.8675e-01],\n",
              "        [-1.7491e-01],\n",
              "        [ 2.8804e-01],\n",
              "        [ 6.7054e-01],\n",
              "        [-5.6381e-01],\n",
              "        [-5.6886e-01],\n",
              "        [ 9.3267e-01],\n",
              "        [-8.5586e-01],\n",
              "        [-1.0420e-01],\n",
              "        [-8.1362e-01],\n",
              "        [ 2.3372e-01],\n",
              "        [-4.2459e-01],\n",
              "        [ 8.9985e-01],\n",
              "        [-3.5494e-01],\n",
              "        [ 2.8809e-02],\n",
              "        [-8.7257e-01],\n",
              "        [-7.3604e-01]], requires_grad=True)"
            ]
          },
          "metadata": {
            "tags": []
          },
          "execution_count": 21
        }
      ]
    },
    {
      "cell_type": "code",
      "metadata": {
        "id": "IbPHZpylLek3",
        "outputId": "51d4fd13-f7eb-47f2-bdce-f2a2e2f7605e",
        "colab": {
          "base_uri": "https://localhost:8080/",
          "height": 34
        }
      },
      "source": [
        "model_pt.lstm._parameters['weight_ih_l0'].shape"
      ],
      "execution_count": null,
      "outputs": [
        {
          "output_type": "execute_result",
          "data": {
            "text/plain": [
              "torch.Size([400, 1])"
            ]
          },
          "metadata": {
            "tags": []
          },
          "execution_count": 22
        }
      ]
    },
    {
      "cell_type": "code",
      "metadata": {
        "id": "BllmY_pjgmtT",
        "outputId": "885ed586-7803-4af0-ab51-8d1ac7f8d6fe",
        "colab": {
          "base_uri": "https://localhost:8080/",
          "height": 347
        }
      },
      "source": [
        "model_pt.lstm._parameters['bias_ih_l0']"
      ],
      "execution_count": null,
      "outputs": [
        {
          "output_type": "execute_result",
          "data": {
            "text/plain": [
              "Parameter containing:\n",
              "tensor([0., 0., 0., 0., 0., 0., 0., 0., 0., 0., 0., 0., 0., 0., 0., 0., 0., 0., 0., 0., 0., 0., 0., 0.,\n",
              "        0., 0., 0., 0., 0., 0., 0., 0., 0., 0., 0., 0., 0., 0., 0., 0., 0., 0., 0., 0., 0., 0., 0., 0.,\n",
              "        0., 0., 0., 0., 0., 0., 0., 0., 0., 0., 0., 0., 0., 0., 0., 0., 0., 0., 0., 0., 0., 0., 0., 0.,\n",
              "        0., 0., 0., 0., 0., 0., 0., 0., 0., 0., 0., 0., 0., 0., 0., 0., 0., 0., 0., 0., 0., 0., 0., 0.,\n",
              "        0., 0., 0., 0., 0., 0., 0., 0., 0., 0., 0., 0., 0., 0., 0., 0., 0., 0., 0., 0., 0., 0., 0., 0.,\n",
              "        0., 0., 0., 0., 0., 0., 0., 0., 0., 0., 0., 0., 0., 0., 0., 0., 0., 0., 0., 0., 0., 0., 0., 0.,\n",
              "        0., 0., 0., 0., 0., 0., 0., 0., 0., 0., 0., 0., 0., 0., 0., 0., 0., 0., 0., 0., 0., 0., 0., 0.,\n",
              "        0., 0., 0., 0., 0., 0., 0., 0., 0., 0., 0., 0., 0., 0., 0., 0., 0., 0., 0., 0., 0., 0., 0., 0.,\n",
              "        0., 0., 0., 0., 0., 0., 0., 0., 0., 0., 0., 0., 0., 0., 0., 0., 0., 0., 0., 0., 0., 0., 0., 0.,\n",
              "        0., 0., 0., 0., 0., 0., 0., 0., 0., 0., 0., 0., 0., 0., 0., 0., 0., 0., 0., 0., 0., 0., 0., 0.,\n",
              "        0., 0., 0., 0., 0., 0., 0., 0., 0., 0., 0., 0., 0., 0., 0., 0., 0., 0., 0., 0., 0., 0., 0., 0.,\n",
              "        0., 0., 0., 0., 0., 0., 0., 0., 0., 0., 0., 0., 0., 0., 0., 0., 0., 0., 0., 0., 0., 0., 0., 0.,\n",
              "        0., 0., 0., 0., 0., 0., 0., 0., 0., 0., 0., 0., 0., 0., 0., 0., 0., 0., 0., 0., 0., 0., 0., 0.,\n",
              "        0., 0., 0., 0., 0., 0., 0., 0., 0., 0., 0., 0., 0., 0., 0., 0., 0., 0., 0., 0., 0., 0., 0., 0.,\n",
              "        0., 0., 0., 0., 0., 0., 0., 0., 0., 0., 0., 0., 0., 0., 0., 0., 0., 0., 0., 0., 0., 0., 0., 0.,\n",
              "        0., 0., 0., 0., 0., 0., 0., 0., 0., 0., 0., 0., 0., 0., 0., 0., 0., 0., 0., 0., 0., 0., 0., 0.,\n",
              "        0., 0., 0., 0., 0., 0., 0., 0., 0., 0., 0., 0., 0., 0., 0., 0.],\n",
              "       requires_grad=True)"
            ]
          },
          "metadata": {
            "tags": []
          },
          "execution_count": 23
        }
      ]
    },
    {
      "cell_type": "code",
      "metadata": {
        "id": "U2waeNN7a9kc",
        "outputId": "980953c8-2076-4f02-a626-62fae4549b6c",
        "colab": {
          "base_uri": "https://localhost:8080/",
          "height": 34
        }
      },
      "source": [
        "model_pt.lstm._parameters['bias_ih_l0'].shape"
      ],
      "execution_count": null,
      "outputs": [
        {
          "output_type": "execute_result",
          "data": {
            "text/plain": [
              "torch.Size([400])"
            ]
          },
          "metadata": {
            "tags": []
          },
          "execution_count": 24
        }
      ]
    },
    {
      "cell_type": "markdown",
      "metadata": {
        "id": "Ow8SrWp5_GzL"
      },
      "source": [
        "## 4. Loss & Optimizer"
      ]
    },
    {
      "cell_type": "code",
      "metadata": {
        "id": "2XnclAKMDWwh"
      },
      "source": [
        "optimizer_pt = torch.optim.Adam(model_pt.parameters())\n",
        "loss_fn_pt = nn.MSELoss()"
      ],
      "execution_count": null,
      "outputs": []
    },
    {
      "cell_type": "markdown",
      "metadata": {
        "id": "EDHau6DW_MPn"
      },
      "source": [
        "## 5. Training"
      ]
    },
    {
      "cell_type": "markdown",
      "metadata": {
        "id": "j9zWBPNR_RfS"
      },
      "source": [
        "### a) Training loop"
      ]
    },
    {
      "cell_type": "code",
      "metadata": {
        "id": "xgZ0GBXg46RT"
      },
      "source": [
        "def train_step_pt(model, optimizer, loss_fn, sequence):\n",
        "  total_loss = 0.0\n",
        "\n",
        "  for seq, label in sequence:\n",
        "    optimizer.zero_grad()\n",
        "    y_pred_pt = model(seq)\n",
        "          \n",
        "    loss = loss_fn(y_pred_pt,label)\n",
        "\n",
        "    loss.backward()\n",
        "    optimizer.step()\n",
        "    total_loss += np.sum(loss.data.numpy())\n",
        "  return total_loss/len(seq)"
      ],
      "execution_count": null,
      "outputs": []
    },
    {
      "cell_type": "code",
      "metadata": {
        "id": "OEe_aBKZNn5e",
        "outputId": "816b392f-4884-4df6-d567-d1cba93fe834",
        "colab": {
          "base_uri": "https://localhost:8080/",
          "height": 451
        }
      },
      "source": [
        "train_loss_pt = []\n",
        "\n",
        "epochs = 25\n",
        "for epoch in range(epochs):\n",
        "  \n",
        "  loss = train_step_pt(model_pt, optimizer_pt, loss_fn_pt,train_seq_pt)\n",
        "  train_loss_pt.append(loss)\n",
        "\n",
        "  template = (\"Epoch {}, Loss: {}\")\n",
        "  print(template.format(epoch+1, loss))"
      ],
      "execution_count": null,
      "outputs": [
        {
          "output_type": "stream",
          "text": [
            "Epoch 1, Loss: 0.895357415085229\n",
            "Epoch 2, Loss: 0.8234581336054513\n",
            "Epoch 3, Loss: 0.3087507461691909\n",
            "Epoch 4, Loss: 0.3231701800078402\n",
            "Epoch 5, Loss: 0.36058041845520467\n",
            "Epoch 6, Loss: 0.21181213449839711\n",
            "Epoch 7, Loss: 0.2937254602226555\n",
            "Epoch 8, Loss: 0.20443397051351062\n",
            "Epoch 9, Loss: 0.2979670363305331\n",
            "Epoch 10, Loss: 0.24070109548398477\n",
            "Epoch 11, Loss: 0.3545712364372922\n",
            "Epoch 12, Loss: 0.29855455018813853\n",
            "Epoch 13, Loss: 0.3627543940999658\n",
            "Epoch 14, Loss: 0.21053995351827362\n",
            "Epoch 15, Loss: 0.2109293579112356\n",
            "Epoch 16, Loss: 0.18583531574754866\n",
            "Epoch 17, Loss: 0.22544338311684964\n",
            "Epoch 18, Loss: 0.35660786081634416\n",
            "Epoch 19, Loss: 0.2513921297113484\n",
            "Epoch 20, Loss: 0.223042339286053\n",
            "Epoch 21, Loss: 0.14770570832709495\n",
            "Epoch 22, Loss: 0.21863402207069763\n",
            "Epoch 23, Loss: 0.19467673348603873\n",
            "Epoch 24, Loss: 0.3477332680498059\n",
            "Epoch 25, Loss: 0.21799521599738605\n"
          ],
          "name": "stdout"
        }
      ]
    },
    {
      "cell_type": "markdown",
      "metadata": {
        "id": "Ps8QHc63_qfg"
      },
      "source": [
        "### b) Training progress"
      ]
    },
    {
      "cell_type": "code",
      "metadata": {
        "id": "OT_mQn9g7jjU",
        "outputId": "0bdc2fa6-7193-4abe-fa21-97e1e41bfb8e",
        "colab": {
          "base_uri": "https://localhost:8080/",
          "height": 621
        }
      },
      "source": [
        "plt.figure(figsize=(16,10))\n",
        "plt.plot(train_loss_pt)\n",
        "#plt.plot(test_loss_tf)\n",
        "plt.title('model loss')\n",
        "plt.ylabel('loss')\n",
        "plt.xlabel('epoch')\n",
        "plt.legend(['train'], loc='upper right')\n",
        "plt.show()"
      ],
      "execution_count": null,
      "outputs": [
        {
          "output_type": "display_data",
          "data": {
            "image/png": "[encoded data removed]",
            "text/plain": [
              "<Figure size 1152x720 with 1 Axes>"
            ]
          },
          "metadata": {
            "tags": [],
            "needs_background": "light"
          }
        }
      ]
    },
    {
      "cell_type": "markdown",
      "metadata": {
        "id": "fauTTV80_34y"
      },
      "source": [
        "### c) Inspect the first hidden layer after training"
      ]
    },
    {
      "cell_type": "code",
      "metadata": {
        "id": "JFGiGkhnGi_M",
        "outputId": "97b2af6c-4bbc-4fbc-d2fb-1605321bbf28",
        "colab": {
          "base_uri": "https://localhost:8080/",
          "height": 1000
        }
      },
      "source": [
        "model_pt.lstm._parameters['weight_ih_l0']"
      ],
      "execution_count": null,
      "outputs": [
        {
          "output_type": "execute_result",
          "data": {
            "text/plain": [
              "Parameter containing:\n",
              "tensor([[ 0.0542],\n",
              "        [-0.8515],\n",
              "        [ 0.5120],\n",
              "        [-0.0058],\n",
              "        [-0.3911],\n",
              "        [-0.8090],\n",
              "        [ 0.2488],\n",
              "        [-0.3953],\n",
              "        [ 1.0214],\n",
              "        [ 0.0744],\n",
              "        [-0.6185],\n",
              "        [-0.5319],\n",
              "        [-0.2165],\n",
              "        [ 0.5325],\n",
              "        [ 0.5482],\n",
              "        [-0.7427],\n",
              "        [ 0.8574],\n",
              "        [-0.6820],\n",
              "        [-0.7851],\n",
              "        [ 0.4709],\n",
              "        [ 0.7090],\n",
              "        [ 0.6476],\n",
              "        [-0.2473],\n",
              "        [ 0.7340],\n",
              "        [-0.3241],\n",
              "        [ 0.2386],\n",
              "        [ 0.5707],\n",
              "        [-0.4470],\n",
              "        [-0.4398],\n",
              "        [ 0.9996],\n",
              "        [ 0.1562],\n",
              "        [ 0.3629],\n",
              "        [-0.0822],\n",
              "        [-0.9720],\n",
              "        [ 0.4006],\n",
              "        [-0.1332],\n",
              "        [-0.8433],\n",
              "        [ 0.9115],\n",
              "        [-0.6949],\n",
              "        [ 0.3687],\n",
              "        [-0.1008],\n",
              "        [-0.0656],\n",
              "        [ 1.0137],\n",
              "        [-0.5839],\n",
              "        [ 0.7235],\n",
              "        [-0.7363],\n",
              "        [ 1.0069],\n",
              "        [-0.6710],\n",
              "        [ 0.6878],\n",
              "        [-0.4165],\n",
              "        [-0.1492],\n",
              "        [ 0.6261],\n",
              "        [-0.5738],\n",
              "        [ 0.4395],\n",
              "        [-0.7466],\n",
              "        [-0.8516],\n",
              "        [ 0.6588],\n",
              "        [ 0.7719],\n",
              "        [-0.8970],\n",
              "        [-0.1855],\n",
              "        [ 0.7926],\n",
              "        [-0.8599],\n",
              "        [ 0.0381],\n",
              "        [ 0.5230],\n",
              "        [-0.9262],\n",
              "        [-0.4841],\n",
              "        [ 0.1937],\n",
              "        [ 0.1252],\n",
              "        [-0.2188],\n",
              "        [-0.0424],\n",
              "        [-0.0875],\n",
              "        [-0.2615],\n",
              "        [-0.7923],\n",
              "        [ 0.1972],\n",
              "        [ 0.2109],\n",
              "        [ 0.2291],\n",
              "        [-0.2965],\n",
              "        [ 0.9325],\n",
              "        [ 0.2823],\n",
              "        [-0.0075],\n",
              "        [ 0.9402],\n",
              "        [-0.9544],\n",
              "        [ 0.0658],\n",
              "        [ 1.0160],\n",
              "        [-0.3411],\n",
              "        [ 0.4177],\n",
              "        [-0.5824],\n",
              "        [-0.4665],\n",
              "        [ 1.0019],\n",
              "        [ 0.1746],\n",
              "        [-0.7762],\n",
              "        [ 0.6595],\n",
              "        [ 0.7709],\n",
              "        [-0.3502],\n",
              "        [ 0.5355],\n",
              "        [-0.4502],\n",
              "        [ 0.0042],\n",
              "        [ 0.9716],\n",
              "        [ 1.0166],\n",
              "        [ 0.3059],\n",
              "        [ 0.6438],\n",
              "        [ 0.8974],\n",
              "        [-0.3832],\n",
              "        [-0.2885],\n",
              "        [-0.8309],\n",
              "        [-0.1586],\n",
              "        [-0.5120],\n",
              "        [-0.2165],\n",
              "        [-0.6145],\n",
              "        [-0.2300],\n",
              "        [ 0.6799],\n",
              "        [-0.1205],\n",
              "        [ 1.0076],\n",
              "        [ 0.9913],\n",
              "        [ 0.8776],\n",
              "        [ 0.9674],\n",
              "        [ 0.2242],\n",
              "        [ 0.9477],\n",
              "        [ 0.2413],\n",
              "        [ 0.6604],\n",
              "        [-0.9299],\n",
              "        [ 0.8728],\n",
              "        [ 0.3415],\n",
              "        [-0.9412],\n",
              "        [-0.7844],\n",
              "        [ 1.0206],\n",
              "        [-0.7163],\n",
              "        [ 0.6978],\n",
              "        [ 0.5741],\n",
              "        [ 0.5516],\n",
              "        [ 0.6998],\n",
              "        [ 0.8362],\n",
              "        [-0.1888],\n",
              "        [-0.3087],\n",
              "        [ 0.8124],\n",
              "        [-0.0170],\n",
              "        [-0.2875],\n",
              "        [-0.6398],\n",
              "        [-0.7428],\n",
              "        [ 0.7386],\n",
              "        [ 0.7733],\n",
              "        [ 0.0984],\n",
              "        [-0.8652],\n",
              "        [-0.9567],\n",
              "        [-0.2279],\n",
              "        [-0.0310],\n",
              "        [ 0.1925],\n",
              "        [ 0.8453],\n",
              "        [-0.7329],\n",
              "        [-0.6377],\n",
              "        [-0.6508],\n",
              "        [ 0.0447],\n",
              "        [ 0.0194],\n",
              "        [-0.4056],\n",
              "        [-0.0618],\n",
              "        [ 0.1952],\n",
              "        [ 0.3476],\n",
              "        [-0.1531],\n",
              "        [ 0.3518],\n",
              "        [ 0.8676],\n",
              "        [-0.9405],\n",
              "        [-0.7471],\n",
              "        [ 1.1809],\n",
              "        [ 0.2939],\n",
              "        [ 0.6863],\n",
              "        [-0.2621],\n",
              "        [-0.8699],\n",
              "        [ 0.8369],\n",
              "        [-0.6741],\n",
              "        [ 0.4141],\n",
              "        [-0.2735],\n",
              "        [-0.6439],\n",
              "        [-0.2153],\n",
              "        [ 0.5993],\n",
              "        [-0.8021],\n",
              "        [-0.0136],\n",
              "        [-0.4498],\n",
              "        [ 0.5072],\n",
              "        [ 0.5104],\n",
              "        [-0.1495],\n",
              "        [ 0.3676],\n",
              "        [-0.7598],\n",
              "        [-0.6483],\n",
              "        [ 0.4117],\n",
              "        [ 0.4555],\n",
              "        [-0.1769],\n",
              "        [-0.4197],\n",
              "        [-0.2811],\n",
              "        [-0.0837],\n",
              "        [-0.1436],\n",
              "        [ 0.8433],\n",
              "        [-0.6398],\n",
              "        [-0.7542],\n",
              "        [ 0.7983],\n",
              "        [-0.6298],\n",
              "        [ 0.5298],\n",
              "        [-0.1363],\n",
              "        [-0.9244],\n",
              "        [-0.8042],\n",
              "        [ 0.4867],\n",
              "        [-0.2529],\n",
              "        [-0.5920],\n",
              "        [ 0.4114],\n",
              "        [ 0.4097],\n",
              "        [ 0.7678],\n",
              "        [ 0.3971],\n",
              "        [ 0.3405],\n",
              "        [ 0.2512],\n",
              "        [ 0.2891],\n",
              "        [ 0.2974],\n",
              "        [-0.1279],\n",
              "        [ 0.0641],\n",
              "        [ 0.7522],\n",
              "        [ 0.5452],\n",
              "        [ 0.3140],\n",
              "        [-0.9831],\n",
              "        [ 0.6780],\n",
              "        [-0.6333],\n",
              "        [-0.3795],\n",
              "        [ 0.4077],\n",
              "        [-0.2598],\n",
              "        [-0.5751],\n",
              "        [ 0.3406],\n",
              "        [ 0.0167],\n",
              "        [ 0.6749],\n",
              "        [ 0.0465],\n",
              "        [ 0.2523],\n",
              "        [-0.2793],\n",
              "        [ 0.6201],\n",
              "        [ 0.9166],\n",
              "        [-0.7803],\n",
              "        [ 0.2540],\n",
              "        [-0.5230],\n",
              "        [ 0.3878],\n",
              "        [ 0.9009],\n",
              "        [-0.4784],\n",
              "        [-0.8569],\n",
              "        [-0.2167],\n",
              "        [-0.0183],\n",
              "        [-0.7258],\n",
              "        [-0.5635],\n",
              "        [ 0.6658],\n",
              "        [-0.5933],\n",
              "        [-0.5447],\n",
              "        [-1.0000],\n",
              "        [-0.6669],\n",
              "        [ 0.6949],\n",
              "        [ 0.6194],\n",
              "        [-0.2755],\n",
              "        [-0.8086],\n",
              "        [-0.1210],\n",
              "        [ 0.4236],\n",
              "        [ 0.6089],\n",
              "        [ 0.3546],\n",
              "        [ 0.3000],\n",
              "        [-0.1851],\n",
              "        [-0.4007],\n",
              "        [-0.0979],\n",
              "        [ 0.2912],\n",
              "        [ 0.7387],\n",
              "        [ 0.2777],\n",
              "        [-0.8789],\n",
              "        [ 0.9836],\n",
              "        [ 0.5393],\n",
              "        [ 0.7943],\n",
              "        [-0.4335],\n",
              "        [ 0.5208],\n",
              "        [-0.0484],\n",
              "        [-0.4464],\n",
              "        [-0.1387],\n",
              "        [-0.8009],\n",
              "        [ 0.8725],\n",
              "        [ 0.6594],\n",
              "        [-0.1342],\n",
              "        [ 0.0451],\n",
              "        [-0.8027],\n",
              "        [ 0.8349],\n",
              "        [ 0.1142],\n",
              "        [-0.6035],\n",
              "        [ 0.4748],\n",
              "        [ 0.5097],\n",
              "        [ 0.7848],\n",
              "        [ 0.2129],\n",
              "        [ 0.4870],\n",
              "        [ 0.6203],\n",
              "        [-0.0541],\n",
              "        [-0.8396],\n",
              "        [ 0.5712],\n",
              "        [-0.1113],\n",
              "        [ 0.2101],\n",
              "        [-0.6505],\n",
              "        [ 0.4069],\n",
              "        [-0.4553],\n",
              "        [-0.0035],\n",
              "        [-0.4865],\n",
              "        [ 0.2274],\n",
              "        [-0.9315],\n",
              "        [ 0.1386],\n",
              "        [-0.4500],\n",
              "        [ 0.8837],\n",
              "        [ 0.7880],\n",
              "        [-0.5826],\n",
              "        [-0.1567],\n",
              "        [ 0.0746],\n",
              "        [ 0.1845],\n",
              "        [ 0.3655],\n",
              "        [ 0.7712],\n",
              "        [-0.4259],\n",
              "        [-0.0351],\n",
              "        [-0.8741],\n",
              "        [ 1.1458],\n",
              "        [-0.6294],\n",
              "        [-0.7307],\n",
              "        [ 0.5808],\n",
              "        [ 0.6275],\n",
              "        [-0.9218],\n",
              "        [ 0.5483],\n",
              "        [-0.9117],\n",
              "        [ 0.2785],\n",
              "        [ 0.3692],\n",
              "        [-0.7121],\n",
              "        [ 0.9627],\n",
              "        [-0.4371],\n",
              "        [ 0.2093],\n",
              "        [-0.5571],\n",
              "        [-0.4551],\n",
              "        [-0.2430],\n",
              "        [ 0.4041],\n",
              "        [ 0.9931],\n",
              "        [-0.1643],\n",
              "        [ 0.5223],\n",
              "        [ 0.8981],\n",
              "        [ 0.6047],\n",
              "        [ 0.4366],\n",
              "        [-0.6501],\n",
              "        [-0.6432],\n",
              "        [-0.8051],\n",
              "        [ 0.8400],\n",
              "        [-0.6571],\n",
              "        [-0.0685],\n",
              "        [ 0.9023],\n",
              "        [-0.9414],\n",
              "        [-0.8703],\n",
              "        [-0.0582],\n",
              "        [ 0.3773],\n",
              "        [ 0.0608],\n",
              "        [ 0.0358],\n",
              "        [-0.3161],\n",
              "        [-0.6905],\n",
              "        [ 0.3659],\n",
              "        [ 0.1540],\n",
              "        [ 0.0454],\n",
              "        [ 0.9164],\n",
              "        [ 0.5107],\n",
              "        [-0.4866],\n",
              "        [-0.5046],\n",
              "        [-0.8966],\n",
              "        [-0.4944],\n",
              "        [-0.8077],\n",
              "        [-0.8322],\n",
              "        [ 0.1128],\n",
              "        [ 0.3440],\n",
              "        [-0.0148],\n",
              "        [-0.4635],\n",
              "        [ 1.0186],\n",
              "        [ 0.2083],\n",
              "        [-0.6519],\n",
              "        [-0.1430],\n",
              "        [-0.5000],\n",
              "        [-0.6859],\n",
              "        [-0.5627],\n",
              "        [-0.9490],\n",
              "        [ 0.5505],\n",
              "        [-0.5823],\n",
              "        [ 0.6581],\n",
              "        [ 0.8145],\n",
              "        [ 0.0522],\n",
              "        [-0.4396],\n",
              "        [ 0.2291],\n",
              "        [-0.4575],\n",
              "        [-0.1980],\n",
              "        [-0.0846],\n",
              "        [ 0.2616],\n",
              "        [-0.1674],\n",
              "        [-0.1434],\n",
              "        [ 0.3163],\n",
              "        [ 0.6893],\n",
              "        [-0.5170],\n",
              "        [-0.5305],\n",
              "        [ 1.0918],\n",
              "        [-0.8370],\n",
              "        [-0.0867],\n",
              "        [-0.7378],\n",
              "        [ 0.2748],\n",
              "        [-0.4023],\n",
              "        [ 0.9328],\n",
              "        [-0.3389],\n",
              "        [ 0.0743],\n",
              "        [-0.8445],\n",
              "        [-0.7334]], requires_grad=True)"
            ]
          },
          "metadata": {
            "tags": []
          },
          "execution_count": 29
        }
      ]
    },
    {
      "cell_type": "code",
      "metadata": {
        "id": "CQzHFz85G40Q",
        "outputId": "1e9ecce0-1c60-4db6-8fc0-096fc6b28154",
        "colab": {
          "base_uri": "https://localhost:8080/",
          "height": 920
        }
      },
      "source": [
        "model_pt.lstm._parameters['bias_ih_l0']"
      ],
      "execution_count": null,
      "outputs": [
        {
          "output_type": "execute_result",
          "data": {
            "text/plain": [
              "Parameter containing:\n",
              "tensor([-0.0192, -0.0859, -0.0356, -0.1045, -0.0111, -0.0663, -0.0941, -0.0423,\n",
              "        -0.0303, -0.0555, -0.0104,  0.0064, -0.0561, -0.0857, -0.0794,  0.0032,\n",
              "        -0.0932, -0.0563, -0.0185, -0.1181, -0.0252, -0.0226, -0.0999, -0.0588,\n",
              "        -0.0459, -0.0882, -0.0929, -0.0395, -0.0796, -0.0215, -0.0222, -0.0801,\n",
              "        -0.0679, -0.0645, -0.0848, -0.0254,  0.0013, -0.0259, -0.0314, -0.0889,\n",
              "        -0.0933, -0.1156, -0.1187, -0.0423, -0.0162, -0.1100, -0.0074, -0.0990,\n",
              "        -0.0611, -0.0344,  0.0566, -0.0846, -0.1123, -0.0529, -0.0066, -0.0134,\n",
              "        -0.0879, -0.0760, -0.0080, -0.0123, -0.0086,  0.0152,  0.2181, -0.0413,\n",
              "        -0.0906, -0.0235, -0.0125, -0.0715, -0.0653, -0.0910, -0.0097, -0.0257,\n",
              "        -0.0104, -0.0971, -0.1134, -0.0116, -0.0142, -0.2410, -0.0635, -0.1152,\n",
              "        -0.0805, -0.0221, -0.1277, -0.0352, -0.1423, -0.0813, -0.0087, -0.0691,\n",
              "        -0.1341, -0.0005, -0.1477, -0.0657, -0.0181, -0.0320, -0.0323, -0.1353,\n",
              "        -0.0195, -0.0256, -0.0694, -0.0796, -0.0816, -0.0457, -0.0453, -0.0377,\n",
              "        -0.0362, -0.0198, -0.0241, -0.0440, -0.0427, -0.0200, -0.0454, -0.0411,\n",
              "        -0.0612, -0.0096, -0.1107, -0.0113, -0.1057, -0.0344, -0.0429, -0.0433,\n",
              "        -0.0434, -0.0284, -0.0491, -0.0385, -0.0296, -0.0670, -0.0297, -0.0349,\n",
              "        -0.0181, -0.0568, -0.0562, -0.0111, -0.0266, -0.0199, -0.0414, -0.0049,\n",
              "        -0.0050, -0.0920, -0.0252, -0.0274, -0.0089, -0.0558, -0.0488, -0.0075,\n",
              "        -0.0431, -0.0445, -0.0290, -0.0337, -0.0390,  0.0078, -0.0159, -0.0384,\n",
              "        -0.0397, -0.0831, -0.0321, -0.0642, -0.0269, -0.0172, -0.0528, -0.0336,\n",
              "        -0.0519,  0.0049,  0.2679, -0.0247, -0.0074, -0.0382,  0.0241, -0.0459,\n",
              "        -0.0269, -0.0559, -0.0233, -0.0135, -0.0313, -0.0535, -0.0500, -0.0265,\n",
              "        -0.0286, -0.1633, -0.0279, -0.0105, -0.0738,  0.0134, -0.0415, -0.0653,\n",
              "        -0.0378, -0.0498, -0.0314, -0.0454, -0.0940, -0.0875, -0.0586, -0.0368,\n",
              "        -0.0377, -0.0084, -0.0451, -0.0407, -0.0329, -0.0388, -0.0498, -0.0407,\n",
              "        -0.0055,  0.0140, -0.0111, -0.0263, -0.0245, -0.0495, -0.0327,  0.0037,\n",
              "        -0.0163, -0.0061, -0.0157, -0.0120, -0.0271, -0.0870, -0.0243,  0.0338,\n",
              "        -0.0392,  0.0046,  0.0105, -0.0577,  0.0085, -0.0004, -0.0123, -0.0073,\n",
              "        -0.0005, -0.0043, -0.0039,  0.0164, -0.0607, -0.0419,  0.0378, -0.0160,\n",
              "         0.0627, -0.0364, -0.0487, -0.0267,  0.0473, -0.0059,  0.0015,  0.0382,\n",
              "         0.0709, -0.0269,  0.0348,  0.0281,  0.0309,  0.0408, -0.0724, -0.0375,\n",
              "         0.0055,  0.0266,  0.0158, -0.0518, -0.0386,  0.0033, -0.0025,  0.0034,\n",
              "         0.0226, -0.0123, -0.0028, -0.0145,  0.0035,  0.0361, -0.0390, -0.0535,\n",
              "        -0.0937,  0.0085, -0.0203, -0.0022, -0.0306,  0.0074,  0.0220,  0.0112,\n",
              "        -0.0138,  0.0122, -0.0289,  0.0337, -0.0287, -0.0066,  0.0255, -0.0361,\n",
              "        -0.0281, -0.0260, -0.0124, -0.0104, -0.0866,  0.0152,  0.0328,  0.0052,\n",
              "        -0.0019,  0.0144, -0.0257, -0.0304, -0.0017,  0.0111,  0.0086, -0.0426,\n",
              "         0.0365, -0.0065,  0.0412, -0.0128, -0.0428, -0.0694, -0.0350, -0.1082,\n",
              "        -0.0212, -0.0776, -0.0759, -0.0313, -0.0203, -0.0623, -0.0963,  0.0117,\n",
              "        -0.0585, -0.0878, -0.0855, -0.0044, -0.0896, -0.0590, -0.0255, -0.1191,\n",
              "        -0.0115, -0.0364, -0.0979, -0.0643, -0.0705, -0.0700, -0.1085, -0.0310,\n",
              "        -0.0745, -0.0110, -0.0285, -0.0987, -0.0714, -0.0765, -0.0803, -0.0281,\n",
              "        -0.0123, -0.0279, -0.0327, -0.0845, -0.0944, -0.1128, -0.1452, -0.0776,\n",
              "        -0.0148, -0.0716,  0.0028, -0.0994, -0.0854, -0.0519,  0.0411, -0.0905,\n",
              "        -0.1028, -0.0578, -0.0094, -0.0215, -0.0960, -0.0938, -0.0091, -0.0161,\n",
              "         0.0018, -0.0152,  0.1996, -0.0485, -0.0865, -0.0270, -0.0334, -0.0613,\n",
              "        -0.0593, -0.0913, -0.0185, -0.0529, -0.0214, -0.1018, -0.1009, -0.0260,\n",
              "        -0.0206, -0.2397, -0.0646, -0.1110, -0.0689, -0.0502, -0.1256, -0.0231,\n",
              "        -0.1363, -0.0806, -0.0280, -0.0748, -0.1030, -0.0587, -0.1303, -0.0679,\n",
              "         0.0144, -0.0435, -0.0267, -0.1218, -0.0246, -0.0138, -0.0727, -0.0895],\n",
              "       requires_grad=True)"
            ]
          },
          "metadata": {
            "tags": []
          },
          "execution_count": 30
        }
      ]
    },
    {
      "cell_type": "markdown",
      "metadata": {
        "id": "7zxy7PuBABMp"
      },
      "source": [
        "## 6. Evaluation"
      ]
    },
    {
      "cell_type": "markdown",
      "metadata": {
        "id": "kA63utBXdL0b"
      },
      "source": [
        "### a) Prediction comparing to the test set"
      ]
    },
    {
      "cell_type": "code",
      "metadata": {
        "id": "OrzdLvEY-b4P"
      },
      "source": [
        "test_inputs_overlap_pt = x_train[-12:].tolist()"
      ],
      "execution_count": null,
      "outputs": []
    },
    {
      "cell_type": "code",
      "metadata": {
        "id": "uLkelFvY-bxg",
        "outputId": "3e8b3948-e569-4df0-a02e-f2f505696496",
        "colab": {
          "base_uri": "https://localhost:8080/",
          "height": 225
        }
      },
      "source": [
        "test_inputs_overlap_pt"
      ],
      "execution_count": null,
      "outputs": [
        {
          "output_type": "execute_result",
          "data": {
            "text/plain": [
              "[[0.12527472527472527],\n",
              " [0.04615384615384621],\n",
              " [0.32747252747252764],\n",
              " [0.2835164835164836],\n",
              " [0.3890109890109892],\n",
              " [0.6175824175824178],\n",
              " [0.9516483516483516],\n",
              " [1.0000000000000002],\n",
              " [0.578021978021978],\n",
              " [0.331868131868132],\n",
              " [0.13406593406593403],\n",
              " [0.32307692307692304]]"
            ]
          },
          "metadata": {
            "tags": []
          },
          "execution_count": 33
        }
      ]
    },
    {
      "cell_type": "code",
      "metadata": {
        "id": "HI9tgY4T-buR"
      },
      "source": [
        "for i in range(12):\n",
        "    seq = torch.FloatTensor(test_inputs_overlap_pt[-12:])\n",
        "    with torch.no_grad():\n",
        "        test_inputs_overlap_pt.append([model_pt(seq).item()])"
      ],
      "execution_count": null,
      "outputs": []
    },
    {
      "cell_type": "code",
      "metadata": {
        "id": "0KqXwPvhfS4S",
        "outputId": "52268306-cbdd-421f-e875-98eae9779197",
        "colab": {
          "base_uri": "https://localhost:8080/",
          "height": 225
        }
      },
      "source": [
        "test_inputs_overlap_pt[-12:]"
      ],
      "execution_count": null,
      "outputs": [
        {
          "output_type": "execute_result",
          "data": {
            "text/plain": [
              "[[0.5563382506370544],\n",
              " [0.75697261095047],\n",
              " [0.9064080715179443],\n",
              " [0.9572950601577759],\n",
              " [0.9222853183746338],\n",
              " [0.8647569417953491],\n",
              " [0.8369809985160828],\n",
              " [0.7945814728736877],\n",
              " [0.6816402673721313],\n",
              " [0.5714738368988037],\n",
              " [0.5549083948135376],\n",
              " [0.6745378375053406]]"
            ]
          },
          "metadata": {
            "tags": []
          },
          "execution_count": 35
        }
      ]
    },
    {
      "cell_type": "code",
      "metadata": {
        "id": "klM5MazXAaQ7",
        "outputId": "a747cec4-45b9-4747-e650-2605756d67a5",
        "colab": {
          "base_uri": "https://localhost:8080/",
          "height": 225
        }
      },
      "source": [
        "overlap_predictions_pt = scaler.inverse_transform(np.array(test_inputs_overlap_pt[-12:] ).reshape(-1, 1))\n",
        "print(overlap_predictions_pt)"
      ],
      "execution_count": null,
      "outputs": [
        {
          "output_type": "stream",
          "text": [
            "[[458.06695202]\n",
            " [503.71126899]\n",
            " [537.70783627]\n",
            " [549.28462619]\n",
            " [541.31990993]\n",
            " [528.23220426]\n",
            " [521.91317716]\n",
            " [512.26728508]\n",
            " [486.57316083]\n",
            " [461.51029789]\n",
            " [457.74165982]\n",
            " [484.95735803]]\n"
          ],
          "name": "stdout"
        }
      ]
    },
    {
      "cell_type": "code",
      "metadata": {
        "id": "wXDjoAUt-bhn",
        "outputId": "1ec53511-c13f-4d3e-ea04-39d8fe1d1211",
        "colab": {
          "base_uri": "https://localhost:8080/",
          "height": 336
        }
      },
      "source": [
        "plt.title('Month vs Passenger')\n",
        "plt.ylabel('Total Passengers')\n",
        "plt.grid(True)\n",
        "plt.autoscale(axis='x', tight=True)\n",
        "plt.plot(flight_data['passengers'])\n",
        "plt.plot(np.arange(132, 144, 1),overlap_predictions_pt)\n",
        "plt.legend(['actual', 'predicted'], loc='upper left')\n",
        "plt.show()"
      ],
      "execution_count": null,
      "outputs": [
        {
          "output_type": "display_data",
          "data": {
            "image/png": "[encoded data removed]",
            "text/plain": [
              "<Figure size 1080x360 with 1 Axes>"
            ]
          },
          "metadata": {
            "tags": [],
            "needs_background": "light"
          }
        }
      ]
    },
    {
      "cell_type": "code",
      "metadata": {
        "id": "_W1NQuHXfgAz",
        "outputId": "7285c362-dc4e-43d5-edc6-3dfd0ae3cb7c",
        "colab": {
          "base_uri": "https://localhost:8080/",
          "height": 336
        }
      },
      "source": [
        "plt.title('Month vs Passenger')\n",
        "plt.ylabel('Total Passengers')\n",
        "plt.grid(True)\n",
        "plt.autoscale(axis='x', tight=True)\n",
        "plt.plot(flight_data['passengers'][-12:])\n",
        "plt.plot(np.arange(132, 144, 1),overlap_predictions_pt)\n",
        "plt.legend(['actual', 'predicted'], loc='upper left')\n",
        "plt.show()"
      ],
      "execution_count": null,
      "outputs": [
        {
          "output_type": "display_data",
          "data": {
            "image/png": "[encoded data removed]",
            "text/plain": [
              "<Figure size 1080x360 with 1 Axes>"
            ]
          },
          "metadata": {
            "tags": [],
            "needs_background": "light"
          }
        }
      ]
    },
    {
      "cell_type": "markdown",
      "metadata": {
        "id": "vYRBVwTEfskg"
      },
      "source": [
        "### b) Prediction into the future using the test set"
      ]
    },
    {
      "cell_type": "code",
      "metadata": {
        "id": "tvmFYU3zVo33"
      },
      "source": [
        "scaler = MinMaxScaler(feature_range=(-1, 1))\n",
        "x_test_pt = scaler.fit_transform(x_test.reshape(-1, 1))"
      ],
      "execution_count": null,
      "outputs": []
    },
    {
      "cell_type": "code",
      "metadata": {
        "id": "Zj_9Ai8yE6--"
      },
      "source": [
        "test_inputs_pt = x_test_pt[-12:].tolist()"
      ],
      "execution_count": null,
      "outputs": []
    },
    {
      "cell_type": "code",
      "metadata": {
        "id": "9z_6ehs7LP8L",
        "outputId": "aa35527a-d7a4-4307-b1bb-de42e1eeaa4a",
        "colab": {
          "base_uri": "https://localhost:8080/",
          "height": 225
        }
      },
      "source": [
        "test_inputs_pt"
      ],
      "execution_count": null,
      "outputs": [
        {
          "output_type": "execute_result",
          "data": {
            "text/plain": [
              "[[-0.7672413793103456],\n",
              " [-0.9913793103448283],\n",
              " [-0.7500000000000004],\n",
              " [-0.38793103448275934],\n",
              " [-0.293103448275863],\n",
              " [0.2499999999999991],\n",
              " [0.9999999999999991],\n",
              " [0.8620689655172411],\n",
              " [0.017241379310344307],\n",
              " [-0.38793103448275934],\n",
              " [-1.0000000000000004],\n",
              " [-0.6379310344827593]]"
            ]
          },
          "metadata": {
            "tags": []
          },
          "execution_count": 41
        }
      ]
    },
    {
      "cell_type": "code",
      "metadata": {
        "id": "-fqylGt0FBdV"
      },
      "source": [
        "for i in range(12):\n",
        "    seq = torch.FloatTensor(test_inputs_pt[-12:])\n",
        "    with torch.no_grad():\n",
        "        test_inputs_pt.append([model_pt(seq).item()])"
      ],
      "execution_count": null,
      "outputs": []
    },
    {
      "cell_type": "code",
      "metadata": {
        "id": "csYje85eFNI2",
        "outputId": "2add0f95-640b-4a1e-ba85-983a85adef97",
        "colab": {
          "base_uri": "https://localhost:8080/",
          "height": 225
        }
      },
      "source": [
        "test_inputs_pt[-12:]"
      ],
      "execution_count": null,
      "outputs": [
        {
          "output_type": "execute_result",
          "data": {
            "text/plain": [
              "[[-0.5371994376182556],\n",
              " [-0.46582120656967163],\n",
              " [-0.3862862288951874],\n",
              " [-0.31029900908470154],\n",
              " [-0.24676504731178284],\n",
              " [-0.20309317111968994],\n",
              " [-0.18405966460704803],\n",
              " [-0.19027894735336304],\n",
              " [-0.21399196982383728],\n",
              " [-0.24165986478328705],\n",
              " [-0.2637673318386078],\n",
              " [-0.2749954164028168]]"
            ]
          },
          "metadata": {
            "tags": []
          },
          "execution_count": 43
        }
      ]
    },
    {
      "cell_type": "code",
      "metadata": {
        "id": "_q-x6Q8aMhOT",
        "outputId": "8dd63e92-5a60-4f30-91c4-db5b706c88df",
        "colab": {
          "base_uri": "https://localhost:8080/",
          "height": 225
        }
      },
      "source": [
        "predictions_pt = scaler.inverse_transform(np.array(test_inputs_pt[-12:] ).reshape(-1, 1))\n",
        "print(predictions_pt)"
      ],
      "execution_count": null,
      "outputs": [
        {
          "output_type": "stream",
          "text": [
            "[[443.68486524]\n",
            " [451.96474004]\n",
            " [461.19079745]\n",
            " [470.00531495]\n",
            " [477.37525451]\n",
            " [482.44119215]\n",
            " [484.64907891]\n",
            " [483.92764211]\n",
            " [481.1769315 ]\n",
            " [477.96745569]\n",
            " [475.40298951]\n",
            " [474.1005317 ]]\n"
          ],
          "name": "stdout"
        }
      ]
    },
    {
      "cell_type": "code",
      "metadata": {
        "id": "I4Pge_bkMu5j",
        "outputId": "2ef7dc00-6228-47d7-ea0e-21171d2967fe",
        "colab": {
          "base_uri": "https://localhost:8080/",
          "height": 336
        }
      },
      "source": [
        "plt.title('Month vs Passenger')\n",
        "plt.ylabel('Total Passengers')\n",
        "plt.grid(True)\n",
        "plt.autoscale(axis='x', tight=True)\n",
        "plt.plot(flight_data['passengers'])\n",
        "plt.plot(np.arange(144, 156, 1),predictions_pt)\n",
        "plt.legend(['actual', 'predicted'], loc='upper left')\n",
        "plt.show()"
      ],
      "execution_count": null,
      "outputs": [
        {
          "output_type": "display_data",
          "data": {
            "image/png": "[encoded data removed]",
            "text/plain": [
              "<Figure size 1080x360 with 1 Axes>"
            ]
          },
          "metadata": {
            "tags": [],
            "needs_background": "light"
          }
        }
      ]
    },
    {
      "cell_type": "code",
      "metadata": {
        "id": "TFKdbR4sMwpZ",
        "outputId": "0b8af22e-cb65-4ca8-aa24-16dba1ead8ea",
        "colab": {
          "base_uri": "https://localhost:8080/",
          "height": 336
        }
      },
      "source": [
        "plt.title('Month vs Passenger')\n",
        "plt.ylabel('Total Passengers')\n",
        "plt.grid(True)\n",
        "plt.autoscale(axis='x', tight=True)\n",
        "plt.plot(flight_data['passengers'][-12:])\n",
        "plt.plot(np.arange(144, 156, 1),predictions_pt)\n",
        "plt.legend(['actual', 'predicted'], loc='upper left')\n",
        "plt.show()"
      ],
      "execution_count": null,
      "outputs": [
        {
          "output_type": "display_data",
          "data": {
            "image/png": "[encoded data removed]",
            "text/plain": [
              "<Figure size 1080x360 with 1 Axes>"
            ]
          },
          "metadata": {
            "tags": [],
            "needs_background": "light"
          }
        }
      ]
    },
    {
      "cell_type": "code",
      "metadata": {
        "id": "bIjxw2wSMzwU"
      },
      "source": [
        ""
      ],
      "execution_count": null,
      "outputs": []
    }
  ]
}