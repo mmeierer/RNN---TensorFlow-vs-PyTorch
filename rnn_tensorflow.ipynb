{
  "nbformat": 4,
  "nbformat_minor": 0,
  "metadata": {
    "colab": {
      "name": "rnn_tensorflow.ipynb",
      "provenance": [],
      "collapsed_sections": [],
      "machine_shape": "hm"
    },
    "kernelspec": {
      "name": "python3",
      "display_name": "Python 3"
    },
    "accelerator": "GPU"
  },
  "cells": [
    {
      "cell_type": "markdown",
      "metadata": {
        "id": "MJ31gTXJ9FAo"
      },
      "source": [
        "# Time series prediction using an RNN with TensorFlow"
      ]
    },
    {
      "cell_type": "markdown",
      "metadata": {
        "id": "em3qmb5J9NBY"
      },
      "source": [
        "## 1. Import & Preprocessing"
      ]
    },
    {
      "cell_type": "markdown",
      "metadata": {
        "id": "RcLVulXD9Sq0"
      },
      "source": [
        "### a) Importing modules"
      ]
    },
    {
      "cell_type": "code",
      "metadata": {
        "id": "GgwSrLIa_FW0"
      },
      "source": [
        "import pandas as pd\n",
        "import tensorflow as tf\n",
        "import numpy as np\n",
        "import matplotlib.pyplot as plt\n",
        "import seaborn as sns\n",
        "from sklearn.preprocessing import MinMaxScaler\n",
        "\n",
        "\n",
        "from tensorflow import keras"
      ],
      "execution_count": null,
      "outputs": []
    },
    {
      "cell_type": "markdown",
      "metadata": {
        "id": "xf27__wO9b1g"
      },
      "source": [
        "### b) Importing data"
      ]
    },
    {
      "cell_type": "code",
      "metadata": {
        "id": "U2N6tCAU-0kf",
        "outputId": "b6238e27-2944-4446-ca73-55d8abc5d0ca",
        "colab": {
          "base_uri": "https://localhost:8080/",
          "height": 206
        }
      },
      "source": [
        "flight_data = sns.load_dataset(\"flights\")\n",
        "flight_data.head()"
      ],
      "execution_count": null,
      "outputs": [
        {
          "output_type": "execute_result",
          "data": {
            "text/html": [
              "<div>\n",
              "<style scoped>\n",
              "    .dataframe tbody tr th:only-of-type {\n",
              "        vertical-align: middle;\n",
              "    }\n",
              "\n",
              "    .dataframe tbody tr th {\n",
              "        vertical-align: top;\n",
              "    }\n",
              "\n",
              "    .dataframe thead th {\n",
              "        text-align: right;\n",
              "    }\n",
              "</style>\n",
              "<table border=\"1\" class=\"dataframe\">\n",
              "  <thead>\n",
              "    <tr style=\"text-align: right;\">\n",
              "      <th></th>\n",
              "      <th>year</th>\n",
              "      <th>month</th>\n",
              "      <th>passengers</th>\n",
              "    </tr>\n",
              "  </thead>\n",
              "  <tbody>\n",
              "    <tr>\n",
              "      <th>0</th>\n",
              "      <td>1949</td>\n",
              "      <td>Jan</td>\n",
              "      <td>112</td>\n",
              "    </tr>\n",
              "    <tr>\n",
              "      <th>1</th>\n",
              "      <td>1949</td>\n",
              "      <td>Feb</td>\n",
              "      <td>118</td>\n",
              "    </tr>\n",
              "    <tr>\n",
              "      <th>2</th>\n",
              "      <td>1949</td>\n",
              "      <td>Mar</td>\n",
              "      <td>132</td>\n",
              "    </tr>\n",
              "    <tr>\n",
              "      <th>3</th>\n",
              "      <td>1949</td>\n",
              "      <td>Apr</td>\n",
              "      <td>129</td>\n",
              "    </tr>\n",
              "    <tr>\n",
              "      <th>4</th>\n",
              "      <td>1949</td>\n",
              "      <td>May</td>\n",
              "      <td>121</td>\n",
              "    </tr>\n",
              "  </tbody>\n",
              "</table>\n",
              "</div>"
            ],
            "text/plain": [
              "   year month  passengers\n",
              "0  1949   Jan         112\n",
              "1  1949   Feb         118\n",
              "2  1949   Mar         132\n",
              "3  1949   Apr         129\n",
              "4  1949   May         121"
            ]
          },
          "metadata": {
            "tags": []
          },
          "execution_count": 2
        }
      ]
    },
    {
      "cell_type": "code",
      "metadata": {
        "id": "JjftvVzf8XH8",
        "outputId": "6520114b-e74d-47d1-a829-ae69b52aa6de",
        "colab": {
          "base_uri": "https://localhost:8080/",
          "height": 34
        }
      },
      "source": [
        "flight_data.shape"
      ],
      "execution_count": null,
      "outputs": [
        {
          "output_type": "execute_result",
          "data": {
            "text/plain": [
              "(144, 3)"
            ]
          },
          "metadata": {
            "tags": []
          },
          "execution_count": 3
        }
      ]
    },
    {
      "cell_type": "code",
      "metadata": {
        "id": "Gnde1SASbl6B",
        "outputId": "18add6b1-da0a-4d6a-d192-dc374547edcf",
        "colab": {
          "base_uri": "https://localhost:8080/",
          "height": 367
        }
      },
      "source": [
        "fig_size = plt.rcParams[\"figure.figsize\"]\n",
        "fig_size[0] = 15\n",
        "fig_size[1] = 5\n",
        "plt.rcParams[\"figure.figsize\"] = fig_size\n",
        "plt.title('Month vs Passenger')\n",
        "plt.ylabel('Total Passengers')\n",
        "plt.xlabel('Months')\n",
        "plt.grid(True)\n",
        "plt.autoscale(axis='x',tight=True)\n",
        "plt.plot(flight_data['passengers'])"
      ],
      "execution_count": null,
      "outputs": [
        {
          "output_type": "execute_result",
          "data": {
            "text/plain": [
              "[<matplotlib.lines.Line2D at 0x7f1fc2b2d4a8>]"
            ]
          },
          "metadata": {
            "tags": []
          },
          "execution_count": 4
        },
        {
          "output_type": "display_data",
          "data": {
            "image/png": "[encoded data removed]",
            "text/plain": [
              "<Figure size 1080x360 with 1 Axes>"
            ]
          },
          "metadata": {
            "tags": [],
            "needs_background": "light"
          }
        }
      ]
    },
    {
      "cell_type": "code",
      "metadata": {
        "id": "O1TivezRLP_M",
        "outputId": "068f9077-480d-4315-db02-2dd10a924c5d",
        "colab": {
          "base_uri": "https://localhost:8080/",
          "height": 34
        }
      },
      "source": [
        "flight_data['passengers'][11]"
      ],
      "execution_count": null,
      "outputs": [
        {
          "output_type": "execute_result",
          "data": {
            "text/plain": [
              "118"
            ]
          },
          "metadata": {
            "tags": []
          },
          "execution_count": 5
        }
      ]
    },
    {
      "cell_type": "code",
      "metadata": {
        "id": "0hPNzCuAKpuq",
        "outputId": "e86328e0-a628-436c-8bec-d2a1788d98a6",
        "colab": {
          "base_uri": "https://localhost:8080/",
          "height": 350
        }
      },
      "source": [
        "fig_size = plt.rcParams[\"figure.figsize\"]\n",
        "fig_size[0] = 15\n",
        "fig_size[1] = 5\n",
        "plt.rcParams[\"figure.figsize\"] = fig_size\n",
        "plt.title('Month vs Passenger')\n",
        "plt.ylabel('Total Passengers')\n",
        "plt.xlabel('Months')\n",
        "plt.grid(True)\n",
        "plt.plot(flight_data['passengers'][:13],linestyle=\"\",marker=\"o\", color='green')\n",
        "plt.plot(np.arange(0, 12, 1), flight_data['passengers'][:12],linestyle=\"\",marker=\"o\", color='blue')\n",
        "plt.autoscale(axis='x',tight=False)\n",
        "plt.legend(['y_train', 'x_train'], loc='upper left')\n",
        "plt.show()"
      ],
      "execution_count": null,
      "outputs": [
        {
          "output_type": "display_data",
          "data": {
            "image/png": "[encoded data removed]",
            "text/plain": [
              "<Figure size 1080x360 with 1 Axes>"
            ]
          },
          "metadata": {
            "tags": [],
            "needs_background": "light"
          }
        }
      ]
    },
    {
      "cell_type": "code",
      "metadata": {
        "id": "WNOw0igJOJfR",
        "outputId": "e123417c-03b9-4f15-b876-cfb87a7e7a07",
        "colab": {
          "base_uri": "https://localhost:8080/",
          "height": 350
        }
      },
      "source": [
        "fig_size = plt.rcParams[\"figure.figsize\"]\n",
        "fig_size[0] = 15\n",
        "fig_size[1] = 5\n",
        "plt.rcParams[\"figure.figsize\"] = fig_size\n",
        "plt.title('Month vs Passenger')\n",
        "plt.ylabel('Total Passengers')\n",
        "plt.xlabel('Months')\n",
        "plt.grid(True)\n",
        "plt.plot(flight_data['passengers'][1:14],linestyle=\"\",marker=\"o\", color='green')\n",
        "plt.plot(np.arange(1, 13, 1), flight_data['passengers'][1:13],linestyle=\"\",marker=\"o\", color='blue')\n",
        "plt.autoscale(axis='x',tight=False)\n",
        "plt.legend(['y_train', 'x_train'], loc='upper left')\n",
        "plt.show()"
      ],
      "execution_count": null,
      "outputs": [
        {
          "output_type": "display_data",
          "data": {
            "image/png": "[encoded data removed]",
            "text/plain": [
              "<Figure size 1080x360 with 1 Axes>"
            ]
          },
          "metadata": {
            "tags": [],
            "needs_background": "light"
          }
        }
      ]
    },
    {
      "cell_type": "code",
      "metadata": {
        "id": "Izo_r1t7OZiW",
        "outputId": "52a49494-3750-4ee4-a9a0-c3a1a3ee19a5",
        "colab": {
          "base_uri": "https://localhost:8080/",
          "height": 350
        }
      },
      "source": [
        "fig_size = plt.rcParams[\"figure.figsize\"]\n",
        "fig_size[0] = 15\n",
        "fig_size[1] = 5\n",
        "plt.rcParams[\"figure.figsize\"] = fig_size\n",
        "plt.title('Month vs Passenger')\n",
        "plt.ylabel('Total Passengers')\n",
        "plt.xlabel('Months')\n",
        "plt.grid(True)\n",
        "plt.plot(flight_data['passengers'][2:15],linestyle=\"\",marker=\"o\", color='green')\n",
        "plt.plot(np.arange(2, 14, 1), flight_data['passengers'][2:14],linestyle=\"\",marker=\"o\", color='blue')\n",
        "plt.autoscale(axis='x',tight=False)\n",
        "plt.legend(['y_train', 'x_train'], loc='upper left')\n",
        "plt.show()"
      ],
      "execution_count": null,
      "outputs": [
        {
          "output_type": "display_data",
          "data": {
            "image/png": "[encoded data removed]",
            "text/plain": [
              "<Figure size 1080x360 with 1 Axes>"
            ]
          },
          "metadata": {
            "tags": [],
            "needs_background": "light"
          }
        }
      ]
    },
    {
      "cell_type": "code",
      "metadata": {
        "id": "RR37OzOYb1fH"
      },
      "source": [
        "data = flight_data['passengers']"
      ],
      "execution_count": null,
      "outputs": []
    },
    {
      "cell_type": "code",
      "metadata": {
        "id": "k_3cTogub8Xf"
      },
      "source": [
        "test_size = 12\n",
        "\n",
        "x_train = data[:-test_size].values.astype(np.float32)\n",
        "x_test = data[-test_size:].values.astype(np.float32)"
      ],
      "execution_count": null,
      "outputs": []
    },
    {
      "cell_type": "code",
      "metadata": {
        "id": "qyJuoFW0dNt1",
        "outputId": "5b9215d5-3e1f-48d0-aef9-243564a075b6",
        "colab": {
          "base_uri": "https://localhost:8080/",
          "height": 34
        }
      },
      "source": [
        "x_train.shape"
      ],
      "execution_count": null,
      "outputs": [
        {
          "output_type": "execute_result",
          "data": {
            "text/plain": [
              "(132,)"
            ]
          },
          "metadata": {
            "tags": []
          },
          "execution_count": 11
        }
      ]
    },
    {
      "cell_type": "code",
      "metadata": {
        "id": "XTb-oZx4dPc2",
        "outputId": "56a1b61a-b102-469e-9b72-0a16f6f542e5",
        "colab": {
          "base_uri": "https://localhost:8080/",
          "height": 34
        }
      },
      "source": [
        "x_test.shape"
      ],
      "execution_count": null,
      "outputs": [
        {
          "output_type": "execute_result",
          "data": {
            "text/plain": [
              "(12,)"
            ]
          },
          "metadata": {
            "tags": []
          },
          "execution_count": 12
        }
      ]
    },
    {
      "cell_type": "markdown",
      "metadata": {
        "id": "NU4YV9PX9j-n"
      },
      "source": [
        "### c) Data preparation"
      ]
    },
    {
      "cell_type": "code",
      "metadata": {
        "id": "KM48DMDz_fpc"
      },
      "source": [
        "scaler = MinMaxScaler(feature_range=(-1, 1))\n",
        "x_train = scaler.fit_transform(x_train.reshape(-1, 1))"
      ],
      "execution_count": null,
      "outputs": []
    },
    {
      "cell_type": "code",
      "metadata": {
        "id": "I9mUZBxHc6Ii",
        "outputId": "fef9bcc6-fd76-4ab8-ec48-9b0f483f2b75",
        "colab": {
          "base_uri": "https://localhost:8080/",
          "height": 34
        }
      },
      "source": [
        "x_train.shape"
      ],
      "execution_count": null,
      "outputs": [
        {
          "output_type": "execute_result",
          "data": {
            "text/plain": [
              "(132, 1)"
            ]
          },
          "metadata": {
            "tags": []
          },
          "execution_count": 14
        }
      ]
    },
    {
      "cell_type": "markdown",
      "metadata": {
        "id": "cpyhiurU-NCF"
      },
      "source": [
        "## 2. Model specific data preparation"
      ]
    },
    {
      "cell_type": "markdown",
      "metadata": {
        "id": "Y4EsssDG-Thm"
      },
      "source": [
        "### a) Load the data"
      ]
    },
    {
      "cell_type": "code",
      "metadata": {
        "id": "4zqyZltIdyoI"
      },
      "source": [
        "x_train_tf = tf.squeeze(tf.convert_to_tensor(x_train))"
      ],
      "execution_count": null,
      "outputs": []
    },
    {
      "cell_type": "code",
      "metadata": {
        "id": "-oKs-vFaIcWh",
        "outputId": "6ac7866d-ac18-45ea-f654-3bf40d68924c",
        "colab": {
          "base_uri": "https://localhost:8080/",
          "height": 34
        }
      },
      "source": [
        "x_train_tf.shape"
      ],
      "execution_count": null,
      "outputs": [
        {
          "output_type": "execute_result",
          "data": {
            "text/plain": [
              "TensorShape([132])"
            ]
          },
          "metadata": {
            "tags": []
          },
          "execution_count": 16
        }
      ]
    },
    {
      "cell_type": "code",
      "metadata": {
        "id": "3MuUTDY1dsU0"
      },
      "source": [
        "def create_sequences(input_data, window=12):\n",
        "    seq = []\n",
        "    L = len(input_data)\n",
        "    for i in range(L-window):\n",
        "        train_seq = input_data[i:i+window]\n",
        "        train_label = input_data[i+window:i+window+1]\n",
        "        seq.append((train_seq, train_label))\n",
        "    return seq"
      ],
      "execution_count": null,
      "outputs": []
    },
    {
      "cell_type": "code",
      "metadata": {
        "id": "6NihxXiPdr47"
      },
      "source": [
        "train_seq_tf = create_sequences(x_train_tf)"
      ],
      "execution_count": null,
      "outputs": []
    },
    {
      "cell_type": "code",
      "metadata": {
        "id": "4HSaty5bKNGi",
        "outputId": "400f9171-57b6-4780-a38f-48a04bdf1bc1",
        "colab": {
          "base_uri": "https://localhost:8080/",
          "height": 34
        }
      },
      "source": [
        "len(train_seq_tf)"
      ],
      "execution_count": null,
      "outputs": [
        {
          "output_type": "execute_result",
          "data": {
            "text/plain": [
              "120"
            ]
          },
          "metadata": {
            "tags": []
          },
          "execution_count": 19
        }
      ]
    },
    {
      "cell_type": "markdown",
      "metadata": {
        "id": "F8owQyL7-dqH"
      },
      "source": [
        "### b) Tensor view of the data"
      ]
    },
    {
      "cell_type": "code",
      "metadata": {
        "id": "TdAooKHJdYT1",
        "outputId": "7870ab9e-8b26-46d0-c1a0-032a9789ba90",
        "colab": {
          "base_uri": "https://localhost:8080/",
          "height": 104
        }
      },
      "source": [
        "train_seq_tf[0]"
      ],
      "execution_count": null,
      "outputs": [
        {
          "output_type": "execute_result",
          "data": {
            "text/plain": [
              "(<tf.Tensor: shape=(12,), dtype=float32, numpy=\n",
              " array([-0.9648351 , -0.9384615 , -0.876923  , -0.89010984, -0.92527467,\n",
              "        -0.8637362 , -0.80659336, -0.80659336, -0.8593406 , -0.9340659 ,\n",
              "        -0.99999994, -0.9384615 ], dtype=float32)>,\n",
              " <tf.Tensor: shape=(1,), dtype=float32, numpy=array([-0.9516483], dtype=float32)>)"
            ]
          },
          "metadata": {
            "tags": []
          },
          "execution_count": 20
        }
      ]
    },
    {
      "cell_type": "markdown",
      "metadata": {
        "id": "m9YOzlYG-ck5"
      },
      "source": [
        "## 3. Model definition"
      ]
    },
    {
      "cell_type": "markdown",
      "metadata": {
        "id": "ytn83jHz-nP8"
      },
      "source": [
        "### a) Build the model"
      ]
    },
    {
      "cell_type": "code",
      "metadata": {
        "id": "3_sfQE_NwnxE"
      },
      "source": [
        "initializer_uniform = tf.random_uniform_initializer(\n",
        "    minval=-1, maxval=1, seed=123)\n",
        "initializer_recurrent = tf.initializers.Orthogonal(seed=123)\n",
        "initializer_zeros = tf.zeros_initializer()"
      ],
      "execution_count": null,
      "outputs": []
    },
    {
      "cell_type": "code",
      "metadata": {
        "id": "LUO0Dj2AaCeB"
      },
      "source": [
        "model_tf = keras.Sequential([\n",
        "    keras.layers.LSTM(100, input_shape=(12,1), kernel_initializer = initializer_uniform, recurrent_initializer = initializer_recurrent),\n",
        "    keras.layers.Dense(1, kernel_initializer = initializer_uniform)\n",
        "])"
      ],
      "execution_count": null,
      "outputs": []
    },
    {
      "cell_type": "markdown",
      "metadata": {
        "id": "RBSeEscN-tXC"
      },
      "source": [
        "### b) Inspect the model"
      ]
    },
    {
      "cell_type": "code",
      "metadata": {
        "id": "zgbkZD8NE6Hi",
        "outputId": "49bb584d-9f12-42cd-a8d1-de98fc928e1e",
        "colab": {
          "base_uri": "https://localhost:8080/",
          "height": 225
        }
      },
      "source": [
        "model_tf.summary()"
      ],
      "execution_count": null,
      "outputs": [
        {
          "output_type": "stream",
          "text": [
            "Model: \"sequential\"\n",
            "_________________________________________________________________\n",
            "Layer (type)                 Output Shape              Param #   \n",
            "=================================================================\n",
            "lstm (LSTM)                  (None, 100)               40800     \n",
            "_________________________________________________________________\n",
            "dense (Dense)                (None, 1)                 101       \n",
            "=================================================================\n",
            "Total params: 40,901\n",
            "Trainable params: 40,901\n",
            "Non-trainable params: 0\n",
            "_________________________________________________________________\n"
          ],
          "name": "stdout"
        }
      ]
    },
    {
      "cell_type": "markdown",
      "metadata": {
        "id": "KnHCVUvw-0XR"
      },
      "source": [
        "### c) Inspect the first LSTM layer"
      ]
    },
    {
      "cell_type": "code",
      "metadata": {
        "id": "BllmY_pjgmtT",
        "outputId": "24753c10-3f11-4c5d-fd9b-d6c8bc15b4a5",
        "colab": {
          "base_uri": "https://localhost:8080/",
          "height": 1000
        }
      },
      "source": [
        "hidden1_tf_ante = model_tf.layers[0]\n",
        "weights_tf_ante = hidden1_tf_ante.get_weights()\n",
        "weights_tf_ante[0]"
      ],
      "execution_count": null,
      "outputs": [
        {
          "output_type": "execute_result",
          "data": {
            "text/plain": [
              "array([[-0.04798412, -0.22223973, -0.9824271 , -0.57410717, -0.79084826,\n",
              "        -0.6723347 , -0.54534245, -0.14903617,  0.22151732, -0.04990911,\n",
              "         0.76847243,  0.8567488 , -0.19580126,  0.6683371 , -0.29299927,\n",
              "        -0.13567281,  0.43682718, -0.5372863 , -0.8050833 ,  0.33245063,\n",
              "         0.08226037,  0.9955554 ,  0.42286134,  0.5824466 , -0.88201547,\n",
              "         0.79022574, -0.96988153,  0.8838699 ,  0.7405057 , -0.26739526,\n",
              "         0.541693  , -0.33356333, -0.5114386 ,  0.28969407, -0.5687852 ,\n",
              "        -0.9064033 ,  0.55588317,  0.12526917,  0.76767826,  0.9882431 ,\n",
              "         0.82163215, -0.83939624, -0.1760552 , -0.8733709 ,  0.54416513,\n",
              "         0.3740089 ,  0.67598724,  0.7747915 , -0.22487664, -0.7704594 ,\n",
              "         0.11647105,  0.735404  , -0.8178191 ,  0.80086374, -0.596689  ,\n",
              "         0.43223333,  0.6735773 ,  0.28332973, -0.15904045,  0.38079   ,\n",
              "        -0.8442614 ,  0.4907596 , -0.25315404,  0.02004218, -0.3033669 ,\n",
              "        -0.2716992 , -0.11689925, -0.78340054, -0.38971877, -0.28903008,\n",
              "         0.13753343, -0.8143873 ,  0.41998172, -0.76725507,  0.9006376 ,\n",
              "        -0.91095424,  0.19254088, -0.6503575 , -0.05974078,  0.33939457,\n",
              "        -0.3534739 ,  0.12724805,  0.5572715 ,  0.16791153, -0.6385431 ,\n",
              "        -0.9574406 , -0.13847852,  0.60011697,  0.5097358 ,  0.58277726,\n",
              "         0.5294292 , -0.8702028 , -0.88035893, -0.63230276,  0.95527935,\n",
              "         0.26690578,  0.93037176, -0.26023674,  0.3456719 , -0.38668704,\n",
              "         0.37511373, -0.29554033,  0.25711703, -0.38650727, -0.7687187 ,\n",
              "         0.9087589 ,  0.5601375 ,  0.4242592 , -0.5413673 , -0.64115024,\n",
              "         0.92204094, -0.04637551,  0.72504187, -0.80490804,  0.9942317 ,\n",
              "         0.84672785, -0.7842784 ,  0.9236076 , -0.39961457, -0.6292722 ,\n",
              "        -0.45593977, -0.49155807,  0.21261764,  0.13499904,  0.04795647,\n",
              "        -0.6393349 , -0.9961307 , -0.96749735, -0.25060296, -0.8661399 ,\n",
              "        -0.9763031 , -0.97775984,  0.28009677,  0.61656356,  0.621716  ,\n",
              "        -0.68856955, -0.4031117 , -0.8308284 , -0.9538927 , -0.5025921 ,\n",
              "        -0.12458754,  0.16431499,  0.4293003 ,  0.3800485 , -0.19825435,\n",
              "        -0.7700057 ,  0.6491394 , -0.9415183 ,  0.73187757,  0.36494708,\n",
              "         0.82268834,  0.15233135,  0.19771671,  0.51979494,  0.69456315,\n",
              "         0.7205136 ,  0.63545465, -0.43895411, -0.16373229,  0.34944272,\n",
              "        -0.32845974,  0.2613356 , -0.9506359 ,  0.2923348 ,  0.54094744,\n",
              "        -0.6349938 ,  0.5638211 ,  0.21998572, -0.8500328 , -0.15811563,\n",
              "        -0.9943907 , -0.8927357 ,  0.21917939, -0.37793088, -0.32824183,\n",
              "        -0.23025656, -0.83952165,  0.22316265, -0.44818592, -0.5018754 ,\n",
              "        -0.80917597, -0.2472353 , -0.04040885,  0.1530323 ,  0.79140306,\n",
              "        -0.25499344,  0.2955513 ,  0.07260013,  0.84477496,  0.735976  ,\n",
              "        -0.16662621,  0.4977386 , -0.581537  , -0.5264697 , -0.85395265,\n",
              "         0.6679549 ,  0.9073448 ,  0.12267923, -0.527544  ,  0.89132   ,\n",
              "         0.4933505 , -0.01598382, -0.1987803 , -0.6341653 ,  0.975595  ,\n",
              "        -0.72338986, -0.1831286 ,  0.22383595, -0.86544895, -0.7710192 ,\n",
              "         0.8606591 ,  0.9355929 ,  0.9957912 ,  0.10125804,  0.38171387,\n",
              "         0.36393738, -0.7081039 ,  0.02453613, -0.8316755 , -0.9332514 ,\n",
              "         0.5894222 ,  0.2933371 ,  0.42079425,  0.4492371 , -0.22576046,\n",
              "         0.4531095 ,  0.77690005, -0.47652936,  0.7686219 ,  0.8350916 ,\n",
              "         0.85827255, -0.24774027,  0.29766917,  0.7645676 , -0.38567495,\n",
              "         0.00194645, -0.9255028 ,  0.50857544, -0.32315087,  0.95503664,\n",
              "        -0.17986083, -0.78692436, -0.63165975, -0.07417727,  0.22067094,\n",
              "        -0.7463033 ,  0.9559548 ,  0.28668618,  0.31622624,  0.12761354,\n",
              "         0.92246723, -0.49036527,  0.62668276, -0.4677949 ,  0.4300716 ,\n",
              "         0.16673398, -0.48949647,  0.78082275, -0.71448135,  0.11253786,\n",
              "        -0.52395105, -0.22036815,  0.9346752 ,  0.46899772, -0.31971502,\n",
              "        -0.01147032,  0.11867261,  0.23773193,  0.6419871 , -0.45270395,\n",
              "        -0.0024097 ,  0.4130733 ,  0.72550297,  0.60874605,  0.40410662,\n",
              "         0.3879087 , -0.6725099 , -0.71648765, -0.6198964 , -0.451612  ,\n",
              "         0.9665921 , -0.33854127,  0.82529783,  0.5843878 ,  0.2086668 ,\n",
              "         0.94731736,  0.21922064, -0.59415936,  0.7786069 , -0.32407522,\n",
              "         0.60619354, -0.6408813 , -0.9482248 , -0.5122831 , -0.28163767,\n",
              "        -0.3139391 , -0.12469363,  0.59139276, -0.4060645 , -0.78884435,\n",
              "        -0.12632132, -0.39455962,  0.2412138 , -0.39446735, -0.20599699,\n",
              "         0.06034923,  0.5158639 , -0.49220634,  0.8918476 , -0.24317837,\n",
              "         0.62886095,  0.91857576,  0.81807566, -0.57933974, -0.89210844,\n",
              "        -0.52163005,  0.38111448,  0.41964746,  0.34892607,  0.4314723 ,\n",
              "         0.56254363, -0.9124284 , -0.62357116, -0.9683149 ,  0.08693671,\n",
              "         0.75879884, -0.4706869 ,  0.8245325 , -0.49697137,  0.9069023 ,\n",
              "         0.0682497 , -0.0403862 , -0.816792  ,  0.68473196, -0.79970837,\n",
              "        -0.43275785,  0.25020623,  0.75883937,  0.6826365 ,  0.10825586,\n",
              "        -0.6973171 ,  0.01837707, -0.46703553,  0.33252215,  0.8796027 ,\n",
              "        -0.81156206,  0.35581374, -0.45818496, -0.87931204, -0.48912168,\n",
              "        -0.66811466,  0.30446076, -0.01708317, -0.3660922 , -0.6274152 ,\n",
              "         0.6738951 ,  0.07747722,  0.3094585 , -0.07647085, -0.5011561 ,\n",
              "        -0.8323009 , -0.16830444,  0.19540668, -0.3368225 ,  0.15889311,\n",
              "        -0.5959952 , -0.06514502, -0.23089576,  0.31415653,  0.23827243,\n",
              "        -0.7301457 , -0.40255332,  0.84859776, -0.7790003 ,  0.12940717,\n",
              "        -0.19970989,  0.5349705 ,  0.2943642 ,  0.7454958 ,  0.8965504 ,\n",
              "        -0.5334878 ,  0.9421108 ,  0.7759757 ,  0.5746484 ,  0.98933816,\n",
              "        -0.84709215,  0.99974203, -0.719671  , -0.83803105,  0.7435386 ,\n",
              "        -0.9374471 ,  0.17463923,  0.7894285 ,  0.08307266,  0.25876236,\n",
              "         0.33474016, -0.94833493,  0.37306523,  0.25063515, -0.23376608]],\n",
              "      dtype=float32)"
            ]
          },
          "metadata": {
            "tags": []
          },
          "execution_count": 24
        }
      ]
    },
    {
      "cell_type": "code",
      "metadata": {
        "id": "oqjbQOjymIhS",
        "outputId": "ac668f5b-cbec-4ac1-ea17-157fc929f5bc",
        "colab": {
          "base_uri": "https://localhost:8080/",
          "height": 34
        }
      },
      "source": [
        "weights_tf_ante[0].shape"
      ],
      "execution_count": null,
      "outputs": [
        {
          "output_type": "execute_result",
          "data": {
            "text/plain": [
              "(1, 400)"
            ]
          },
          "metadata": {
            "tags": []
          },
          "execution_count": 25
        }
      ]
    },
    {
      "cell_type": "code",
      "metadata": {
        "id": "U2waeNN7a9kc",
        "outputId": "6531360b-b222-4b07-b91d-38e16fd6ba07",
        "colab": {
          "base_uri": "https://localhost:8080/",
          "height": 434
        }
      },
      "source": [
        "hidden1_tf_ante = model_tf.layers[0]\n",
        "weights_tf_ante = hidden1_tf_ante.get_weights()\n",
        "weights_tf_ante[2]"
      ],
      "execution_count": null,
      "outputs": [
        {
          "output_type": "execute_result",
          "data": {
            "text/plain": [
              "array([0., 0., 0., 0., 0., 0., 0., 0., 0., 0., 0., 0., 0., 0., 0., 0., 0.,\n",
              "       0., 0., 0., 0., 0., 0., 0., 0., 0., 0., 0., 0., 0., 0., 0., 0., 0.,\n",
              "       0., 0., 0., 0., 0., 0., 0., 0., 0., 0., 0., 0., 0., 0., 0., 0., 0.,\n",
              "       0., 0., 0., 0., 0., 0., 0., 0., 0., 0., 0., 0., 0., 0., 0., 0., 0.,\n",
              "       0., 0., 0., 0., 0., 0., 0., 0., 0., 0., 0., 0., 0., 0., 0., 0., 0.,\n",
              "       0., 0., 0., 0., 0., 0., 0., 0., 0., 0., 0., 0., 0., 0., 0., 1., 1.,\n",
              "       1., 1., 1., 1., 1., 1., 1., 1., 1., 1., 1., 1., 1., 1., 1., 1., 1.,\n",
              "       1., 1., 1., 1., 1., 1., 1., 1., 1., 1., 1., 1., 1., 1., 1., 1., 1.,\n",
              "       1., 1., 1., 1., 1., 1., 1., 1., 1., 1., 1., 1., 1., 1., 1., 1., 1.,\n",
              "       1., 1., 1., 1., 1., 1., 1., 1., 1., 1., 1., 1., 1., 1., 1., 1., 1.,\n",
              "       1., 1., 1., 1., 1., 1., 1., 1., 1., 1., 1., 1., 1., 1., 1., 1., 1.,\n",
              "       1., 1., 1., 1., 1., 1., 1., 1., 1., 1., 1., 1., 1., 0., 0., 0., 0.,\n",
              "       0., 0., 0., 0., 0., 0., 0., 0., 0., 0., 0., 0., 0., 0., 0., 0., 0.,\n",
              "       0., 0., 0., 0., 0., 0., 0., 0., 0., 0., 0., 0., 0., 0., 0., 0., 0.,\n",
              "       0., 0., 0., 0., 0., 0., 0., 0., 0., 0., 0., 0., 0., 0., 0., 0., 0.,\n",
              "       0., 0., 0., 0., 0., 0., 0., 0., 0., 0., 0., 0., 0., 0., 0., 0., 0.,\n",
              "       0., 0., 0., 0., 0., 0., 0., 0., 0., 0., 0., 0., 0., 0., 0., 0., 0.,\n",
              "       0., 0., 0., 0., 0., 0., 0., 0., 0., 0., 0., 0., 0., 0., 0., 0., 0.,\n",
              "       0., 0., 0., 0., 0., 0., 0., 0., 0., 0., 0., 0., 0., 0., 0., 0., 0.,\n",
              "       0., 0., 0., 0., 0., 0., 0., 0., 0., 0., 0., 0., 0., 0., 0., 0., 0.,\n",
              "       0., 0., 0., 0., 0., 0., 0., 0., 0., 0., 0., 0., 0., 0., 0., 0., 0.,\n",
              "       0., 0., 0., 0., 0., 0., 0., 0., 0., 0., 0., 0., 0., 0., 0., 0., 0.,\n",
              "       0., 0., 0., 0., 0., 0., 0., 0., 0., 0., 0., 0., 0., 0., 0., 0., 0.,\n",
              "       0., 0., 0., 0., 0., 0., 0., 0., 0.], dtype=float32)"
            ]
          },
          "metadata": {
            "tags": []
          },
          "execution_count": 26
        }
      ]
    },
    {
      "cell_type": "code",
      "metadata": {
        "id": "8Hnpyc554392",
        "outputId": "ec8204fc-d222-4930-a5b6-c2b0090364ce",
        "colab": {
          "base_uri": "https://localhost:8080/",
          "height": 34
        }
      },
      "source": [
        "weights_tf_ante[2].shape"
      ],
      "execution_count": null,
      "outputs": [
        {
          "output_type": "execute_result",
          "data": {
            "text/plain": [
              "(400,)"
            ]
          },
          "metadata": {
            "tags": []
          },
          "execution_count": 27
        }
      ]
    },
    {
      "cell_type": "markdown",
      "metadata": {
        "id": "Ow8SrWp5_GzL"
      },
      "source": [
        "## 4. Loss & Optimizer"
      ]
    },
    {
      "cell_type": "code",
      "metadata": {
        "id": "2XnclAKMDWwh"
      },
      "source": [
        "optimizer_tf = tf.keras.optimizers.Adam()\n",
        "loss_fn_tf = tf.keras.losses.MeanSquaredError()"
      ],
      "execution_count": null,
      "outputs": []
    },
    {
      "cell_type": "markdown",
      "metadata": {
        "id": "EDHau6DW_MPn"
      },
      "source": [
        "## 5. Training"
      ]
    },
    {
      "cell_type": "markdown",
      "metadata": {
        "id": "j9zWBPNR_RfS"
      },
      "source": [
        "### a) Training loop"
      ]
    },
    {
      "cell_type": "code",
      "metadata": {
        "id": "xgZ0GBXg46RT"
      },
      "source": [
        "def train_step_tf(model, optimizer, loss_fn, sequence):\n",
        "  losses = []\n",
        "  for seq, label in sequence:\n",
        "    exp_sequence = tf.expand_dims(seq,axis=0)\n",
        "    exp_sequence = tf.expand_dims(exp_sequence,axis=2)\n",
        "\n",
        "    with tf.GradientTape() as tape:\n",
        "      y_pred_tf = model(exp_sequence, training=True)\n",
        "      loss = loss_fn(label, y_pred_tf)\n",
        "\n",
        "    grads = tape.gradient(loss, model.trainable_weights)\n",
        "    optimizer.apply_gradients(zip(grads, model.trainable_weights))\n",
        "    losses.append(loss)\n",
        "  return losses"
      ],
      "execution_count": null,
      "outputs": []
    },
    {
      "cell_type": "code",
      "metadata": {
        "id": "OEe_aBKZNn5e",
        "outputId": "9dd1b920-4806-490d-da31-3cc726253c6e",
        "colab": {
          "base_uri": "https://localhost:8080/",
          "height": 451
        }
      },
      "source": [
        "train_loss_tf = []\n",
        "\n",
        "epochs = 25\n",
        "for epoch in range(epochs):\n",
        "  loss = train_step_tf(model_tf, optimizer_tf, loss_fn_tf, train_seq_tf)\n",
        "  mean_loss_tf = float(tf.reduce_mean(loss))\n",
        "  train_loss_tf.append(mean_loss_tf)\n",
        "\n",
        "  template = (\"Epoch {}, Loss: {}\")\n",
        "  print(template.format(epoch+1, mean_loss_tf))"
      ],
      "execution_count": null,
      "outputs": [
        {
          "output_type": "stream",
          "text": [
            "Epoch 1, Loss: 0.1808231770992279\n",
            "Epoch 2, Loss: 0.15266580879688263\n",
            "Epoch 3, Loss: 0.23133452236652374\n",
            "Epoch 4, Loss: 0.1412290632724762\n",
            "Epoch 5, Loss: 0.06961475312709808\n",
            "Epoch 6, Loss: 0.027259277179837227\n",
            "Epoch 7, Loss: 0.057381339371204376\n",
            "Epoch 8, Loss: 0.03478182107210159\n",
            "Epoch 9, Loss: 0.03180001303553581\n",
            "Epoch 10, Loss: 0.027966530993580818\n",
            "Epoch 11, Loss: 0.025167936459183693\n",
            "Epoch 12, Loss: 0.02294635958969593\n",
            "Epoch 13, Loss: 0.021120760589838028\n",
            "Epoch 14, Loss: 0.01960045099258423\n",
            "Epoch 15, Loss: 0.01836143620312214\n",
            "Epoch 16, Loss: 0.017418431118130684\n",
            "Epoch 17, Loss: 0.016806412488222122\n",
            "Epoch 18, Loss: 0.016565866768360138\n",
            "Epoch 19, Loss: 0.016729645431041718\n",
            "Epoch 20, Loss: 0.017333654686808586\n",
            "Epoch 21, Loss: 0.018349111080169678\n",
            "Epoch 22, Loss: 0.019864102825522423\n",
            "Epoch 23, Loss: 0.022568486630916595\n",
            "Epoch 24, Loss: 0.022776518017053604\n",
            "Epoch 25, Loss: 0.017148731276392937\n"
          ],
          "name": "stdout"
        }
      ]
    },
    {
      "cell_type": "markdown",
      "metadata": {
        "id": "Ps8QHc63_qfg"
      },
      "source": [
        "### b) Training progress"
      ]
    },
    {
      "cell_type": "code",
      "metadata": {
        "id": "OT_mQn9g7jjU",
        "outputId": "425b4610-2f9f-4f14-b1ca-68a98821655e",
        "colab": {
          "base_uri": "https://localhost:8080/",
          "height": 621
        }
      },
      "source": [
        "plt.figure(figsize=(16,10))\n",
        "plt.plot(train_loss_tf)\n",
        "#plt.plot(test_loss_tf)\n",
        "plt.title('model loss')\n",
        "plt.ylabel('loss')\n",
        "plt.xlabel('epoch')\n",
        "plt.legend(['train'], loc='upper right')\n",
        "plt.show()"
      ],
      "execution_count": null,
      "outputs": [
        {
          "output_type": "display_data",
          "data": {
            "image/png": "[encoded data removed]",
            "text/plain": [
              "<Figure size 1152x720 with 1 Axes>"
            ]
          },
          "metadata": {
            "tags": [],
            "needs_background": "light"
          }
        }
      ]
    },
    {
      "cell_type": "markdown",
      "metadata": {
        "id": "fauTTV80_34y"
      },
      "source": [
        "### c) Inspect the first hidden layer after training"
      ]
    },
    {
      "cell_type": "code",
      "metadata": {
        "id": "JFGiGkhnGi_M",
        "outputId": "82c9fe55-7483-4235-b5b5-72e8bac075d2",
        "colab": {
          "base_uri": "https://localhost:8080/",
          "height": 1000
        }
      },
      "source": [
        "hidden1_tf_post = model_tf.layers[0]\n",
        "weights_tf_post = hidden1_tf_post.get_weights()\n",
        "weights_tf_post[0]"
      ],
      "execution_count": null,
      "outputs": [
        {
          "output_type": "execute_result",
          "data": {
            "text/plain": [
              "array([[-3.62456627e-02, -2.23993868e-01, -9.71433699e-01,\n",
              "        -5.77910483e-01, -7.95549929e-01, -6.89023495e-01,\n",
              "        -5.53154826e-01, -1.39552057e-01,  1.86794311e-01,\n",
              "        -5.54367565e-02,  7.56209671e-01,  8.55449200e-01,\n",
              "        -2.31790185e-01,  6.77162170e-01, -2.92882532e-01,\n",
              "        -1.29303649e-01,  4.28924769e-01, -5.46602488e-01,\n",
              "        -8.39657247e-01,  3.20280880e-01,  7.86438137e-02,\n",
              "         9.99264181e-01,  4.28513139e-01,  5.70667684e-01,\n",
              "        -8.72959435e-01,  7.84290135e-01, -9.80451107e-01,\n",
              "         8.97911310e-01,  7.36959398e-01, -3.08688819e-01,\n",
              "         5.48275113e-01, -3.28363121e-01, -4.85808671e-01,\n",
              "         2.62355745e-01, -5.94736040e-01, -8.74809444e-01,\n",
              "         5.62037528e-01,  1.09330043e-01,  7.56556571e-01,\n",
              "         9.72751915e-01,  8.47774386e-01, -8.62661064e-01,\n",
              "        -1.77567199e-01, -8.71642709e-01,  5.46393037e-01,\n",
              "         3.98778588e-01,  6.56908572e-01,  7.71380126e-01,\n",
              "        -2.34816596e-01, -7.67816722e-01,  9.61355567e-02,\n",
              "         7.49605298e-01, -8.21028709e-01,  8.20092499e-01,\n",
              "        -5.86747825e-01,  4.18657750e-01,  6.90547764e-01,\n",
              "         2.97455162e-01, -1.40620217e-01,  3.75750393e-01,\n",
              "        -8.74623239e-01,  4.94571596e-01, -2.62449712e-01,\n",
              "         1.61503005e-04, -3.12714785e-01, -2.58528262e-01,\n",
              "        -1.23899661e-01, -7.72242248e-01, -4.13354129e-01,\n",
              "        -2.76335239e-01,  1.63926676e-01, -8.29345882e-01,\n",
              "         4.09613132e-01, -7.72959054e-01,  8.98884654e-01,\n",
              "        -9.14099693e-01,  1.59243897e-01, -6.57911658e-01,\n",
              "        -8.65327492e-02,  3.15813988e-01, -3.77075315e-01,\n",
              "         1.15279950e-01,  5.50133049e-01,  1.65753618e-01,\n",
              "        -6.48068368e-01, -9.56082165e-01, -1.55523345e-01,\n",
              "         6.28468633e-01,  5.09204924e-01,  5.75902939e-01,\n",
              "         5.22040606e-01, -8.72590363e-01, -9.22789395e-01,\n",
              "        -6.54042423e-01,  9.70720291e-01,  2.42396951e-01,\n",
              "         9.54643071e-01, -2.63013691e-01,  3.41091096e-01,\n",
              "        -3.98317754e-01,  3.96968752e-01, -2.91693002e-01,\n",
              "         2.76541084e-01, -3.82776022e-01, -7.78461277e-01,\n",
              "         9.19810891e-01,  5.63416779e-01,  4.54727054e-01,\n",
              "        -5.64033449e-01, -6.34378254e-01,  9.35019732e-01,\n",
              "        -5.46132252e-02,  7.35476613e-01, -8.20735633e-01,\n",
              "         1.01103175e+00,  8.79923344e-01, -7.83014655e-01,\n",
              "         9.41812277e-01, -4.05342042e-01, -6.34278834e-01,\n",
              "        -4.54974860e-01, -4.89529341e-01,  2.14946210e-01,\n",
              "         1.28090546e-01,  6.11633696e-02, -6.41757846e-01,\n",
              "        -1.00569630e+00, -9.60179746e-01, -2.55686134e-01,\n",
              "        -8.57968330e-01, -9.81501639e-01, -9.75157201e-01,\n",
              "         3.00978929e-01,  5.85426986e-01,  6.38893843e-01,\n",
              "        -6.63966596e-01, -3.99946928e-01, -8.48355651e-01,\n",
              "        -9.55626369e-01, -5.27148068e-01, -9.75420326e-02,\n",
              "         1.50834337e-01,  4.36448485e-01,  3.95856738e-01,\n",
              "        -2.13275671e-01, -7.43877232e-01,  6.51807010e-01,\n",
              "        -9.50013816e-01,  7.34097958e-01,  3.82425278e-01,\n",
              "         8.20075929e-01,  1.69309765e-01,  2.08433837e-01,\n",
              "         5.40339828e-01,  7.19194651e-01,  7.17252135e-01,\n",
              "         6.54780507e-01, -4.34754670e-01, -1.44583464e-01,\n",
              "         3.51210594e-01, -3.43488723e-01,  2.73215473e-01,\n",
              "        -9.57350731e-01,  3.26497525e-01,  5.41998029e-01,\n",
              "        -6.19058728e-01,  6.01452351e-01,  2.44298175e-01,\n",
              "        -8.59444857e-01, -1.44308209e-01, -9.70152438e-01,\n",
              "        -9.02954161e-01,  2.02526465e-01, -3.81842434e-01,\n",
              "        -3.29530060e-01, -2.27200180e-01, -7.99033463e-01,\n",
              "         2.28419140e-01, -4.70702499e-01, -5.04262090e-01,\n",
              "        -8.08520138e-01, -2.11954907e-01, -4.23923619e-02,\n",
              "         1.53721318e-01,  8.00063968e-01, -2.58890390e-01,\n",
              "         3.04232597e-01,  1.02665864e-01,  8.55435491e-01,\n",
              "         7.57668376e-01, -1.71074793e-01,  5.09557724e-01,\n",
              "        -6.03608012e-01, -5.47685862e-01, -8.44548702e-01,\n",
              "         6.89731836e-01,  9.32543933e-01,  1.71673805e-01,\n",
              "        -5.27033031e-01,  9.03245866e-01,  4.37587321e-01,\n",
              "        -1.16096474e-02, -1.96376979e-01, -6.08003020e-01,\n",
              "         9.73252714e-01, -6.85762703e-01, -1.81705862e-01,\n",
              "         1.73797086e-01, -7.89548993e-01, -7.13066936e-01,\n",
              "         7.98054636e-01,  9.06129301e-01,  9.11311984e-01,\n",
              "         1.12009890e-01,  3.25770199e-01,  3.16897899e-01,\n",
              "        -6.73064709e-01, -7.88896903e-03, -8.03529680e-01,\n",
              "        -9.04063046e-01,  5.37461758e-01,  2.82191664e-01,\n",
              "         4.06423211e-01,  4.26238865e-01, -2.22875670e-01,\n",
              "         4.31360066e-01,  7.83519328e-01, -4.58886594e-01,\n",
              "         7.39630222e-01,  7.96903133e-01,  8.02493036e-01,\n",
              "        -2.38753125e-01,  2.80302227e-01,  7.17813134e-01,\n",
              "        -4.00385559e-01, -1.42067140e-02, -9.16399002e-01,\n",
              "         4.73813921e-01, -3.06049705e-01,  9.50649559e-01,\n",
              "        -1.56676710e-01, -7.67958224e-01, -6.02606595e-01,\n",
              "        -8.08437839e-02,  2.16103137e-01, -7.26161659e-01,\n",
              "         8.97321939e-01,  2.81345189e-01,  2.89072782e-01,\n",
              "         1.31532177e-01,  8.92157435e-01, -4.76207763e-01,\n",
              "         6.12012386e-01, -4.54682380e-01,  4.08386976e-01,\n",
              "         1.56623319e-01, -4.65493441e-01,  7.03629494e-01,\n",
              "        -6.34443581e-01,  1.01652011e-01, -5.18644512e-01,\n",
              "        -1.99678123e-01,  9.06459630e-01,  4.52167183e-01,\n",
              "        -2.96293795e-01, -1.69568639e-02,  1.01663060e-01,\n",
              "         2.17852563e-01,  6.11861646e-01, -4.20430452e-01,\n",
              "         3.65471723e-03,  4.18807596e-01,  6.82087123e-01,\n",
              "         6.10612392e-01,  3.87913436e-01,  3.90794307e-01,\n",
              "        -6.19778991e-01, -6.99770570e-01, -5.67919970e-01,\n",
              "        -4.12712783e-01,  9.33216572e-01, -3.04517776e-01,\n",
              "         7.77541578e-01,  5.60543597e-01,  1.78851336e-01,\n",
              "         9.55662489e-01,  1.79888889e-01, -5.79468071e-01,\n",
              "         7.31960356e-01, -2.90257394e-01,  5.98381877e-01,\n",
              "        -6.31830812e-01, -9.23098207e-01, -4.91328567e-01,\n",
              "        -2.66372502e-01, -2.68324703e-01, -1.13631725e-01,\n",
              "         5.30157149e-01, -3.82223040e-01, -7.38933086e-01,\n",
              "        -1.26459062e-01, -4.00546759e-01,  2.74369866e-01,\n",
              "        -3.98006022e-01, -1.73094273e-01,  5.14447801e-02,\n",
              "         5.23273766e-01, -5.07312119e-01,  9.49815810e-01,\n",
              "        -2.21392363e-01,  6.19982243e-01,  9.33452964e-01,\n",
              "         8.37849319e-01, -5.71487427e-01, -9.15377796e-01,\n",
              "        -5.07687628e-01,  4.15249109e-01,  4.73148674e-01,\n",
              "         3.35874319e-01,  4.54605967e-01,  5.69717586e-01,\n",
              "        -9.13610399e-01, -6.02834582e-01, -9.80524778e-01,\n",
              "         1.19940154e-01,  7.52522171e-01, -4.37774390e-01,\n",
              "         8.57422829e-01, -5.02205014e-01,  1.00847149e+00,\n",
              "         6.35468587e-02, -3.67295556e-02, -8.10657322e-01,\n",
              "         6.78734541e-01, -7.61567175e-01, -3.97178352e-01,\n",
              "         2.72933215e-01,  7.82631636e-01,  6.88885927e-01,\n",
              "         9.91818979e-02, -6.74932063e-01,  6.52319565e-03,\n",
              "        -4.58095789e-01,  3.59496325e-01,  9.18697894e-01,\n",
              "        -7.80317545e-01,  3.45321625e-01, -4.58518386e-01,\n",
              "        -9.37840343e-01, -5.10550141e-01, -6.89277112e-01,\n",
              "         3.20134729e-01,  1.18176928e-02, -3.68330151e-01,\n",
              "        -6.36192381e-01,  6.63226008e-01,  8.55644792e-02,\n",
              "         3.12057018e-01, -5.74844927e-02, -5.10064721e-01,\n",
              "        -8.54241967e-01, -1.91035405e-01,  2.51670241e-01,\n",
              "        -3.52507234e-01,  1.51668742e-01, -5.78678787e-01,\n",
              "        -7.70324245e-02, -1.84875295e-01,  3.61539215e-01,\n",
              "         2.51386285e-01, -7.01639056e-01, -3.67559910e-01,\n",
              "         8.67086411e-01, -7.51938045e-01,  1.25070572e-01,\n",
              "        -1.62955299e-01,  5.22263408e-01,  3.17832768e-01,\n",
              "         7.40505159e-01,  8.77982318e-01, -4.82115567e-01,\n",
              "         9.99718070e-01,  7.68755674e-01,  5.98511517e-01,\n",
              "         1.00840545e+00, -8.16588581e-01,  9.97153759e-01,\n",
              "        -7.12908328e-01, -8.41825545e-01,  7.46440530e-01,\n",
              "        -9.38909113e-01,  1.79433912e-01,  7.75887489e-01,\n",
              "         7.23840892e-02,  2.85247564e-01,  3.00101578e-01,\n",
              "        -9.77033019e-01,  3.74660254e-01,  2.75678486e-01,\n",
              "        -2.30079651e-01]], dtype=float32)"
            ]
          },
          "metadata": {
            "tags": []
          },
          "execution_count": 32
        }
      ]
    },
    {
      "cell_type": "code",
      "metadata": {
        "id": "CQzHFz85G40Q",
        "outputId": "bbfae94c-3343-42cf-d451-094a672eca93",
        "colab": {
          "base_uri": "https://localhost:8080/",
          "height": 1000
        }
      },
      "source": [
        "hidden1_tf_post = model_tf.layers[0]\n",
        "weights_tf_post = hidden1_tf_post.get_weights()\n",
        "weights_tf_post[2]"
      ],
      "execution_count": null,
      "outputs": [
        {
          "output_type": "execute_result",
          "data": {
            "text/plain": [
              "array([-8.11935440e-02, -2.39604861e-02, -5.63252084e-02, -4.80937771e-02,\n",
              "       -1.21379597e-02, -5.55003919e-02, -3.37822437e-02, -9.15565938e-02,\n",
              "       -9.39444080e-02, -7.76256099e-02, -4.22371365e-02, -1.47390272e-02,\n",
              "       -9.09111053e-02, -2.94527728e-02, -7.83779547e-02, -7.91684613e-02,\n",
              "       -3.88097018e-02, -6.33950159e-02, -3.95406708e-02, -5.12653477e-02,\n",
              "       -4.38191704e-02, -3.00520733e-02, -3.52119617e-02, -1.50691355e-02,\n",
              "       -6.06276430e-02, -3.47550400e-02, -8.76437640e-04, -4.72926050e-02,\n",
              "       -2.81895809e-02,  4.24480513e-02, -5.78375757e-02, -2.51180604e-02,\n",
              "       -3.80870961e-02, -4.49879952e-02, -6.08561561e-03, -4.40289862e-02,\n",
              "       -2.83700302e-02, -6.88203946e-02, -9.35444012e-02, -1.19523797e-02,\n",
              "       -4.65456881e-02, -4.24727313e-02, -3.53826880e-02, -6.67157546e-02,\n",
              "       -5.78512549e-02, -4.36623506e-02, -4.67479452e-02, -1.33387130e-02,\n",
              "       -7.08299130e-02, -2.90702842e-02, -4.15103063e-02, -4.21275832e-02,\n",
              "       -3.77602428e-02, -3.98139916e-02, -4.62658405e-02, -6.12779818e-02,\n",
              "       -3.92660275e-02, -7.27550536e-02, -6.61861971e-02, -2.76678372e-02,\n",
              "       -1.69978738e-02, -5.49921542e-02, -3.30635868e-02, -8.37912410e-02,\n",
              "       -4.00530286e-02, -3.35526466e-02, -1.23822860e-01, -4.43566516e-02,\n",
              "       -3.85031477e-02, -4.70803343e-02, -3.76848839e-02, -1.27021107e-04,\n",
              "       -2.51488965e-02, -1.99279618e-02, -4.49289642e-02, -2.78002508e-02,\n",
              "       -1.13936126e-01, -2.04162616e-02, -8.28493610e-02, -8.79964083e-02,\n",
              "       -4.60413210e-02, -1.47268131e-01, -4.70806397e-02, -4.53700349e-02,\n",
              "       -4.36979383e-02, -5.18651959e-03, -1.00234129e-01, -4.16623689e-02,\n",
              "       -4.63780165e-02, -8.80063623e-02, -2.29369868e-02, -3.96842808e-02,\n",
              "       -4.63110991e-02, -3.79978679e-02, -3.40590104e-02, -1.13179825e-01,\n",
              "       -6.56838045e-02, -7.85906538e-02, -3.20727155e-02, -5.59179932e-02,\n",
              "        9.38288927e-01,  9.82778311e-01,  9.62594628e-01,  9.80454504e-01,\n",
              "        9.90626931e-01,  9.67452765e-01,  9.67481017e-01,  9.33288872e-01,\n",
              "        9.66051400e-01,  9.31716859e-01,  9.83279765e-01,  9.56920385e-01,\n",
              "        9.82694209e-01,  9.78133261e-01,  9.67572868e-01,  9.65776443e-01,\n",
              "        9.89779353e-01,  9.52627599e-01,  1.00677037e+00,  9.71471369e-01,\n",
              "        9.64584589e-01,  9.72440660e-01,  9.78869677e-01,  9.98817146e-01,\n",
              "        9.59973931e-01,  9.78384614e-01,  1.03480756e+00,  9.76455569e-01,\n",
              "        9.82723892e-01,  1.16566467e+00,  9.53202188e-01,  9.85478342e-01,\n",
              "        9.82286990e-01,  9.40366864e-01,  9.85281885e-01,  9.59215879e-01,\n",
              "        9.79887247e-01,  9.37247753e-01,  9.45471585e-01,  9.91372883e-01,\n",
              "        9.57341075e-01,  1.00623846e+00,  9.82587516e-01,  9.60558653e-01,\n",
              "        9.64571297e-01,  9.72332239e-01,  9.81418788e-01,  9.99349356e-01,\n",
              "        9.79208767e-01,  9.76778805e-01,  9.74329829e-01,  9.65592921e-01,\n",
              "        9.78234649e-01,  9.67996955e-01,  9.80437100e-01,  9.31527138e-01,\n",
              "        9.77579117e-01,  9.52310860e-01,  9.43953931e-01,  9.76040065e-01,\n",
              "        1.02001023e+00,  9.60596323e-01,  9.81349111e-01,  9.71673787e-01,\n",
              "        9.79508936e-01,  9.72426295e-01,  9.42587018e-01,  9.69440043e-01,\n",
              "        9.84311461e-01,  9.72060144e-01,  9.88625526e-01,  9.98237312e-01,\n",
              "        9.73471940e-01,  9.85967457e-01,  9.53755558e-01,  9.78386223e-01,\n",
              "        1.02106464e+00,  9.44234908e-01,  9.38757718e-01,  9.46030557e-01,\n",
              "        9.78784978e-01,  9.50196862e-01,  9.56301451e-01,  1.00625074e+00,\n",
              "        9.64355767e-01,  9.92650032e-01,  9.42165971e-01,  9.74647880e-01,\n",
              "        9.66054380e-01,  9.70890939e-01,  9.90462840e-01,  9.68735278e-01,\n",
              "        9.98371303e-01,  1.00694001e+00,  9.76384282e-01,  9.55100417e-01,\n",
              "        9.43835676e-01,  1.00563216e+00,  9.74479318e-01,  9.73349273e-01,\n",
              "        7.09880097e-03,  1.38899973e-02,  7.25874025e-03,  3.30579095e-02,\n",
              "       -4.44363765e-02,  4.36301269e-02,  5.92725398e-03,  1.03684450e-02,\n",
              "        5.28287925e-02, -2.52940804e-02, -4.18540463e-02, -3.34331691e-02,\n",
              "       -9.92522836e-02, -2.94886380e-02, -4.19336231e-03, -3.35914232e-02,\n",
              "        9.38374847e-02, -2.15200223e-02,  4.73438948e-02,  5.34145646e-02,\n",
              "       -4.04682271e-02, -1.64658427e-02,  2.03672284e-03, -4.20202389e-02,\n",
              "        3.82996909e-03, -2.92806681e-02, -4.79322188e-02,  4.55096774e-02,\n",
              "       -2.98740957e-02, -1.09116293e-01, -4.92931418e-02,  9.39890835e-03,\n",
              "       -4.98028286e-03,  1.74190942e-02,  1.10629424e-02, -5.02677541e-03,\n",
              "        3.34993973e-02,  2.19521001e-02,  8.50847177e-03, -3.65747102e-02,\n",
              "        1.45882247e-02,  3.84065434e-02,  4.37770449e-02,  4.67800506e-04,\n",
              "       -2.51980908e-02,  9.18483082e-03, -6.24133162e-02, -1.65874697e-02,\n",
              "       -1.07729062e-02,  1.65642817e-02, -9.21472907e-03,  3.60371955e-02,\n",
              "       -2.89578941e-02,  1.50657976e-02, -2.92367442e-03,  6.60104724e-03,\n",
              "        3.90433073e-02, -6.27572909e-02,  2.11330391e-02, -1.11594955e-02,\n",
              "        2.10412983e-02,  1.13307927e-02, -5.60858957e-02, -6.61206944e-03,\n",
              "        4.51106727e-02, -6.02622237e-03,  1.20603330e-02, -3.91474441e-02,\n",
              "       -7.98011869e-02,  5.00012673e-02, -1.44832386e-02, -2.84824260e-02,\n",
              "       -4.74807434e-02, -1.59453172e-02, -1.50025580e-02, -5.85462386e-03,\n",
              "        9.28571150e-02, -1.97060360e-03, -1.00123836e-03,  1.72282774e-02,\n",
              "       -4.40920852e-02,  3.62313129e-02, -3.09367981e-02, -6.21285662e-02,\n",
              "       -2.69249808e-02, -3.48616727e-02,  2.85403174e-03,  1.87962074e-02,\n",
              "       -4.61802036e-02,  5.32970838e-02, -3.40904444e-02,  1.91829391e-02,\n",
              "        5.73979914e-02,  4.04155962e-02,  2.72669606e-02,  6.66130632e-02,\n",
              "       -2.18429533e-03, -8.51860940e-02,  4.96590249e-02,  6.33246750e-02,\n",
              "       -7.54775405e-02, -2.55538635e-02, -4.45377342e-02, -3.90344597e-02,\n",
              "       -2.95903273e-02, -4.13921364e-02, -2.30438523e-02, -9.23498124e-02,\n",
              "       -1.08140275e-01, -6.67930022e-02, -3.85820307e-02, -3.08691449e-02,\n",
              "       -8.42344612e-02, -4.24008071e-02, -8.12858120e-02, -7.10858777e-02,\n",
              "       -4.74366248e-02, -7.05316812e-02, -3.03498805e-02, -5.30781187e-02,\n",
              "       -2.54017357e-02, -5.23119420e-02, -4.42665368e-02, -3.32218073e-02,\n",
              "       -5.49023859e-02, -3.78852077e-02, -2.37744339e-02, -5.85531741e-02,\n",
              "       -4.31182720e-02, -7.17391297e-02, -5.33597581e-02, -2.26904154e-02,\n",
              "       -4.31266800e-02, -5.44513240e-02, -6.87209005e-03, -3.85608673e-02,\n",
              "       -3.84444818e-02, -8.13708007e-02, -9.67745632e-02, -3.20170373e-02,\n",
              "       -5.14486358e-02, -3.13124657e-02, -3.18744741e-02, -4.90062498e-02,\n",
              "       -6.21678419e-02, -5.12081943e-02, -4.58225906e-02, -2.69594900e-02,\n",
              "       -8.78227353e-02, -3.75960171e-02, -4.99185212e-02, -5.08919880e-02,\n",
              "       -4.91842963e-02, -4.38758209e-02, -5.14341183e-02, -6.30261451e-02,\n",
              "       -4.11320925e-02, -4.29116823e-02, -4.90917936e-02, -3.41284685e-02,\n",
              "       -2.83021722e-02, -6.82523102e-02, -5.94849028e-02, -8.56395215e-02,\n",
              "       -3.53009775e-02, -3.00333016e-02, -1.26314551e-01, -4.50577624e-02,\n",
              "       -4.68410850e-02, -4.10052203e-02, -3.02492529e-02, -2.09543072e-02,\n",
              "       -3.01851165e-02, -2.47288682e-02, -4.80718538e-02, -4.08880301e-02,\n",
              "       -1.64056793e-01, -2.23110337e-02, -9.26661864e-02, -7.09921271e-02,\n",
              "       -5.97032756e-02, -1.64120868e-01, -4.08820137e-02, -4.21338901e-02,\n",
              "       -4.17875908e-02, -2.49439888e-02, -7.79373869e-02, -4.74801250e-02,\n",
              "       -6.36438429e-02, -8.54527876e-02, -4.50009853e-02, -3.03590670e-02,\n",
              "       -3.14262435e-02, -2.49798670e-02, -3.89030278e-02, -1.07331909e-01,\n",
              "       -9.26670656e-02, -8.25981721e-02, -3.39928716e-02, -4.86789793e-02],\n",
              "      dtype=float32)"
            ]
          },
          "metadata": {
            "tags": []
          },
          "execution_count": 33
        }
      ]
    },
    {
      "cell_type": "markdown",
      "metadata": {
        "id": "7zxy7PuBABMp"
      },
      "source": [
        "## 6. Evaluation"
      ]
    },
    {
      "cell_type": "markdown",
      "metadata": {
        "id": "gW2uSyJpdWY3"
      },
      "source": [
        "### a) Prediction comparing to the test set"
      ]
    },
    {
      "cell_type": "code",
      "metadata": {
        "id": "ebAV_YmhsfZ3"
      },
      "source": [
        "test_inputs_overlap_tf = x_train[-12:].tolist()"
      ],
      "execution_count": null,
      "outputs": []
    },
    {
      "cell_type": "code",
      "metadata": {
        "id": "0mVptqlJsfQr",
        "outputId": "e8ca3734-5dcb-451e-e135-abaab4f8336a",
        "colab": {
          "base_uri": "https://localhost:8080/",
          "height": 225
        }
      },
      "source": [
        "test_inputs_overlap_tf"
      ],
      "execution_count": null,
      "outputs": [
        {
          "output_type": "execute_result",
          "data": {
            "text/plain": [
              "[[0.12527477741241455],\n",
              " [0.046153903007507324],\n",
              " [0.3274726867675781],\n",
              " [0.28351664543151855],\n",
              " [0.3890111446380615],\n",
              " [0.6175825595855713],\n",
              " [0.951648473739624],\n",
              " [1.000000238418579],\n",
              " [0.5780220031738281],\n",
              " [0.3318682909011841],\n",
              " [0.13406598567962646],\n",
              " [0.32307708263397217]]"
            ]
          },
          "metadata": {
            "tags": []
          },
          "execution_count": 35
        }
      ]
    },
    {
      "cell_type": "code",
      "metadata": {
        "id": "qfu7OuRpsfOU"
      },
      "source": [
        "for i in range(12):\n",
        "    x_test_seq_tf = tf.convert_to_tensor(test_inputs_overlap_tf[-12:])\n",
        "    x_test_seq_tf = tf.expand_dims(x_test_seq_tf,axis=0)\n",
        "    pred_tf = tf.constant(model_tf(x_test_seq_tf)).numpy()\n",
        "    test_inputs_overlap_tf.append([pred_tf.item()])"
      ],
      "execution_count": null,
      "outputs": []
    },
    {
      "cell_type": "code",
      "metadata": {
        "id": "qnQT18UBsfLi",
        "outputId": "47212db1-1795-4652-e120-26b85116ed94",
        "colab": {
          "base_uri": "https://localhost:8080/",
          "height": 225
        }
      },
      "source": [
        "test_inputs_overlap_tf[-12:]"
      ],
      "execution_count": null,
      "outputs": [
        {
          "output_type": "execute_result",
          "data": {
            "text/plain": [
              "[[0.4988939166069031],\n",
              " [0.777797281742096],\n",
              " [1.1616885662078857],\n",
              " [1.4788464307785034],\n",
              " [1.6010549068450928],\n",
              " [1.5201128721237183],\n",
              " [1.3027777671813965],\n",
              " [0.9863969087600708],\n",
              " [0.6376135349273682],\n",
              " [0.4136888384819031],\n",
              " [0.3897881507873535],\n",
              " [0.5216307640075684]]"
            ]
          },
          "metadata": {
            "tags": []
          },
          "execution_count": 37
        }
      ]
    },
    {
      "cell_type": "code",
      "metadata": {
        "id": "Qi6zm_6UsfI4",
        "outputId": "9e2a203b-9a06-4801-e380-e7632e599294",
        "colab": {
          "base_uri": "https://localhost:8080/",
          "height": 225
        }
      },
      "source": [
        "overlap_predictions_tf = scaler.inverse_transform(np.array(test_inputs_overlap_tf[-12:]).reshape(-1, 1))\n",
        "print(overlap_predictions_tf)"
      ],
      "execution_count": null,
      "outputs": [
        {
          "output_type": "stream",
          "text": [
            "[[444.99833921]\n",
            " [508.44885184]\n",
            " [595.78411501]\n",
            " [667.93752586]\n",
            " [695.73995287]\n",
            " [677.32564083]\n",
            " [627.88190674]\n",
            " [555.90526479]\n",
            " [476.55705092]\n",
            " [425.61418484]\n",
            " [420.17677864]\n",
            " [450.17097175]]\n"
          ],
          "name": "stdout"
        }
      ]
    },
    {
      "cell_type": "code",
      "metadata": {
        "id": "Weio3VG-sfGJ",
        "outputId": "00f73870-fbf2-40df-e898-5b250ebdfef1",
        "colab": {
          "base_uri": "https://localhost:8080/",
          "height": 336
        }
      },
      "source": [
        "plt.title('Month vs Passenger')\n",
        "plt.ylabel('Total Passengers')\n",
        "plt.grid(True)\n",
        "plt.autoscale(axis='x', tight=True)\n",
        "plt.plot(flight_data['passengers'])\n",
        "plt.plot(np.arange(132, 144, 1),overlap_predictions_tf)\n",
        "plt.legend(['actual', 'predicted'], loc='upper left')\n",
        "plt.show()"
      ],
      "execution_count": null,
      "outputs": [
        {
          "output_type": "display_data",
          "data": {
            "image/png": "[encoded data removed]",
            "text/plain": [
              "<Figure size 1080x360 with 1 Axes>"
            ]
          },
          "metadata": {
            "tags": [],
            "needs_background": "light"
          }
        }
      ]
    },
    {
      "cell_type": "code",
      "metadata": {
        "id": "hP38zzUqsfDk",
        "outputId": "4d2a00fe-d2c5-4731-8f73-71397501a93e",
        "colab": {
          "base_uri": "https://localhost:8080/",
          "height": 336
        }
      },
      "source": [
        "plt.title('Month vs Passenger')\n",
        "plt.ylabel('Total Passengers')\n",
        "plt.grid(True)\n",
        "plt.autoscale(axis='x', tight=True)\n",
        "plt.plot(flight_data['passengers'][-12:])\n",
        "plt.plot(np.arange(132, 144, 1),overlap_predictions_tf)\n",
        "plt.legend(['actual', 'predicted'], loc='upper left')\n",
        "plt.show()"
      ],
      "execution_count": null,
      "outputs": [
        {
          "output_type": "display_data",
          "data": {
            "image/png": "[encoded data removed]",
            "text/plain": [
              "<Figure size 1080x360 with 1 Axes>"
            ]
          },
          "metadata": {
            "tags": [],
            "needs_background": "light"
          }
        }
      ]
    },
    {
      "cell_type": "markdown",
      "metadata": {
        "id": "gxF0f1vBdZsz"
      },
      "source": [
        "### b) Prediction into the future using the test set"
      ]
    },
    {
      "cell_type": "code",
      "metadata": {
        "id": "9piVIwCWVPsr"
      },
      "source": [
        "scaler = MinMaxScaler(feature_range=(-1, 1))\n",
        "x_test_tf = scaler.fit_transform(x_test.reshape(-1, 1))"
      ],
      "execution_count": null,
      "outputs": []
    },
    {
      "cell_type": "code",
      "metadata": {
        "id": "EZbAzH9aFA4u"
      },
      "source": [
        "test_inputs_tf = x_test_tf[-12:].tolist()"
      ],
      "execution_count": null,
      "outputs": []
    },
    {
      "cell_type": "code",
      "metadata": {
        "id": "14aNvzVXAWbE",
        "outputId": "657fe29e-96ce-46a1-8fe5-12ca8539921f",
        "colab": {
          "base_uri": "https://localhost:8080/",
          "height": 225
        }
      },
      "source": [
        "test_inputs_tf"
      ],
      "execution_count": null,
      "outputs": [
        {
          "output_type": "execute_result",
          "data": {
            "text/plain": [
              "[[-0.7672414779663086],\n",
              " [-0.9913794994354248],\n",
              " [-0.7500002384185791],\n",
              " [-0.38793110847473145],\n",
              " [-0.2931036949157715],\n",
              " [0.25],\n",
              " [1.0],\n",
              " [0.8620686531066895],\n",
              " [0.01724100112915039],\n",
              " [-0.38793110847473145],\n",
              " [-1.000000238418579],\n",
              " [-0.6379311084747314]]"
            ]
          },
          "metadata": {
            "tags": []
          },
          "execution_count": 43
        }
      ]
    },
    {
      "cell_type": "code",
      "metadata": {
        "id": "FBe8SByn_mQN"
      },
      "source": [
        "for i in range(12):\n",
        "    x_test_seq_tf = tf.convert_to_tensor(test_inputs_tf[-12:])\n",
        "    x_test_seq_tf = tf.expand_dims(x_test_seq_tf,axis=0)\n",
        "    pred_tf = tf.constant(model_tf(x_test_seq_tf)).numpy()\n",
        "    test_inputs_tf.append([pred_tf.item()])"
      ],
      "execution_count": null,
      "outputs": []
    },
    {
      "cell_type": "code",
      "metadata": {
        "id": "TwYjxE6LEtQI",
        "outputId": "fc8244fc-3496-49c2-b58c-51a1da155ffa",
        "colab": {
          "base_uri": "https://localhost:8080/",
          "height": 225
        }
      },
      "source": [
        "test_inputs_tf[-12:]"
      ],
      "execution_count": null,
      "outputs": [
        {
          "output_type": "execute_result",
          "data": {
            "text/plain": [
              "[[-0.4294840395450592],\n",
              " [-0.2220548838376999],\n",
              " [0.03045632876455784],\n",
              " [0.28542736172676086],\n",
              " [0.4794228672981262],\n",
              " [0.574531614780426],\n",
              " [0.5100300908088684],\n",
              " [0.23699910938739777],\n",
              " [-0.1290978193283081],\n",
              " [-0.299508273601532],\n",
              " [-0.2741796672344208],\n",
              " [-0.25586438179016113]]"
            ]
          },
          "metadata": {
            "tags": []
          },
          "execution_count": 45
        }
      ]
    },
    {
      "cell_type": "code",
      "metadata": {
        "id": "lUg3t4FpswJa",
        "outputId": "334beefd-7826-47f9-a620-3664dc8c27a1",
        "colab": {
          "base_uri": "https://localhost:8080/",
          "height": 225
        }
      },
      "source": [
        "predictions_tf = scaler.inverse_transform(np.array(test_inputs_tf[-12:]).reshape(-1, 1))\n",
        "print(predictions_tf)"
      ],
      "execution_count": null,
      "outputs": [
        {
          "output_type": "stream",
          "text": [
            "[[456.17987219]\n",
            " [480.24165434]\n",
            " [509.53295511]\n",
            " [539.10959504]\n",
            " [561.61307377]\n",
            " [572.64568852]\n",
            " [565.16351171]\n",
            " [533.49191775]\n",
            " [491.02467386]\n",
            " [471.25706109]\n",
            " [474.19517944]\n",
            " [476.31975256]]\n"
          ],
          "name": "stdout"
        }
      ]
    },
    {
      "cell_type": "code",
      "metadata": {
        "id": "P8l-_lbnhJay",
        "outputId": "88e021d8-54c9-43da-d86a-c694c1b55e21",
        "colab": {
          "base_uri": "https://localhost:8080/",
          "height": 336
        }
      },
      "source": [
        "plt.title('Month vs Passenger')\n",
        "plt.ylabel('Total Passengers')\n",
        "plt.grid(True)\n",
        "plt.autoscale(axis='x', tight=True)\n",
        "plt.plot(flight_data['passengers'])\n",
        "plt.plot(np.arange(144, 156, 1),predictions_tf)\n",
        "plt.legend(['actual', 'predicted'], loc='upper left')\n",
        "plt.show()"
      ],
      "execution_count": null,
      "outputs": [
        {
          "output_type": "display_data",
          "data": {
            "image/png": "[encoded data removed]",
            "text/plain": [
              "<Figure size 1080x360 with 1 Axes>"
            ]
          },
          "metadata": {
            "tags": [],
            "needs_background": "light"
          }
        }
      ]
    },
    {
      "cell_type": "code",
      "metadata": {
        "id": "WngykpvOiJXx",
        "outputId": "d11cf35a-ddc1-4b80-d2b4-d22116b23db6",
        "colab": {
          "base_uri": "https://localhost:8080/",
          "height": 336
        }
      },
      "source": [
        "plt.title('Month vs Passenger')\n",
        "plt.ylabel('Total Passengers')\n",
        "plt.grid(True)\n",
        "plt.autoscale(axis='x', tight=True)\n",
        "plt.plot(flight_data['passengers'][-12:])\n",
        "plt.plot(np.arange(144, 156, 1),predictions_tf)\n",
        "plt.legend(['actual', 'predicted'], loc='upper left')\n",
        "plt.show()"
      ],
      "execution_count": null,
      "outputs": [
        {
          "output_type": "display_data",
          "data": {
            "image/png": "[encoded data removed]",
            "text/plain": [
              "<Figure size 1080x360 with 1 Axes>"
            ]
          },
          "metadata": {
            "tags": [],
            "needs_background": "light"
          }
        }
      ]
    },
    {
      "cell_type": "markdown",
      "metadata": {
        "id": "myRuw2xWhkMR"
      },
      "source": [
        "## Appendix"
      ]
    },
    {
      "cell_type": "code",
      "metadata": {
        "id": "1zBb82HL7Bgd"
      },
      "source": [
        "class LSTM_TF(tf.keras.Model):\n",
        "    def __init__(self, input_size=1, hidden_layer_size=100, output_size=1):\n",
        "        super(LSTM_TF, self).__init__()\n",
        "        self.hidden_layer_size = hidden_layer_size\n",
        "        self.lstm = keras.layers.LSTM(hidden_layer_size, \n",
        "                                      input_shape=(12, input_size), \n",
        "                                      kernel_initializer = initializer_uniform,\n",
        "                                      recurrent_initializer = initializer_recurrent,\n",
        "                                      unit_forget_bias = False,\n",
        "                                      bias_initializer = initializer_zeros,\n",
        "                                      batch_size = 120,\n",
        "                                      stateful=True)\n",
        "        self.lstm.build((1,input_size))\n",
        "        self.dense = keras.layers.Dense(output_size, \n",
        "                                        kernel_initializer=initializer_uniform, \n",
        "                                        bias_initializer=initializer_zeros)\n",
        "\n",
        "    def call(self, inputs, training=False):\n",
        "        self.init_hidden()\n",
        "        sequence = tf.expand_dims(inputs,axis=0)\n",
        "        sequence = tf.expand_dims(sequence,axis=2)\n",
        "        lstm_out = self.lstm(sequence)\n",
        "        output = self.dense(lstm_out)\n",
        "        return output\n",
        "\n",
        "    def init_hidden(self):\n",
        "        h0 = np.zeros((1, self.hidden_layer_size))\n",
        "        c0 = np.zeros((1, self.hidden_layer_size))\n",
        "        self.lstm.reset_states(states=[h0,c0])"
      ],
      "execution_count": null,
      "outputs": []
    },
    {
      "cell_type": "code",
      "metadata": {
        "id": "9gJSYBxX-KSz"
      },
      "source": [
        "model_tf = LSTM_TF()"
      ],
      "execution_count": null,
      "outputs": []
    }
  ]
}