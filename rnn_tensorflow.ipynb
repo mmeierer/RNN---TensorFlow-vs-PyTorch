{
  "nbformat": 4,
  "nbformat_minor": 0,
  "metadata": {
    "colab": {
      "name": "rnn_tensorflow.ipynb",
      "provenance": [],
      "collapsed_sections": [],
      "machine_shape": "hm",
      "include_colab_link": true
    },
    "kernelspec": {
      "name": "python3",
      "display_name": "Python 3"
    },
    "accelerator": "TPU"
  },
  "cells": [
    {
      "cell_type": "markdown",
      "metadata": {
        "id": "view-in-github",
        "colab_type": "text"
      },
      "source": [
        "<a href=\"https://colab.research.google.com/github/mmeierer/RNN---TensorFlow-vs-PyTorch/blob/main/rnn_tensorflow.ipynb\" target=\"_parent\"><img src=\"https://colab.research.google.com/assets/colab-badge.svg\" alt=\"Open In Colab\"/></a>"
      ]
    },
    {
      "cell_type": "markdown",
      "metadata": {
        "id": "MJ31gTXJ9FAo"
      },
      "source": [
        "# Time series prediction using an RNN with TensorFlow"
      ]
    },
    {
      "cell_type": "markdown",
      "metadata": {
        "id": "em3qmb5J9NBY"
      },
      "source": [
        "## 1. Import & Preprocessing"
      ]
    },
    {
      "cell_type": "markdown",
      "metadata": {
        "id": "RcLVulXD9Sq0"
      },
      "source": [
        "### a) Importing modules"
      ]
    },
    {
      "cell_type": "code",
      "metadata": {
        "id": "GgwSrLIa_FW0"
      },
      "source": [
        "# Load required packages - data handling & plotting\n",
        "import pandas as pd\n",
        "import tensorflow as tf\n",
        "import numpy as np\n",
        "import matplotlib.pyplot as plt\n",
        "import seaborn as sns\n",
        "from sklearn.preprocessing import MinMaxScaler\n",
        "\n",
        "# Load required packages - deep learning \n",
        "from tensorflow import keras"
      ],
      "execution_count": 1,
      "outputs": []
    },
    {
      "cell_type": "markdown",
      "metadata": {
        "id": "xf27__wO9b1g"
      },
      "source": [
        "### b) Importing data"
      ]
    },
    {
      "cell_type": "code",
      "metadata": {
        "id": "U2N6tCAU-0kf",
        "colab": {
          "base_uri": "https://localhost:8080/",
          "height": 195
        },
        "outputId": "290ce29d-99ee-4283-9f59-f3e9ee02b198"
      },
      "source": [
        "flight_data = sns.load_dataset(\"flights\")\n",
        "flight_data.head()"
      ],
      "execution_count": 2,
      "outputs": [
        {
          "output_type": "execute_result",
          "data": {
            "text/html": [
              "<div>\n",
              "<style scoped>\n",
              "    .dataframe tbody tr th:only-of-type {\n",
              "        vertical-align: middle;\n",
              "    }\n",
              "\n",
              "    .dataframe tbody tr th {\n",
              "        vertical-align: top;\n",
              "    }\n",
              "\n",
              "    .dataframe thead th {\n",
              "        text-align: right;\n",
              "    }\n",
              "</style>\n",
              "<table border=\"1\" class=\"dataframe\">\n",
              "  <thead>\n",
              "    <tr style=\"text-align: right;\">\n",
              "      <th></th>\n",
              "      <th>year</th>\n",
              "      <th>month</th>\n",
              "      <th>passengers</th>\n",
              "    </tr>\n",
              "  </thead>\n",
              "  <tbody>\n",
              "    <tr>\n",
              "      <th>0</th>\n",
              "      <td>1949</td>\n",
              "      <td>Jan</td>\n",
              "      <td>112</td>\n",
              "    </tr>\n",
              "    <tr>\n",
              "      <th>1</th>\n",
              "      <td>1949</td>\n",
              "      <td>Feb</td>\n",
              "      <td>118</td>\n",
              "    </tr>\n",
              "    <tr>\n",
              "      <th>2</th>\n",
              "      <td>1949</td>\n",
              "      <td>Mar</td>\n",
              "      <td>132</td>\n",
              "    </tr>\n",
              "    <tr>\n",
              "      <th>3</th>\n",
              "      <td>1949</td>\n",
              "      <td>Apr</td>\n",
              "      <td>129</td>\n",
              "    </tr>\n",
              "    <tr>\n",
              "      <th>4</th>\n",
              "      <td>1949</td>\n",
              "      <td>May</td>\n",
              "      <td>121</td>\n",
              "    </tr>\n",
              "  </tbody>\n",
              "</table>\n",
              "</div>"
            ],
            "text/plain": [
              "   year month  passengers\n",
              "0  1949   Jan         112\n",
              "1  1949   Feb         118\n",
              "2  1949   Mar         132\n",
              "3  1949   Apr         129\n",
              "4  1949   May         121"
            ]
          },
          "metadata": {
            "tags": []
          },
          "execution_count": 2
        }
      ]
    },
    {
      "cell_type": "code",
      "metadata": {
        "id": "JjftvVzf8XH8",
        "colab": {
          "base_uri": "https://localhost:8080/"
        },
        "outputId": "bcccda65-4457-4d67-f5d2-524418e216ce"
      },
      "source": [
        "flight_data.shape"
      ],
      "execution_count": 3,
      "outputs": [
        {
          "output_type": "execute_result",
          "data": {
            "text/plain": [
              "(144, 3)"
            ]
          },
          "metadata": {
            "tags": []
          },
          "execution_count": 3
        }
      ]
    },
    {
      "cell_type": "code",
      "metadata": {
        "id": "Gnde1SASbl6B",
        "colab": {
          "base_uri": "https://localhost:8080/",
          "height": 367
        },
        "outputId": "f86bcfb3-db40-48f0-ae0d-9a4d79b909f3"
      },
      "source": [
        "fig_size = plt.rcParams[\"figure.figsize\"]\n",
        "fig_size[0] = 15\n",
        "fig_size[1] = 5\n",
        "plt.rcParams[\"figure.figsize\"] = fig_size\n",
        "plt.title('Month vs Passenger')\n",
        "plt.ylabel('Total Passengers')\n",
        "plt.xlabel('Months')\n",
        "plt.grid(True)\n",
        "plt.autoscale(axis='x',tight=True)\n",
        "plt.plot(flight_data['passengers'])"
      ],
      "execution_count": 4,
      "outputs": [
        {
          "output_type": "execute_result",
          "data": {
            "text/plain": [
              "[<matplotlib.lines.Line2D at 0x7f786d853050>]"
            ]
          },
          "metadata": {
            "tags": []
          },
          "execution_count": 4
        },
        {
          "output_type": "display_data",
          "data": {
            "image/png": "[encoded data removed]",
            "text/plain": [
              "<Figure size 1080x360 with 1 Axes>"
            ]
          },
          "metadata": {
            "tags": [],
            "needs_background": "light"
          }
        }
      ]
    },
    {
      "cell_type": "code",
      "metadata": {
        "id": "O1TivezRLP_M",
        "colab": {
          "base_uri": "https://localhost:8080/"
        },
        "outputId": "6e908e6e-2363-4367-d067-1e0369ffc3b9"
      },
      "source": [
        "flight_data['passengers'][11]"
      ],
      "execution_count": 5,
      "outputs": [
        {
          "output_type": "execute_result",
          "data": {
            "text/plain": [
              "118"
            ]
          },
          "metadata": {
            "tags": []
          },
          "execution_count": 5
        }
      ]
    },
    {
      "cell_type": "code",
      "metadata": {
        "id": "0hPNzCuAKpuq",
        "colab": {
          "base_uri": "https://localhost:8080/",
          "height": 350
        },
        "outputId": "6ff9d308-8fd0-4572-b5d1-d39f62bc1d7d"
      },
      "source": [
        "fig_size = plt.rcParams[\"figure.figsize\"]\n",
        "fig_size[0] = 15\n",
        "fig_size[1] = 5\n",
        "plt.rcParams[\"figure.figsize\"] = fig_size\n",
        "plt.title('Month vs Passenger')\n",
        "plt.ylabel('Total Passengers')\n",
        "plt.xlabel('Months')\n",
        "plt.grid(True)\n",
        "plt.plot(flight_data['passengers'][:13],linestyle=\"\",marker=\"o\", color='green')\n",
        "plt.plot(np.arange(0, 12, 1), flight_data['passengers'][:12],linestyle=\"\",marker=\"o\", color='blue')\n",
        "plt.autoscale(axis='x',tight=False)\n",
        "plt.legend(['y_train', 'x_train'], loc='upper left')\n",
        "plt.show()"
      ],
      "execution_count": 6,
      "outputs": [
        {
          "output_type": "display_data",
          "data": {
            "image/png": "[encoded data removed]",
            "text/plain": [
              "<Figure size 1080x360 with 1 Axes>"
            ]
          },
          "metadata": {
            "tags": [],
            "needs_background": "light"
          }
        }
      ]
    },
    {
      "cell_type": "code",
      "metadata": {
        "id": "WNOw0igJOJfR",
        "colab": {
          "base_uri": "https://localhost:8080/",
          "height": 350
        },
        "outputId": "bca4b819-5d7d-4045-c1ff-b7a5008f369d"
      },
      "source": [
        "fig_size = plt.rcParams[\"figure.figsize\"]\n",
        "fig_size[0] = 15\n",
        "fig_size[1] = 5\n",
        "plt.rcParams[\"figure.figsize\"] = fig_size\n",
        "plt.title('Month vs Passenger')\n",
        "plt.ylabel('Total Passengers')\n",
        "plt.xlabel('Months')\n",
        "plt.grid(True)\n",
        "plt.plot(flight_data['passengers'][1:14],linestyle=\"\",marker=\"o\", color='green')\n",
        "plt.plot(np.arange(1, 13, 1), flight_data['passengers'][1:13],linestyle=\"\",marker=\"o\", color='blue')\n",
        "plt.autoscale(axis='x',tight=False)\n",
        "plt.legend(['y_train', 'x_train'], loc='upper left')\n",
        "plt.show()"
      ],
      "execution_count": 7,
      "outputs": [
        {
          "output_type": "display_data",
          "data": {
            "image/png": "[encoded data removed]",
            "text/plain": [
              "<Figure size 1080x360 with 1 Axes>"
            ]
          },
          "metadata": {
            "tags": [],
            "needs_background": "light"
          }
        }
      ]
    },
    {
      "cell_type": "code",
      "metadata": {
        "id": "Izo_r1t7OZiW",
        "colab": {
          "base_uri": "https://localhost:8080/",
          "height": 350
        },
        "outputId": "08a90cfa-8fc5-48ec-ec86-4619030881fd"
      },
      "source": [
        "fig_size = plt.rcParams[\"figure.figsize\"]\n",
        "fig_size[0] = 15\n",
        "fig_size[1] = 5\n",
        "plt.rcParams[\"figure.figsize\"] = fig_size\n",
        "plt.title('Month vs Passenger')\n",
        "plt.ylabel('Total Passengers')\n",
        "plt.xlabel('Months')\n",
        "plt.grid(True)\n",
        "plt.plot(flight_data['passengers'][2:15],linestyle=\"\",marker=\"o\", color='green')\n",
        "plt.plot(np.arange(2, 14, 1), flight_data['passengers'][2:14],linestyle=\"\",marker=\"o\", color='blue')\n",
        "plt.autoscale(axis='x',tight=False)\n",
        "plt.legend(['y_train', 'x_train'], loc='upper left')\n",
        "plt.show()"
      ],
      "execution_count": 8,
      "outputs": [
        {
          "output_type": "display_data",
          "data": {
            "image/png": "[encoded data removed]",
            "text/plain": [
              "<Figure size 1080x360 with 1 Axes>"
            ]
          },
          "metadata": {
            "tags": [],
            "needs_background": "light"
          }
        }
      ]
    },
    {
      "cell_type": "code",
      "metadata": {
        "id": "RR37OzOYb1fH"
      },
      "source": [
        "data = flight_data['passengers']"
      ],
      "execution_count": 9,
      "outputs": []
    },
    {
      "cell_type": "code",
      "metadata": {
        "id": "k_3cTogub8Xf"
      },
      "source": [
        "test_size = 12\n",
        "\n",
        "x_train = data[:-test_size].values.astype(np.float32)\n",
        "x_test = data[-test_size:].values.astype(np.float32)"
      ],
      "execution_count": 10,
      "outputs": []
    },
    {
      "cell_type": "code",
      "metadata": {
        "id": "qyJuoFW0dNt1",
        "colab": {
          "base_uri": "https://localhost:8080/"
        },
        "outputId": "8349d3ad-068a-4236-9fe9-eabbf874dae2"
      },
      "source": [
        "x_train.shape"
      ],
      "execution_count": 11,
      "outputs": [
        {
          "output_type": "execute_result",
          "data": {
            "text/plain": [
              "(132,)"
            ]
          },
          "metadata": {
            "tags": []
          },
          "execution_count": 11
        }
      ]
    },
    {
      "cell_type": "code",
      "metadata": {
        "id": "XTb-oZx4dPc2",
        "colab": {
          "base_uri": "https://localhost:8080/"
        },
        "outputId": "f044aaa4-62d4-409e-c2b6-f0a2094ef181"
      },
      "source": [
        "x_test.shape"
      ],
      "execution_count": 12,
      "outputs": [
        {
          "output_type": "execute_result",
          "data": {
            "text/plain": [
              "(12,)"
            ]
          },
          "metadata": {
            "tags": []
          },
          "execution_count": 12
        }
      ]
    },
    {
      "cell_type": "markdown",
      "metadata": {
        "id": "NU4YV9PX9j-n"
      },
      "source": [
        "### c) Data preparation"
      ]
    },
    {
      "cell_type": "code",
      "metadata": {
        "id": "KM48DMDz_fpc"
      },
      "source": [
        "scaler = MinMaxScaler(feature_range=(-1, 1))\n",
        "x_train = scaler.fit_transform(x_train.reshape(-1, 1))"
      ],
      "execution_count": 13,
      "outputs": []
    },
    {
      "cell_type": "code",
      "metadata": {
        "id": "I9mUZBxHc6Ii",
        "colab": {
          "base_uri": "https://localhost:8080/"
        },
        "outputId": "64ee913e-1aa7-415b-bff0-8fd3a829ca8d"
      },
      "source": [
        "x_train.shape"
      ],
      "execution_count": 14,
      "outputs": [
        {
          "output_type": "execute_result",
          "data": {
            "text/plain": [
              "(132, 1)"
            ]
          },
          "metadata": {
            "tags": []
          },
          "execution_count": 14
        }
      ]
    },
    {
      "cell_type": "markdown",
      "metadata": {
        "id": "cpyhiurU-NCF"
      },
      "source": [
        "## 2. Model specific data preparation"
      ]
    },
    {
      "cell_type": "markdown",
      "metadata": {
        "id": "Y4EsssDG-Thm"
      },
      "source": [
        "### a) Load the data"
      ]
    },
    {
      "cell_type": "code",
      "metadata": {
        "id": "4zqyZltIdyoI"
      },
      "source": [
        "x_train_tf = tf.squeeze(tf.convert_to_tensor(x_train))"
      ],
      "execution_count": 15,
      "outputs": []
    },
    {
      "cell_type": "code",
      "metadata": {
        "id": "-oKs-vFaIcWh",
        "colab": {
          "base_uri": "https://localhost:8080/"
        },
        "outputId": "ee844389-0e2d-4029-a4c2-558ff6a1cdbb"
      },
      "source": [
        "x_train_tf.shape"
      ],
      "execution_count": 16,
      "outputs": [
        {
          "output_type": "execute_result",
          "data": {
            "text/plain": [
              "TensorShape([132])"
            ]
          },
          "metadata": {
            "tags": []
          },
          "execution_count": 16
        }
      ]
    },
    {
      "cell_type": "code",
      "metadata": {
        "id": "3MuUTDY1dsU0"
      },
      "source": [
        "def create_sequences(input_data, window=12):\n",
        "    seq = []\n",
        "    L = len(input_data)\n",
        "    for i in range(L-window):\n",
        "        train_seq = input_data[i:i+window]\n",
        "        train_label = input_data[i+window:i+window+1]\n",
        "        seq.append((train_seq, train_label))\n",
        "    return seq"
      ],
      "execution_count": 17,
      "outputs": []
    },
    {
      "cell_type": "code",
      "metadata": {
        "id": "6NihxXiPdr47"
      },
      "source": [
        "train_seq_tf = create_sequences(x_train_tf)"
      ],
      "execution_count": 18,
      "outputs": []
    },
    {
      "cell_type": "code",
      "metadata": {
        "id": "4HSaty5bKNGi",
        "colab": {
          "base_uri": "https://localhost:8080/"
        },
        "outputId": "8c7d3984-ea6a-4b82-a334-e2d2f80ca942"
      },
      "source": [
        "len(train_seq_tf)"
      ],
      "execution_count": 19,
      "outputs": [
        {
          "output_type": "execute_result",
          "data": {
            "text/plain": [
              "120"
            ]
          },
          "metadata": {
            "tags": []
          },
          "execution_count": 19
        }
      ]
    },
    {
      "cell_type": "markdown",
      "metadata": {
        "id": "F8owQyL7-dqH"
      },
      "source": [
        "### b) Tensor view of the data"
      ]
    },
    {
      "cell_type": "code",
      "metadata": {
        "id": "TdAooKHJdYT1",
        "colab": {
          "base_uri": "https://localhost:8080/"
        },
        "outputId": "71d42099-40d7-43eb-8717-e8b3369a8138"
      },
      "source": [
        "train_seq_tf[0]"
      ],
      "execution_count": 20,
      "outputs": [
        {
          "output_type": "execute_result",
          "data": {
            "text/plain": [
              "(<tf.Tensor: shape=(12,), dtype=float32, numpy=\n",
              " array([-0.9648351 , -0.9384615 , -0.876923  , -0.89010984, -0.92527467,\n",
              "        -0.8637362 , -0.80659336, -0.80659336, -0.8593406 , -0.9340659 ,\n",
              "        -0.99999994, -0.9384615 ], dtype=float32)>,\n",
              " <tf.Tensor: shape=(1,), dtype=float32, numpy=array([-0.9516483], dtype=float32)>)"
            ]
          },
          "metadata": {
            "tags": []
          },
          "execution_count": 20
        }
      ]
    },
    {
      "cell_type": "markdown",
      "metadata": {
        "id": "m9YOzlYG-ck5"
      },
      "source": [
        "## 3. Model definition"
      ]
    },
    {
      "cell_type": "markdown",
      "metadata": {
        "id": "ytn83jHz-nP8"
      },
      "source": [
        "### a) Build the model"
      ]
    },
    {
      "cell_type": "code",
      "metadata": {
        "id": "3_sfQE_NwnxE"
      },
      "source": [
        "initializer_uniform = tf.random_uniform_initializer(\n",
        "    minval=-1, maxval=1, seed=123)\n",
        "initializer_recurrent = tf.initializers.Orthogonal(seed=123)\n",
        "initializer_zeros = tf.zeros_initializer()"
      ],
      "execution_count": 21,
      "outputs": []
    },
    {
      "cell_type": "code",
      "metadata": {
        "id": "LUO0Dj2AaCeB"
      },
      "source": [
        "model_tf = keras.Sequential([\n",
        "    keras.layers.LSTM(100, input_shape=(12,1), kernel_initializer = initializer_uniform, recurrent_initializer = initializer_recurrent),\n",
        "    keras.layers.Dense(1, kernel_initializer = initializer_uniform)\n",
        "])"
      ],
      "execution_count": 22,
      "outputs": []
    },
    {
      "cell_type": "markdown",
      "metadata": {
        "id": "RBSeEscN-tXC"
      },
      "source": [
        "### b) Inspect the model"
      ]
    },
    {
      "cell_type": "code",
      "metadata": {
        "id": "zgbkZD8NE6Hi",
        "colab": {
          "base_uri": "https://localhost:8080/"
        },
        "outputId": "997e8f05-da71-4261-f80c-c5f60df37fd9"
      },
      "source": [
        "model_tf.summary()"
      ],
      "execution_count": 23,
      "outputs": [
        {
          "output_type": "stream",
          "text": [
            "Model: \"sequential\"\n",
            "_________________________________________________________________\n",
            "Layer (type)                 Output Shape              Param #   \n",
            "=================================================================\n",
            "lstm (LSTM)                  (None, 100)               40800     \n",
            "_________________________________________________________________\n",
            "dense (Dense)                (None, 1)                 101       \n",
            "=================================================================\n",
            "Total params: 40,901\n",
            "Trainable params: 40,901\n",
            "Non-trainable params: 0\n",
            "_________________________________________________________________\n"
          ],
          "name": "stdout"
        }
      ]
    },
    {
      "cell_type": "markdown",
      "metadata": {
        "id": "KnHCVUvw-0XR"
      },
      "source": [
        "### c) Inspect the first LSTM layer"
      ]
    },
    {
      "cell_type": "code",
      "metadata": {
        "id": "BllmY_pjgmtT",
        "colab": {
          "base_uri": "https://localhost:8080/"
        },
        "outputId": "40a56ed7-7070-446c-ced5-f4cee304b8c1"
      },
      "source": [
        "hidden1_tf_ante = model_tf.layers[0]\n",
        "weights_tf_ante = hidden1_tf_ante.get_weights()\n",
        "weights_tf_ante[0]"
      ],
      "execution_count": 24,
      "outputs": [
        {
          "output_type": "execute_result",
          "data": {
            "text/plain": [
              "array([[-0.04798412, -0.22223973, -0.9824271 , -0.57410717, -0.79084826,\n",
              "        -0.6723347 , -0.54534245, -0.14903617,  0.22151732, -0.04990911,\n",
              "         0.76847243,  0.8567488 , -0.19580126,  0.6683371 , -0.29299927,\n",
              "        -0.13567281,  0.43682718, -0.5372863 , -0.8050833 ,  0.33245063,\n",
              "         0.08226037,  0.9955554 ,  0.42286134,  0.5824466 , -0.88201547,\n",
              "         0.79022574, -0.96988153,  0.8838699 ,  0.7405057 , -0.26739526,\n",
              "         0.541693  , -0.33356333, -0.5114386 ,  0.28969407, -0.5687852 ,\n",
              "        -0.9064033 ,  0.55588317,  0.12526917,  0.76767826,  0.9882431 ,\n",
              "         0.82163215, -0.83939624, -0.1760552 , -0.8733709 ,  0.54416513,\n",
              "         0.3740089 ,  0.67598724,  0.7747915 , -0.22487664, -0.7704594 ,\n",
              "         0.11647105,  0.735404  , -0.8178191 ,  0.80086374, -0.596689  ,\n",
              "         0.43223333,  0.6735773 ,  0.28332973, -0.15904045,  0.38079   ,\n",
              "        -0.8442614 ,  0.4907596 , -0.25315404,  0.02004218, -0.3033669 ,\n",
              "        -0.2716992 , -0.11689925, -0.78340054, -0.38971877, -0.28903008,\n",
              "         0.13753343, -0.8143873 ,  0.41998172, -0.76725507,  0.9006376 ,\n",
              "        -0.91095424,  0.19254088, -0.6503575 , -0.05974078,  0.33939457,\n",
              "        -0.3534739 ,  0.12724805,  0.5572715 ,  0.16791153, -0.6385431 ,\n",
              "        -0.9574406 , -0.13847852,  0.60011697,  0.5097358 ,  0.58277726,\n",
              "         0.5294292 , -0.8702028 , -0.88035893, -0.63230276,  0.95527935,\n",
              "         0.26690578,  0.93037176, -0.26023674,  0.3456719 , -0.38668704,\n",
              "         0.37511373, -0.29554033,  0.25711703, -0.38650727, -0.7687187 ,\n",
              "         0.9087589 ,  0.5601375 ,  0.4242592 , -0.5413673 , -0.64115024,\n",
              "         0.92204094, -0.04637551,  0.72504187, -0.80490804,  0.9942317 ,\n",
              "         0.84672785, -0.7842784 ,  0.9236076 , -0.39961457, -0.6292722 ,\n",
              "        -0.45593977, -0.49155807,  0.21261764,  0.13499904,  0.04795647,\n",
              "        -0.6393349 , -0.9961307 , -0.96749735, -0.25060296, -0.8661399 ,\n",
              "        -0.9763031 , -0.97775984,  0.28009677,  0.61656356,  0.621716  ,\n",
              "        -0.68856955, -0.4031117 , -0.8308284 , -0.9538927 , -0.5025921 ,\n",
              "        -0.12458754,  0.16431499,  0.4293003 ,  0.3800485 , -0.19825435,\n",
              "        -0.7700057 ,  0.6491394 , -0.9415183 ,  0.73187757,  0.36494708,\n",
              "         0.82268834,  0.15233135,  0.19771671,  0.51979494,  0.69456315,\n",
              "         0.7205136 ,  0.63545465, -0.43895411, -0.16373229,  0.34944272,\n",
              "        -0.32845974,  0.2613356 , -0.9506359 ,  0.2923348 ,  0.54094744,\n",
              "        -0.6349938 ,  0.5638211 ,  0.21998572, -0.8500328 , -0.15811563,\n",
              "        -0.9943907 , -0.8927357 ,  0.21917939, -0.37793088, -0.32824183,\n",
              "        -0.23025656, -0.83952165,  0.22316265, -0.44818592, -0.5018754 ,\n",
              "        -0.80917597, -0.2472353 , -0.04040885,  0.1530323 ,  0.79140306,\n",
              "        -0.25499344,  0.2955513 ,  0.07260013,  0.84477496,  0.735976  ,\n",
              "        -0.16662621,  0.4977386 , -0.581537  , -0.5264697 , -0.85395265,\n",
              "         0.6679549 ,  0.9073448 ,  0.12267923, -0.527544  ,  0.89132   ,\n",
              "         0.4933505 , -0.01598382, -0.1987803 , -0.6341653 ,  0.975595  ,\n",
              "        -0.72338986, -0.1831286 ,  0.22383595, -0.86544895, -0.7710192 ,\n",
              "         0.8606591 ,  0.9355929 ,  0.9957912 ,  0.10125804,  0.38171387,\n",
              "         0.36393738, -0.7081039 ,  0.02453613, -0.8316755 , -0.9332514 ,\n",
              "         0.5894222 ,  0.2933371 ,  0.42079425,  0.4492371 , -0.22576046,\n",
              "         0.4531095 ,  0.77690005, -0.47652936,  0.7686219 ,  0.8350916 ,\n",
              "         0.85827255, -0.24774027,  0.29766917,  0.7645676 , -0.38567495,\n",
              "         0.00194645, -0.9255028 ,  0.50857544, -0.32315087,  0.95503664,\n",
              "        -0.17986083, -0.78692436, -0.63165975, -0.07417727,  0.22067094,\n",
              "        -0.7463033 ,  0.9559548 ,  0.28668618,  0.31622624,  0.12761354,\n",
              "         0.92246723, -0.49036527,  0.62668276, -0.4677949 ,  0.4300716 ,\n",
              "         0.16673398, -0.48949647,  0.78082275, -0.71448135,  0.11253786,\n",
              "        -0.52395105, -0.22036815,  0.9346752 ,  0.46899772, -0.31971502,\n",
              "        -0.01147032,  0.11867261,  0.23773193,  0.6419871 , -0.45270395,\n",
              "        -0.0024097 ,  0.4130733 ,  0.72550297,  0.60874605,  0.40410662,\n",
              "         0.3879087 , -0.6725099 , -0.71648765, -0.6198964 , -0.451612  ,\n",
              "         0.9665921 , -0.33854127,  0.82529783,  0.5843878 ,  0.2086668 ,\n",
              "         0.94731736,  0.21922064, -0.59415936,  0.7786069 , -0.32407522,\n",
              "         0.60619354, -0.6408813 , -0.9482248 , -0.5122831 , -0.28163767,\n",
              "        -0.3139391 , -0.12469363,  0.59139276, -0.4060645 , -0.78884435,\n",
              "        -0.12632132, -0.39455962,  0.2412138 , -0.39446735, -0.20599699,\n",
              "         0.06034923,  0.5158639 , -0.49220634,  0.8918476 , -0.24317837,\n",
              "         0.62886095,  0.91857576,  0.81807566, -0.57933974, -0.89210844,\n",
              "        -0.52163005,  0.38111448,  0.41964746,  0.34892607,  0.4314723 ,\n",
              "         0.56254363, -0.9124284 , -0.62357116, -0.9683149 ,  0.08693671,\n",
              "         0.75879884, -0.4706869 ,  0.8245325 , -0.49697137,  0.9069023 ,\n",
              "         0.0682497 , -0.0403862 , -0.816792  ,  0.68473196, -0.79970837,\n",
              "        -0.43275785,  0.25020623,  0.75883937,  0.6826365 ,  0.10825586,\n",
              "        -0.6973171 ,  0.01837707, -0.46703553,  0.33252215,  0.8796027 ,\n",
              "        -0.81156206,  0.35581374, -0.45818496, -0.87931204, -0.48912168,\n",
              "        -0.66811466,  0.30446076, -0.01708317, -0.3660922 , -0.6274152 ,\n",
              "         0.6738951 ,  0.07747722,  0.3094585 , -0.07647085, -0.5011561 ,\n",
              "        -0.8323009 , -0.16830444,  0.19540668, -0.3368225 ,  0.15889311,\n",
              "        -0.5959952 , -0.06514502, -0.23089576,  0.31415653,  0.23827243,\n",
              "        -0.7301457 , -0.40255332,  0.84859776, -0.7790003 ,  0.12940717,\n",
              "        -0.19970989,  0.5349705 ,  0.2943642 ,  0.7454958 ,  0.8965504 ,\n",
              "        -0.5334878 ,  0.9421108 ,  0.7759757 ,  0.5746484 ,  0.98933816,\n",
              "        -0.84709215,  0.99974203, -0.719671  , -0.83803105,  0.7435386 ,\n",
              "        -0.9374471 ,  0.17463923,  0.7894285 ,  0.08307266,  0.25876236,\n",
              "         0.33474016, -0.94833493,  0.37306523,  0.25063515, -0.23376608]],\n",
              "      dtype=float32)"
            ]
          },
          "metadata": {
            "tags": []
          },
          "execution_count": 24
        }
      ]
    },
    {
      "cell_type": "code",
      "metadata": {
        "id": "oqjbQOjymIhS",
        "colab": {
          "base_uri": "https://localhost:8080/"
        },
        "outputId": "a4b424d1-0a7e-4791-bca9-b465bc9ce702"
      },
      "source": [
        "weights_tf_ante[0].shape"
      ],
      "execution_count": 25,
      "outputs": [
        {
          "output_type": "execute_result",
          "data": {
            "text/plain": [
              "(1, 400)"
            ]
          },
          "metadata": {
            "tags": []
          },
          "execution_count": 25
        }
      ]
    },
    {
      "cell_type": "code",
      "metadata": {
        "id": "U2waeNN7a9kc",
        "colab": {
          "base_uri": "https://localhost:8080/"
        },
        "outputId": "6d5a9ac3-3be5-4d55-c06a-b38b203ec967"
      },
      "source": [
        "hidden1_tf_ante = model_tf.layers[0]\n",
        "weights_tf_ante = hidden1_tf_ante.get_weights()\n",
        "weights_tf_ante[2]"
      ],
      "execution_count": 26,
      "outputs": [
        {
          "output_type": "execute_result",
          "data": {
            "text/plain": [
              "array([0., 0., 0., 0., 0., 0., 0., 0., 0., 0., 0., 0., 0., 0., 0., 0., 0.,\n",
              "       0., 0., 0., 0., 0., 0., 0., 0., 0., 0., 0., 0., 0., 0., 0., 0., 0.,\n",
              "       0., 0., 0., 0., 0., 0., 0., 0., 0., 0., 0., 0., 0., 0., 0., 0., 0.,\n",
              "       0., 0., 0., 0., 0., 0., 0., 0., 0., 0., 0., 0., 0., 0., 0., 0., 0.,\n",
              "       0., 0., 0., 0., 0., 0., 0., 0., 0., 0., 0., 0., 0., 0., 0., 0., 0.,\n",
              "       0., 0., 0., 0., 0., 0., 0., 0., 0., 0., 0., 0., 0., 0., 0., 1., 1.,\n",
              "       1., 1., 1., 1., 1., 1., 1., 1., 1., 1., 1., 1., 1., 1., 1., 1., 1.,\n",
              "       1., 1., 1., 1., 1., 1., 1., 1., 1., 1., 1., 1., 1., 1., 1., 1., 1.,\n",
              "       1., 1., 1., 1., 1., 1., 1., 1., 1., 1., 1., 1., 1., 1., 1., 1., 1.,\n",
              "       1., 1., 1., 1., 1., 1., 1., 1., 1., 1., 1., 1., 1., 1., 1., 1., 1.,\n",
              "       1., 1., 1., 1., 1., 1., 1., 1., 1., 1., 1., 1., 1., 1., 1., 1., 1.,\n",
              "       1., 1., 1., 1., 1., 1., 1., 1., 1., 1., 1., 1., 1., 0., 0., 0., 0.,\n",
              "       0., 0., 0., 0., 0., 0., 0., 0., 0., 0., 0., 0., 0., 0., 0., 0., 0.,\n",
              "       0., 0., 0., 0., 0., 0., 0., 0., 0., 0., 0., 0., 0., 0., 0., 0., 0.,\n",
              "       0., 0., 0., 0., 0., 0., 0., 0., 0., 0., 0., 0., 0., 0., 0., 0., 0.,\n",
              "       0., 0., 0., 0., 0., 0., 0., 0., 0., 0., 0., 0., 0., 0., 0., 0., 0.,\n",
              "       0., 0., 0., 0., 0., 0., 0., 0., 0., 0., 0., 0., 0., 0., 0., 0., 0.,\n",
              "       0., 0., 0., 0., 0., 0., 0., 0., 0., 0., 0., 0., 0., 0., 0., 0., 0.,\n",
              "       0., 0., 0., 0., 0., 0., 0., 0., 0., 0., 0., 0., 0., 0., 0., 0., 0.,\n",
              "       0., 0., 0., 0., 0., 0., 0., 0., 0., 0., 0., 0., 0., 0., 0., 0., 0.,\n",
              "       0., 0., 0., 0., 0., 0., 0., 0., 0., 0., 0., 0., 0., 0., 0., 0., 0.,\n",
              "       0., 0., 0., 0., 0., 0., 0., 0., 0., 0., 0., 0., 0., 0., 0., 0., 0.,\n",
              "       0., 0., 0., 0., 0., 0., 0., 0., 0., 0., 0., 0., 0., 0., 0., 0., 0.,\n",
              "       0., 0., 0., 0., 0., 0., 0., 0., 0.], dtype=float32)"
            ]
          },
          "metadata": {
            "tags": []
          },
          "execution_count": 26
        }
      ]
    },
    {
      "cell_type": "code",
      "metadata": {
        "id": "8Hnpyc554392",
        "colab": {
          "base_uri": "https://localhost:8080/"
        },
        "outputId": "774dabaf-ef48-4648-ae9f-91040ea3efdc"
      },
      "source": [
        "weights_tf_ante[2].shape"
      ],
      "execution_count": 27,
      "outputs": [
        {
          "output_type": "execute_result",
          "data": {
            "text/plain": [
              "(400,)"
            ]
          },
          "metadata": {
            "tags": []
          },
          "execution_count": 27
        }
      ]
    },
    {
      "cell_type": "markdown",
      "metadata": {
        "id": "Ow8SrWp5_GzL"
      },
      "source": [
        "## 4. Loss & Optimizer"
      ]
    },
    {
      "cell_type": "code",
      "metadata": {
        "id": "2XnclAKMDWwh"
      },
      "source": [
        "optimizer_tf = tf.keras.optimizers.Adam()\n",
        "loss_fn_tf = tf.keras.losses.MeanSquaredError()"
      ],
      "execution_count": 28,
      "outputs": []
    },
    {
      "cell_type": "markdown",
      "metadata": {
        "id": "EDHau6DW_MPn"
      },
      "source": [
        "## 5. Training"
      ]
    },
    {
      "cell_type": "markdown",
      "metadata": {
        "id": "j9zWBPNR_RfS"
      },
      "source": [
        "### a) Training loop"
      ]
    },
    {
      "cell_type": "code",
      "metadata": {
        "id": "xgZ0GBXg46RT"
      },
      "source": [
        "def train_step_tf(model, optimizer, loss_fn, sequence):\n",
        "  losses = []\n",
        "  for seq, label in sequence:\n",
        "    exp_sequence = tf.expand_dims(seq,axis=0)\n",
        "    exp_sequence = tf.expand_dims(exp_sequence,axis=2)\n",
        "\n",
        "    with tf.GradientTape() as tape:\n",
        "      y_pred_tf = model(exp_sequence, training=True)\n",
        "      loss = loss_fn(label, y_pred_tf)\n",
        "\n",
        "    grads = tape.gradient(loss, model.trainable_weights)\n",
        "    optimizer.apply_gradients(zip(grads, model.trainable_weights))\n",
        "    losses.append(loss)\n",
        "  return losses"
      ],
      "execution_count": 29,
      "outputs": []
    },
    {
      "cell_type": "code",
      "metadata": {
        "id": "OEe_aBKZNn5e",
        "colab": {
          "base_uri": "https://localhost:8080/"
        },
        "outputId": "1e2b5510-709c-4ac2-9c7f-b00081a77821"
      },
      "source": [
        "train_loss_tf = []\n",
        "\n",
        "epochs = 25\n",
        "for epoch in range(epochs):\n",
        "  loss = train_step_tf(model_tf, optimizer_tf, loss_fn_tf, train_seq_tf)\n",
        "  mean_loss_tf = float(tf.reduce_mean(loss))\n",
        "  train_loss_tf.append(mean_loss_tf)\n",
        "\n",
        "  template = (\"Epoch {}, Loss: {}\")\n",
        "  print(template.format(epoch+1, mean_loss_tf))"
      ],
      "execution_count": 30,
      "outputs": [
        {
          "output_type": "stream",
          "text": [
            "Epoch 1, Loss: 0.18082311749458313\n",
            "Epoch 2, Loss: 0.15266303718090057\n",
            "Epoch 3, Loss: 0.23133592307567596\n",
            "Epoch 4, Loss: 0.1412334144115448\n",
            "Epoch 5, Loss: 0.0696154460310936\n",
            "Epoch 6, Loss: 0.02725944295525551\n",
            "Epoch 7, Loss: 0.0573805570602417\n",
            "Epoch 8, Loss: 0.034781597554683685\n",
            "Epoch 9, Loss: 0.031799886375665665\n",
            "Epoch 10, Loss: 0.027966463938355446\n",
            "Epoch 11, Loss: 0.02516794577240944\n",
            "Epoch 12, Loss: 0.02294638566672802\n",
            "Epoch 13, Loss: 0.021120814606547356\n",
            "Epoch 14, Loss: 0.0196005180478096\n",
            "Epoch 15, Loss: 0.018361501395702362\n",
            "Epoch 16, Loss: 0.017418479546904564\n",
            "Epoch 17, Loss: 0.016806447878479958\n",
            "Epoch 18, Loss: 0.016565827652812004\n",
            "Epoch 19, Loss: 0.016729729250073433\n",
            "Epoch 20, Loss: 0.017333144322037697\n",
            "Epoch 21, Loss: 0.01835007220506668\n",
            "Epoch 22, Loss: 0.019862988963723183\n",
            "Epoch 23, Loss: 0.022545121610164642\n",
            "Epoch 24, Loss: 0.022833295166492462\n",
            "Epoch 25, Loss: 0.017010796815156937\n"
          ],
          "name": "stdout"
        }
      ]
    },
    {
      "cell_type": "markdown",
      "metadata": {
        "id": "Ps8QHc63_qfg"
      },
      "source": [
        "### b) Training progress"
      ]
    },
    {
      "cell_type": "code",
      "metadata": {
        "id": "OT_mQn9g7jjU",
        "colab": {
          "base_uri": "https://localhost:8080/",
          "height": 590
        },
        "outputId": "a655b082-dafe-4b08-9031-4a555f242549"
      },
      "source": [
        "plt.figure(figsize=(16,10))\n",
        "plt.plot(train_loss_tf)\n",
        "#plt.plot(test_loss_tf)\n",
        "plt.title('model loss')\n",
        "plt.ylabel('loss')\n",
        "plt.xlabel('epoch')\n",
        "plt.legend(['train'], loc='upper right')\n",
        "plt.show()"
      ],
      "execution_count": 31,
      "outputs": [
        {
          "output_type": "display_data",
          "data": {
            "image/png": "[encoded data removed]",
            "text/plain": [
              "<Figure size 1152x720 with 1 Axes>"
            ]
          },
          "metadata": {
            "tags": [],
            "needs_background": "light"
          }
        }
      ]
    },
    {
      "cell_type": "markdown",
      "metadata": {
        "id": "fauTTV80_34y"
      },
      "source": [
        "### c) Inspect the first hidden layer after training"
      ]
    },
    {
      "cell_type": "code",
      "metadata": {
        "id": "JFGiGkhnGi_M",
        "colab": {
          "base_uri": "https://localhost:8080/"
        },
        "outputId": "b9c243c4-3d26-4a4b-c5d2-6d4f3065c5a2"
      },
      "source": [
        "hidden1_tf_post = model_tf.layers[0]\n",
        "weights_tf_post = hidden1_tf_post.get_weights()\n",
        "weights_tf_post[0]"
      ],
      "execution_count": 32,
      "outputs": [
        {
          "output_type": "execute_result",
          "data": {
            "text/plain": [
              "array([[-3.62149216e-02, -2.24000007e-01, -9.71407533e-01,\n",
              "        -5.77909589e-01, -7.95556009e-01, -6.89025640e-01,\n",
              "        -5.53150535e-01, -1.39571488e-01,  1.86804131e-01,\n",
              "        -5.54171689e-02,  7.56214142e-01,  8.55497658e-01,\n",
              "        -2.31812716e-01,  6.77163601e-01, -2.92909265e-01,\n",
              "        -1.29289165e-01,  4.28950161e-01, -5.46539545e-01,\n",
              "        -8.39596272e-01,  3.20298076e-01,  7.86320642e-02,\n",
              "         9.99237835e-01,  4.28533465e-01,  5.70633888e-01,\n",
              "        -8.72915626e-01,  7.84282506e-01, -9.80421543e-01,\n",
              "         8.97935271e-01,  7.36939907e-01, -3.08568597e-01,\n",
              "         5.48274338e-01, -3.28370899e-01, -4.85846400e-01,\n",
              "         2.62382269e-01, -5.94688535e-01, -8.74810576e-01,\n",
              "         5.62036574e-01,  1.09350406e-01,  7.56521940e-01,\n",
              "         9.72754657e-01,  8.47789764e-01, -8.62629116e-01,\n",
              "        -1.77568838e-01, -8.71532619e-01,  5.46415746e-01,\n",
              "         3.98781836e-01,  6.56918764e-01,  7.71356761e-01,\n",
              "        -2.34844998e-01, -7.67889321e-01,  9.61010605e-02,\n",
              "         7.49630511e-01, -8.21047008e-01,  8.20090413e-01,\n",
              "        -5.86817682e-01,  4.18757826e-01,  6.90553188e-01,\n",
              "         2.97466487e-01, -1.40614867e-01,  3.75752807e-01,\n",
              "        -8.74594569e-01,  4.94563401e-01, -2.62417734e-01,\n",
              "         3.98665550e-04, -3.12696099e-01, -2.58484989e-01,\n",
              "        -1.23718664e-01, -7.72195399e-01, -4.13320273e-01,\n",
              "        -2.76329905e-01,  1.64128527e-01, -8.29281151e-01,\n",
              "         4.09637541e-01, -7.72957563e-01,  8.98901343e-01,\n",
              "        -9.14126217e-01,  1.59188628e-01, -6.57847822e-01,\n",
              "        -8.65178704e-02,  3.15766931e-01, -3.77054751e-01,\n",
              "         1.15276016e-01,  5.50148129e-01,  1.65792301e-01,\n",
              "        -6.48074389e-01, -9.56067979e-01, -1.55450791e-01,\n",
              "         6.28467083e-01,  5.09204686e-01,  5.75894177e-01,\n",
              "         5.22035182e-01, -8.72583091e-01, -9.22714353e-01,\n",
              "        -6.54013395e-01,  9.70729291e-01,  2.42455885e-01,\n",
              "         9.54626083e-01, -2.63100684e-01,  3.41127902e-01,\n",
              "        -3.98315340e-01,  3.97002310e-01, -2.91705638e-01,\n",
              "         2.76529431e-01, -3.82811010e-01, -7.78404951e-01,\n",
              "         9.19764698e-01,  5.63420951e-01,  4.54703927e-01,\n",
              "        -5.64004958e-01, -6.34375393e-01,  9.34959948e-01,\n",
              "        -5.45784570e-02,  7.35496163e-01, -8.20765436e-01,\n",
              "         1.01102316e+00,  8.79934788e-01, -7.82958567e-01,\n",
              "         9.41864431e-01, -4.05414909e-01, -6.34244144e-01,\n",
              "        -4.54979986e-01, -4.89569217e-01,  2.14955613e-01,\n",
              "         1.28039882e-01,  6.11699410e-02, -6.41794264e-01,\n",
              "        -1.00552487e+00, -9.60130632e-01, -2.55724549e-01,\n",
              "        -8.57639372e-01, -9.81513381e-01, -9.75174308e-01,\n",
              "         3.00974011e-01,  5.85436583e-01,  6.38846934e-01,\n",
              "        -6.63965821e-01, -3.99923414e-01, -8.48347664e-01,\n",
              "        -9.55658913e-01, -5.27171373e-01, -9.75232720e-02,\n",
              "         1.50789842e-01,  4.36428249e-01,  3.95903736e-01,\n",
              "        -2.13281676e-01, -7.43851721e-01,  6.51753485e-01,\n",
              "        -9.50049222e-01,  7.34093189e-01,  3.82372290e-01,\n",
              "         8.19987297e-01,  1.69359371e-01,  2.08458528e-01,\n",
              "         5.40346920e-01,  7.19153047e-01,  7.17353642e-01,\n",
              "         6.54810965e-01, -4.34771538e-01, -1.44592062e-01,\n",
              "         3.51199359e-01, -3.43548387e-01,  2.73205280e-01,\n",
              "        -9.57275808e-01,  3.26699257e-01,  5.41988909e-01,\n",
              "        -6.19038701e-01,  6.01523101e-01,  2.44352579e-01,\n",
              "        -8.59352887e-01, -1.44332409e-01, -9.69900250e-01,\n",
              "        -9.02833819e-01,  2.02547282e-01, -3.81815255e-01,\n",
              "        -3.29526305e-01, -2.27185503e-01, -7.99140871e-01,\n",
              "         2.28434578e-01, -4.70694572e-01, -5.04301250e-01,\n",
              "        -8.08454573e-01, -2.12026894e-01, -4.24014553e-02,\n",
              "         1.53738812e-01,  8.00107598e-01, -2.58806020e-01,\n",
              "         3.04218084e-01,  1.02679364e-01,  8.55415821e-01,\n",
              "         7.57710338e-01, -1.71100378e-01,  5.09534717e-01,\n",
              "        -6.03648365e-01, -5.47724247e-01, -8.44518483e-01,\n",
              "         6.89802229e-01,  9.32523549e-01,  1.71551675e-01,\n",
              "        -5.26981473e-01,  9.03205216e-01,  4.37624872e-01,\n",
              "        -1.16554918e-02, -1.96426094e-01, -6.08099759e-01,\n",
              "         9.73119974e-01, -6.85901523e-01, -1.81803912e-01,\n",
              "         1.73758388e-01, -7.89514184e-01, -7.12997019e-01,\n",
              "         7.98234522e-01,  9.06228423e-01,  9.11246419e-01,\n",
              "         1.12067789e-01,  3.25710803e-01,  3.16852063e-01,\n",
              "        -6.72989428e-01, -7.97277596e-03, -8.03713202e-01,\n",
              "        -9.04032648e-01,  5.37466347e-01,  2.82267511e-01,\n",
              "         4.06435579e-01,  4.26352650e-01, -2.22920820e-01,\n",
              "         4.31493521e-01,  7.83391953e-01, -4.58814085e-01,\n",
              "         7.39762962e-01,  7.96849310e-01,  8.02614689e-01,\n",
              "        -2.38809794e-01,  2.80240715e-01,  7.17846096e-01,\n",
              "        -4.00457174e-01, -1.42529234e-02, -9.16313708e-01,\n",
              "         4.73802358e-01, -3.05975944e-01,  9.50801253e-01,\n",
              "        -1.56615973e-01, -7.68095553e-01, -6.02692008e-01,\n",
              "        -8.09038877e-02,  2.16155678e-01, -7.26075113e-01,\n",
              "         8.97537827e-01,  2.81418383e-01,  2.89021552e-01,\n",
              "         1.31470248e-01,  8.92257631e-01, -4.76144135e-01,\n",
              "         6.11945629e-01, -4.54627961e-01,  4.08326268e-01,\n",
              "         1.56674117e-01, -4.65423852e-01,  7.03744411e-01,\n",
              "        -6.34563625e-01,  1.01726986e-01, -5.18814027e-01,\n",
              "        -1.99618071e-01,  9.06420410e-01,  4.52139050e-01,\n",
              "        -2.96388596e-01, -1.69616248e-02,  1.01648778e-01,\n",
              "         2.17766836e-01,  6.11789048e-01, -4.20551866e-01,\n",
              "         3.55343334e-03,  4.18706089e-01,  6.82150960e-01,\n",
              "         6.10523403e-01,  3.88012916e-01,  3.90713722e-01,\n",
              "        -6.19683623e-01, -6.99865997e-01, -5.67932427e-01,\n",
              "        -4.12615269e-01,  9.33095992e-01, -3.04509789e-01,\n",
              "         7.77670801e-01,  5.60553491e-01,  1.78768292e-01,\n",
              "         9.55531061e-01,  1.79790318e-01, -5.79424798e-01,\n",
              "         7.32066989e-01, -2.90180206e-01,  5.98464668e-01,\n",
              "        -6.31916881e-01, -9.23300922e-01, -4.91441071e-01,\n",
              "        -2.66284019e-01, -2.68341392e-01, -1.13547206e-01,\n",
              "         5.30053675e-01, -3.82168204e-01, -7.39074171e-01,\n",
              "        -1.26459613e-01, -4.00554448e-01,  2.74373084e-01,\n",
              "        -3.98019254e-01, -1.73067972e-01,  5.14366701e-02,\n",
              "         5.23278654e-01, -5.07336617e-01,  9.49793756e-01,\n",
              "        -2.21375585e-01,  6.19965851e-01,  9.33501244e-01,\n",
              "         8.37834835e-01, -5.71519732e-01, -9.15392041e-01,\n",
              "        -5.07657528e-01,  4.15263444e-01,  4.73149568e-01,\n",
              "         3.35843235e-01,  4.54619706e-01,  5.69710433e-01,\n",
              "        -9.13619101e-01, -6.02827609e-01, -9.80550706e-01,\n",
              "         1.19964600e-01,  7.52513945e-01, -4.37712401e-01,\n",
              "         8.57434332e-01, -5.02203584e-01,  1.00868380e+00,\n",
              "         6.35632947e-02, -3.67349535e-02, -8.10700119e-01,\n",
              "         6.78746998e-01, -7.61544168e-01, -3.97182584e-01,\n",
              "         2.72932708e-01,  7.82634079e-01,  6.88860714e-01,\n",
              "         9.91771445e-02, -6.74933136e-01,  6.49629580e-03,\n",
              "        -4.58101779e-01,  3.59560519e-01,  9.18688476e-01,\n",
              "        -7.80339658e-01,  3.45320225e-01, -4.58544374e-01,\n",
              "        -9.37865376e-01, -5.10585248e-01, -6.89255357e-01,\n",
              "         3.20132703e-01,  1.18178725e-02, -3.68380904e-01,\n",
              "        -6.36258364e-01,  6.63384080e-01,  8.55596289e-02,\n",
              "         3.12063515e-01, -5.74721396e-02, -5.10039747e-01,\n",
              "        -8.54269445e-01, -1.91014171e-01,  2.51661479e-01,\n",
              "        -3.52212489e-01,  1.51684806e-01, -5.78633428e-01,\n",
              "        -7.67710581e-02, -1.84856877e-01,  3.61559361e-01,\n",
              "         2.51390845e-01, -7.01463163e-01, -3.67509216e-01,\n",
              "         8.67072105e-01, -7.51927018e-01,  1.25108808e-01,\n",
              "        -1.62950858e-01,  5.22247374e-01,  3.17874730e-01,\n",
              "         7.40532994e-01,  8.77963305e-01, -4.82100368e-01,\n",
              "         9.99594271e-01,  7.68772840e-01,  5.98501384e-01,\n",
              "         1.00840294e+00, -8.16550195e-01,  9.97221470e-01,\n",
              "        -7.12933600e-01, -8.41790438e-01,  7.46449292e-01,\n",
              "        -9.38901246e-01,  1.79435059e-01,  7.75855780e-01,\n",
              "         7.23576546e-02,  2.85248786e-01,  3.00164610e-01,\n",
              "        -9.77069676e-01,  3.74578893e-01,  2.75690943e-01,\n",
              "        -2.30086595e-01]], dtype=float32)"
            ]
          },
          "metadata": {
            "tags": []
          },
          "execution_count": 32
        }
      ]
    },
    {
      "cell_type": "code",
      "metadata": {
        "id": "CQzHFz85G40Q",
        "colab": {
          "base_uri": "https://localhost:8080/"
        },
        "outputId": "fb61faab-16e8-47be-8927-65795bffe966"
      },
      "source": [
        "hidden1_tf_post = model_tf.layers[0]\n",
        "weights_tf_post = hidden1_tf_post.get_weights()\n",
        "weights_tf_post[2]"
      ],
      "execution_count": 33,
      "outputs": [
        {
          "output_type": "execute_result",
          "data": {
            "text/plain": [
              "array([-8.11980590e-02, -2.39868611e-02, -5.63059747e-02, -4.80237044e-02,\n",
              "       -1.21956971e-02, -5.54294772e-02, -3.37608494e-02, -9.15590301e-02,\n",
              "       -9.39922482e-02, -7.75839761e-02, -4.21859957e-02, -1.46503029e-02,\n",
              "       -9.09323320e-02, -2.93196496e-02, -7.83752650e-02, -7.91487694e-02,\n",
              "       -3.88904847e-02, -6.33504540e-02, -3.94613966e-02, -5.13177142e-02,\n",
              "       -4.38517295e-02, -3.00078504e-02, -3.52010801e-02, -1.50183337e-02,\n",
              "       -6.05936199e-02, -3.46694477e-02, -8.82116379e-04, -4.73561697e-02,\n",
              "       -2.81042270e-02,  4.26244773e-02, -5.77410832e-02, -2.50765830e-02,\n",
              "       -3.81298661e-02, -4.50237915e-02, -6.05408475e-03, -4.40115929e-02,\n",
              "       -2.84396522e-02, -6.88235983e-02, -9.36466977e-02, -1.18601676e-02,\n",
              "       -4.65706401e-02, -4.23717909e-02, -3.53377275e-02, -6.66062236e-02,\n",
              "       -5.77750169e-02, -4.37562503e-02, -4.66649234e-02, -1.32994372e-02,\n",
              "       -7.07967579e-02, -2.90949550e-02, -4.14395370e-02, -4.21877131e-02,\n",
              "       -3.78299542e-02, -3.98706011e-02, -4.63398099e-02, -6.12257905e-02,\n",
              "       -3.93210836e-02, -7.26442412e-02, -6.61221668e-02, -2.76514385e-02,\n",
              "       -1.69108547e-02, -5.49604036e-02, -3.30513604e-02, -8.36510882e-02,\n",
              "       -4.00160030e-02, -3.35170366e-02, -1.23797171e-01, -4.44094092e-02,\n",
              "       -3.85604016e-02, -4.70208973e-02, -3.78905274e-02, -1.50434440e-04,\n",
              "       -2.51127854e-02, -2.00095698e-02, -4.48619537e-02, -2.78761815e-02,\n",
              "       -1.13771625e-01, -2.03553494e-02, -8.28172415e-02, -8.80357549e-02,\n",
              "       -4.61370163e-02, -1.47158742e-01, -4.69797216e-02, -4.53036390e-02,\n",
              "       -4.37339246e-02, -5.23158815e-03, -1.00155622e-01, -4.17157002e-02,\n",
              "       -4.63137180e-02, -8.80704373e-02, -2.28732247e-02, -3.95808257e-02,\n",
              "       -4.61975411e-02, -3.79349291e-02, -3.41055505e-02, -1.13215350e-01,\n",
              "       -6.56797513e-02, -7.85550028e-02, -3.21290642e-02, -5.58604710e-02,\n",
              "        9.38355744e-01,  9.82744753e-01,  9.62623656e-01,  9.80474591e-01,\n",
              "        9.90698636e-01,  9.67470050e-01,  9.67561781e-01,  9.33236837e-01,\n",
              "        9.66025352e-01,  9.31669354e-01,  9.83261049e-01,  9.57031727e-01,\n",
              "        9.82697546e-01,  9.78219271e-01,  9.67535019e-01,  9.65764582e-01,\n",
              "        9.89788890e-01,  9.52638209e-01,  1.00668395e+00,  9.71484244e-01,\n",
              "        9.64585841e-01,  9.72466111e-01,  9.78910804e-01,  9.98832047e-01,\n",
              "        9.60035980e-01,  9.78406370e-01,  1.03491795e+00,  9.76457179e-01,\n",
              "        9.82763469e-01,  1.16596329e+00,  9.53272045e-01,  9.85492826e-01,\n",
              "        9.82287884e-01,  9.40413952e-01,  9.85375941e-01,  9.59220707e-01,\n",
              "        9.79906857e-01,  9.37245607e-01,  9.45385575e-01,  9.91386294e-01,\n",
              "        9.57313180e-01,  1.00622916e+00,  9.82602298e-01,  9.60706651e-01,\n",
              "        9.64721560e-01,  9.72308517e-01,  9.81403708e-01,  9.99362707e-01,\n",
              "        9.79202569e-01,  9.76755083e-01,  9.74370897e-01,  9.65599358e-01,\n",
              "        9.78239655e-01,  9.68008578e-01,  9.80402052e-01,  9.31676149e-01,\n",
              "        9.77592587e-01,  9.52429831e-01,  9.44017470e-01,  9.76052165e-01,\n",
              "        1.01997912e+00,  9.60581720e-01,  9.81425345e-01,  9.71593320e-01,\n",
              "        9.79518175e-01,  9.72453475e-01,  9.42549169e-01,  9.69423771e-01,\n",
              "        9.84335542e-01,  9.72098827e-01,  9.88482177e-01,  9.98302102e-01,\n",
              "        9.73585844e-01,  9.85971987e-01,  9.53815103e-01,  9.78381097e-01,\n",
              "        1.02110112e+00,  9.44388509e-01,  9.38789308e-01,  9.45943415e-01,\n",
              "        9.78791058e-01,  9.50266182e-01,  9.56363380e-01,  1.00634706e+00,\n",
              "        9.64351773e-01,  9.92718518e-01,  9.42110658e-01,  9.74653482e-01,\n",
              "        9.66084421e-01,  9.70848024e-01,  9.90475178e-01,  9.68773127e-01,\n",
              "        9.98298883e-01,  1.00690258e+00,  9.76402879e-01,  9.55037594e-01,\n",
              "        9.43794131e-01,  1.00566006e+00,  9.74474370e-01,  9.73353863e-01,\n",
              "        7.14315427e-03,  1.38606634e-02,  7.24905916e-03,  3.29334512e-02,\n",
              "       -4.44952101e-02,  4.34702858e-02,  6.02527056e-03,  1.03412289e-02,\n",
              "        5.26183434e-02, -2.51300987e-02, -4.16490324e-02, -3.35182659e-02,\n",
              "       -9.92506072e-02, -2.96240766e-02, -4.21752268e-03, -3.36062945e-02,\n",
              "        9.36517492e-02, -2.14649513e-02,  4.71467488e-02,  5.33613414e-02,\n",
              "       -4.04223129e-02, -1.63794030e-02,  1.88594463e-03, -4.18848693e-02,\n",
              "        3.87056847e-03, -2.91281268e-02, -4.80110496e-02,  4.54874113e-02,\n",
              "       -2.97204833e-02, -1.09071366e-01, -4.93422896e-02,  9.36127268e-03,\n",
              "       -5.01200836e-03,  1.71827078e-02,  1.13032255e-02, -5.03296126e-03,\n",
              "        3.35409455e-02,  2.18547694e-02,  8.51907488e-03, -3.64350304e-02,\n",
              "        1.45613104e-02,  3.82328071e-02,  4.36257757e-02,  5.92363998e-04,\n",
              "       -2.53213868e-02,  9.19569843e-03, -6.21798299e-02, -1.65001322e-02,\n",
              "       -1.08609609e-02,  1.64490193e-02, -9.47907101e-03,  3.60166728e-02,\n",
              "       -2.89950147e-02,  1.51056182e-02, -3.00796051e-03,  6.62836572e-03,\n",
              "        3.90258022e-02, -6.28910586e-02,  2.10184474e-02, -1.10847587e-02,\n",
              "        2.08763741e-02,  1.13443015e-02, -5.59715331e-02, -6.67595817e-03,\n",
              "        4.49498631e-02, -5.98064344e-03,  1.19742975e-02, -3.90182324e-02,\n",
              "       -7.95815736e-02,  4.97947149e-02, -1.43595627e-02, -2.84758899e-02,\n",
              "       -4.76376824e-02, -1.59491505e-02, -1.49571449e-02, -5.90292644e-03,\n",
              "        9.29934457e-02, -1.85803033e-03, -8.96620448e-04,  1.72903221e-02,\n",
              "       -4.39972952e-02,  3.61487865e-02, -3.08373161e-02, -6.22314550e-02,\n",
              "       -2.69328281e-02, -3.49339955e-02,  2.71422486e-03,  1.87626295e-02,\n",
              "       -4.60605808e-02,  5.32345250e-02, -3.39816585e-02,  1.91414468e-02,\n",
              "        5.71926385e-02,  4.02360857e-02,  2.72911955e-02,  6.63685799e-02,\n",
              "       -2.13926844e-03, -8.53335336e-02,  4.94797044e-02,  6.31558970e-02,\n",
              "       -7.54788667e-02, -2.55820062e-02, -4.45293747e-02, -3.89791317e-02,\n",
              "       -2.96542700e-02, -4.13374789e-02, -2.30270661e-02, -9.23575163e-02,\n",
              "       -1.08192526e-01, -6.67492971e-02, -3.85472961e-02, -3.07691209e-02,\n",
              "       -8.42471048e-02, -4.22569998e-02, -8.12829360e-02, -7.10642859e-02,\n",
              "       -4.74975929e-02, -7.05030635e-02, -3.02941874e-02, -5.31220213e-02,\n",
              "       -2.54164394e-02, -5.22553064e-02, -4.42353971e-02, -3.31768431e-02,\n",
              "       -5.48799969e-02, -3.78153138e-02, -2.38068942e-02, -5.86096197e-02,\n",
              "       -4.30290438e-02, -7.16477633e-02, -5.32755330e-02, -2.26599965e-02,\n",
              "       -4.31719907e-02, -5.44605181e-02, -6.80596149e-03, -3.85494903e-02,\n",
              "       -3.85019928e-02, -8.13720971e-02, -9.68723074e-02, -3.19281332e-02,\n",
              "       -5.14772646e-02, -3.12435459e-02, -3.18409987e-02, -4.89605442e-02,\n",
              "       -6.20754845e-02, -5.12816459e-02, -4.57610227e-02, -2.69179177e-02,\n",
              "       -8.77912939e-02, -3.75943668e-02, -4.98399138e-02, -5.09383604e-02,\n",
              "       -4.92521971e-02, -4.39525954e-02, -5.14986962e-02, -6.29830062e-02,\n",
              "       -4.11746874e-02, -4.28447425e-02, -4.90506701e-02, -3.41032147e-02,\n",
              "       -2.82302927e-02, -6.82138801e-02, -5.95020689e-02, -8.54516029e-02,\n",
              "       -3.52742635e-02, -3.00000906e-02, -1.26287028e-01, -4.51111682e-02,\n",
              "       -4.69112061e-02, -4.09709439e-02, -3.04333363e-02, -2.10044682e-02,\n",
              "       -3.01472247e-02, -2.47972533e-02, -4.80041355e-02, -4.09548134e-02,\n",
              "       -1.63816720e-01, -2.22524554e-02, -9.26308259e-02, -7.10219741e-02,\n",
              "       -5.97915649e-02, -1.63969651e-01, -4.08066064e-02, -4.20661643e-02,\n",
              "       -4.18237820e-02, -2.49929391e-02, -7.79007748e-02, -4.75354232e-02,\n",
              "       -6.35606200e-02, -8.55174810e-02, -4.49256413e-02, -3.02888267e-02,\n",
              "       -3.13538313e-02, -2.49364879e-02, -3.89472283e-02, -1.07358180e-01,\n",
              "       -9.26856697e-02, -8.25094432e-02, -3.40357348e-02, -4.86347750e-02],\n",
              "      dtype=float32)"
            ]
          },
          "metadata": {
            "tags": []
          },
          "execution_count": 33
        }
      ]
    },
    {
      "cell_type": "markdown",
      "metadata": {
        "id": "7zxy7PuBABMp"
      },
      "source": [
        "## 6. Evaluation"
      ]
    },
    {
      "cell_type": "markdown",
      "metadata": {
        "id": "gW2uSyJpdWY3"
      },
      "source": [
        "### a) Prediction comparing to the test set"
      ]
    },
    {
      "cell_type": "code",
      "metadata": {
        "id": "ebAV_YmhsfZ3"
      },
      "source": [
        "test_inputs_overlap_tf = x_train[-12:].tolist()"
      ],
      "execution_count": 34,
      "outputs": []
    },
    {
      "cell_type": "code",
      "metadata": {
        "id": "0mVptqlJsfQr",
        "colab": {
          "base_uri": "https://localhost:8080/"
        },
        "outputId": "700d4f38-380e-4329-9d7f-94ef6855e809"
      },
      "source": [
        "test_inputs_overlap_tf"
      ],
      "execution_count": 35,
      "outputs": [
        {
          "output_type": "execute_result",
          "data": {
            "text/plain": [
              "[[0.12527477741241455],\n",
              " [0.046153903007507324],\n",
              " [0.3274726867675781],\n",
              " [0.28351664543151855],\n",
              " [0.3890111446380615],\n",
              " [0.6175825595855713],\n",
              " [0.951648473739624],\n",
              " [1.000000238418579],\n",
              " [0.5780220031738281],\n",
              " [0.3318682909011841],\n",
              " [0.13406598567962646],\n",
              " [0.32307708263397217]]"
            ]
          },
          "metadata": {
            "tags": []
          },
          "execution_count": 35
        }
      ]
    },
    {
      "cell_type": "code",
      "metadata": {
        "id": "qfu7OuRpsfOU"
      },
      "source": [
        "for i in range(12):\n",
        "    x_test_seq_tf = tf.convert_to_tensor(test_inputs_overlap_tf[-12:])\n",
        "    x_test_seq_tf = tf.expand_dims(x_test_seq_tf,axis=0)\n",
        "    pred_tf = tf.constant(model_tf(x_test_seq_tf)).numpy()\n",
        "    test_inputs_overlap_tf.append([pred_tf.item()])"
      ],
      "execution_count": 36,
      "outputs": []
    },
    {
      "cell_type": "code",
      "metadata": {
        "id": "qnQT18UBsfLi",
        "colab": {
          "base_uri": "https://localhost:8080/"
        },
        "outputId": "94112da0-c7f8-48d4-cb85-88bf5b59d2f2"
      },
      "source": [
        "test_inputs_overlap_tf[-12:]"
      ],
      "execution_count": 37,
      "outputs": [
        {
          "output_type": "execute_result",
          "data": {
            "text/plain": [
              "[[0.4993186891078949],\n",
              " [0.7795851230621338],\n",
              " [1.1664642095565796],\n",
              " [1.4866559505462646],\n",
              " [1.610286831855774],\n",
              " [1.5296121835708618],\n",
              " [1.3120981454849243],\n",
              " [0.994793713092804],\n",
              " [0.6434371471405029],\n",
              " [0.4144556522369385],\n",
              " [0.38520902395248413],\n",
              " [0.5134952068328857]]"
            ]
          },
          "metadata": {
            "tags": []
          },
          "execution_count": 37
        }
      ]
    },
    {
      "cell_type": "code",
      "metadata": {
        "id": "Qi6zm_6UsfI4",
        "colab": {
          "base_uri": "https://localhost:8080/"
        },
        "outputId": "1d37b9bb-c957-4d09-e06b-de0a41c4bd95"
      },
      "source": [
        "overlap_predictions_tf = scaler.inverse_transform(np.array(test_inputs_overlap_tf[-12:]).reshape(-1, 1))\n",
        "print(overlap_predictions_tf)"
      ],
      "execution_count": 38,
      "outputs": [
        {
          "output_type": "stream",
          "text": [
            "[[445.09497495]\n",
            " [508.85558572]\n",
            " [596.87057382]\n",
            " [669.71419152]\n",
            " [697.84021572]\n",
            " [679.48673408]\n",
            " [630.00229271]\n",
            " [557.81553768]\n",
            " [477.88192263]\n",
            " [425.78863496]\n",
            " [419.13502733]\n",
            " [448.32013258]]\n"
          ],
          "name": "stdout"
        }
      ]
    },
    {
      "cell_type": "code",
      "metadata": {
        "id": "Weio3VG-sfGJ",
        "colab": {
          "base_uri": "https://localhost:8080/",
          "height": 336
        },
        "outputId": "e984627c-6ff8-4457-a611-675d0f3e2fb3"
      },
      "source": [
        "plt.title('Month vs Passenger')\n",
        "plt.ylabel('Total Passengers')\n",
        "plt.grid(True)\n",
        "plt.autoscale(axis='x', tight=True)\n",
        "plt.plot(flight_data['passengers'])\n",
        "plt.plot(np.arange(132, 144, 1),overlap_predictions_tf)\n",
        "plt.legend(['actual', 'predicted'], loc='upper left')\n",
        "plt.show()"
      ],
      "execution_count": 39,
      "outputs": [
        {
          "output_type": "display_data",
          "data": {
            "image/png": "[encoded data removed]",
            "text/plain": [
              "<Figure size 1080x360 with 1 Axes>"
            ]
          },
          "metadata": {
            "tags": [],
            "needs_background": "light"
          }
        }
      ]
    },
    {
      "cell_type": "code",
      "metadata": {
        "id": "hP38zzUqsfDk",
        "colab": {
          "base_uri": "https://localhost:8080/",
          "height": 336
        },
        "outputId": "d86f52a0-3ea4-463f-e65b-5e9626647356"
      },
      "source": [
        "plt.title('Month vs Passenger')\n",
        "plt.ylabel('Total Passengers')\n",
        "plt.grid(True)\n",
        "plt.autoscale(axis='x', tight=True)\n",
        "plt.plot(flight_data['passengers'][-12:])\n",
        "plt.plot(np.arange(132, 144, 1),overlap_predictions_tf)\n",
        "plt.legend(['actual', 'predicted'], loc='upper left')\n",
        "plt.show()"
      ],
      "execution_count": 40,
      "outputs": [
        {
          "output_type": "display_data",
          "data": {
            "image/png": "[encoded data removed]",
            "text/plain": [
              "<Figure size 1080x360 with 1 Axes>"
            ]
          },
          "metadata": {
            "tags": [],
            "needs_background": "light"
          }
        }
      ]
    },
    {
      "cell_type": "markdown",
      "metadata": {
        "id": "gxF0f1vBdZsz"
      },
      "source": [
        "### b) Prediction into the future using the test set"
      ]
    },
    {
      "cell_type": "code",
      "metadata": {
        "id": "9piVIwCWVPsr"
      },
      "source": [
        "scaler = MinMaxScaler(feature_range=(-1, 1))\n",
        "x_test_tf = scaler.fit_transform(x_test.reshape(-1, 1))"
      ],
      "execution_count": 41,
      "outputs": []
    },
    {
      "cell_type": "code",
      "metadata": {
        "id": "EZbAzH9aFA4u"
      },
      "source": [
        "test_inputs_tf = x_test_tf[-12:].tolist()"
      ],
      "execution_count": 42,
      "outputs": []
    },
    {
      "cell_type": "code",
      "metadata": {
        "id": "14aNvzVXAWbE",
        "colab": {
          "base_uri": "https://localhost:8080/"
        },
        "outputId": "df22bbc9-25c0-4d98-e4ce-ce38bd78104e"
      },
      "source": [
        "test_inputs_tf"
      ],
      "execution_count": 43,
      "outputs": [
        {
          "output_type": "execute_result",
          "data": {
            "text/plain": [
              "[[-0.7672414779663086],\n",
              " [-0.9913794994354248],\n",
              " [-0.7500002384185791],\n",
              " [-0.38793110847473145],\n",
              " [-0.2931036949157715],\n",
              " [0.25],\n",
              " [1.0],\n",
              " [0.8620686531066895],\n",
              " [0.01724100112915039],\n",
              " [-0.38793110847473145],\n",
              " [-1.000000238418579],\n",
              " [-0.6379311084747314]]"
            ]
          },
          "metadata": {
            "tags": []
          },
          "execution_count": 43
        }
      ]
    },
    {
      "cell_type": "code",
      "metadata": {
        "id": "FBe8SByn_mQN"
      },
      "source": [
        "for i in range(12):\n",
        "    x_test_seq_tf = tf.convert_to_tensor(test_inputs_tf[-12:])\n",
        "    x_test_seq_tf = tf.expand_dims(x_test_seq_tf,axis=0)\n",
        "    pred_tf = tf.constant(model_tf(x_test_seq_tf)).numpy()\n",
        "    test_inputs_tf.append([pred_tf.item()])"
      ],
      "execution_count": 44,
      "outputs": []
    },
    {
      "cell_type": "code",
      "metadata": {
        "id": "TwYjxE6LEtQI",
        "colab": {
          "base_uri": "https://localhost:8080/"
        },
        "outputId": "cb7669c5-a79b-4e3b-f02b-b3ca03b49348"
      },
      "source": [
        "test_inputs_tf[-12:]"
      ],
      "execution_count": 45,
      "outputs": [
        {
          "output_type": "execute_result",
          "data": {
            "text/plain": [
              "[[-0.4344428479671478],\n",
              " [-0.230558842420578],\n",
              " [0.01953166164457798],\n",
              " [0.2757662832736969],\n",
              " [0.4761544167995453],\n",
              " [0.5827304720878601],\n",
              " [0.5334532856941223],\n",
              " [0.2731383144855499],\n",
              " [-0.0943015068769455],\n",
              " [-0.28579264879226685],\n",
              " [-0.26944008469581604],\n",
              " [-0.25707948207855225]]"
            ]
          },
          "metadata": {
            "tags": []
          },
          "execution_count": 45
        }
      ]
    },
    {
      "cell_type": "code",
      "metadata": {
        "id": "lUg3t4FpswJa",
        "colab": {
          "base_uri": "https://localhost:8080/"
        },
        "outputId": "3886f59a-fe15-4bbd-da0e-f3bd3174572e"
      },
      "source": [
        "predictions_tf = scaler.inverse_transform(np.array(test_inputs_tf[-12:]).reshape(-1, 1))\n",
        "print(predictions_tf)"
      ],
      "execution_count": 46,
      "outputs": [
        {
          "output_type": "stream",
          "text": [
            "[[455.60465041]\n",
            " [479.25519514]\n",
            " [508.26569372]\n",
            " [537.98890994]\n",
            " [561.23393351]\n",
            " [573.59675597]\n",
            " [567.88060233]\n",
            " [537.68406556]\n",
            " [495.06104612]\n",
            " [472.84807358]\n",
            " [474.74497102]\n",
            " [476.17880093]]\n"
          ],
          "name": "stdout"
        }
      ]
    },
    {
      "cell_type": "code",
      "metadata": {
        "id": "P8l-_lbnhJay",
        "colab": {
          "base_uri": "https://localhost:8080/",
          "height": 336
        },
        "outputId": "c7792811-ea75-4519-ea86-106ce94dd2e2"
      },
      "source": [
        "plt.title('Month vs Passenger')\n",
        "plt.ylabel('Total Passengers')\n",
        "plt.grid(True)\n",
        "plt.autoscale(axis='x', tight=True)\n",
        "plt.plot(flight_data['passengers'])\n",
        "plt.plot(np.arange(144, 156, 1),predictions_tf)\n",
        "plt.legend(['actual', 'predicted'], loc='upper left')\n",
        "plt.show()"
      ],
      "execution_count": 47,
      "outputs": [
        {
          "output_type": "display_data",
          "data": {
            "image/png": "[encoded data removed]",
            "text/plain": [
              "<Figure size 1080x360 with 1 Axes>"
            ]
          },
          "metadata": {
            "tags": [],
            "needs_background": "light"
          }
        }
      ]
    },
    {
      "cell_type": "code",
      "metadata": {
        "id": "WngykpvOiJXx",
        "colab": {
          "base_uri": "https://localhost:8080/",
          "height": 336
        },
        "outputId": "76459f08-9b21-4a18-851b-de93c405310e"
      },
      "source": [
        "plt.title('Month vs Passenger')\n",
        "plt.ylabel('Total Passengers')\n",
        "plt.grid(True)\n",
        "plt.autoscale(axis='x', tight=True)\n",
        "plt.plot(flight_data['passengers'][-12:])\n",
        "plt.plot(np.arange(144, 156, 1),predictions_tf)\n",
        "plt.legend(['actual', 'predicted'], loc='upper left')\n",
        "plt.show()"
      ],
      "execution_count": 48,
      "outputs": [
        {
          "output_type": "display_data",
          "data": {
            "image/png": "[encoded data removed]",
            "text/plain": [
              "<Figure size 1080x360 with 1 Axes>"
            ]
          },
          "metadata": {
            "tags": [],
            "needs_background": "light"
          }
        }
      ]
    },
    {
      "cell_type": "markdown",
      "metadata": {
        "id": "myRuw2xWhkMR"
      },
      "source": [
        "## Appendix"
      ]
    },
    {
      "cell_type": "code",
      "metadata": {
        "id": "1zBb82HL7Bgd"
      },
      "source": [
        "class LSTM_TF(tf.keras.Model):\n",
        "    def __init__(self, input_size=1, hidden_layer_size=100, output_size=1):\n",
        "        super(LSTM_TF, self).__init__()\n",
        "        self.hidden_layer_size = hidden_layer_size\n",
        "        self.lstm = keras.layers.LSTM(hidden_layer_size, \n",
        "                                      input_shape=(12, input_size), \n",
        "                                      kernel_initializer = initializer_uniform,\n",
        "                                      recurrent_initializer = initializer_recurrent,\n",
        "                                      unit_forget_bias = False,\n",
        "                                      bias_initializer = initializer_zeros,\n",
        "                                      batch_size = 120,\n",
        "                                      stateful=True)\n",
        "        self.lstm.build((1,input_size))\n",
        "        self.dense = keras.layers.Dense(output_size, \n",
        "                                        kernel_initializer=initializer_uniform, \n",
        "                                        bias_initializer=initializer_zeros)\n",
        "\n",
        "    def call(self, inputs, training=False):\n",
        "        self.init_hidden()\n",
        "        sequence = tf.expand_dims(inputs,axis=0)\n",
        "        sequence = tf.expand_dims(sequence,axis=2)\n",
        "        lstm_out = self.lstm(sequence)\n",
        "        output = self.dense(lstm_out)\n",
        "        return output\n",
        "\n",
        "    def init_hidden(self):\n",
        "        h0 = np.zeros((1, self.hidden_layer_size))\n",
        "        c0 = np.zeros((1, self.hidden_layer_size))\n",
        "        self.lstm.reset_states(states=[h0,c0])"
      ],
      "execution_count": 49,
      "outputs": []
    },
    {
      "cell_type": "code",
      "metadata": {
        "id": "9gJSYBxX-KSz"
      },
      "source": [
        "model_tf = LSTM_TF()"
      ],
      "execution_count": 50,
      "outputs": []
    }
  ]
}